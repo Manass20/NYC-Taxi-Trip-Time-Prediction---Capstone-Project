{
  "cells": [
    {
      "cell_type": "markdown",
      "metadata": {
        "id": "view-in-github",
        "colab_type": "text"
      },
      "source": [
        "<a href=\"https://colab.research.google.com/github/Manass20/NYC-Taxi-Trip-Time-Prediction---Capstone-Project/blob/main/NYC_Taxi_Trip_Time_Prediction_Capstone_Project.ipynb\" target=\"_parent\"><img src=\"https://colab.research.google.com/assets/colab-badge.svg\" alt=\"Open In Colab\"/></a>"
      ]
    },
    {
      "cell_type": "markdown",
      "metadata": {
        "id": "tOGC-qoyhJeX"
      },
      "source": [
        "# <b><u> Project Title : Taxi trip time Prediction : Predicting total ride duration of taxi trips in New York City</u></b>"
      ]
    },
    {
      "cell_type": "markdown",
      "metadata": {
        "id": "Y06xIdG26kRF"
      },
      "source": [
        "## <b> Problem Description </b>\n",
        "\n",
        "### Your task is to build a model that predicts the total ride duration of taxi trips in New York City. Your primary dataset is one released by the NYC Taxi and Limousine Commission, which includes pickup time, geo-coordinates, number of passengers, and several other variables."
      ]
    },
    {
      "cell_type": "markdown",
      "metadata": {
        "id": "WWeU1f9bwqQq"
      },
      "source": [
        "## <b> Data Description </b>\n",
        "\n",
        "### The dataset is based on the 2016 NYC Yellow Cab trip record data made available in Big Query on Google Cloud Platform. The data was originally published by the NYC Taxi and Limousine Commission (TLC). The data was sampled and cleaned for the purposes of this project. Based on individual trip attributes, you should predict the duration of each trip in the test set.\n",
        "\n",
        "### <b>NYC Taxi Data.csv</b> - the training set (contains 1458644 trip records)\n",
        "\n",
        "\n",
        "### Data fields\n",
        "* #### id - a unique identifier for each trip\n",
        "* #### vendor_id - a code indicating the provider associated with the trip record\n",
        "* #### pickup_datetime - date and time when the meter was engaged\n",
        "* #### dropoff_datetime - date and time when the meter was disengaged\n",
        "* #### passenger_count - the number of passengers in the vehicle (driver entered value)\n",
        "* #### pickup_longitude - the longitude where the meter was engaged\n",
        "* #### pickup_latitude - the latitude where the meter was engaged\n",
        "* #### dropoff_longitude - the longitude where the meter was disengaged\n",
        "* #### dropoff_latitude - the latitude where the meter was disengaged\n",
        "* #### store_and_fwd_flag - This flag indicates whether the trip record was held in vehicle memory before sending to the vendor because the vehicle did not have a connection to the server - Y=store and forward; N=not a store and forward trip\n",
        "* #### trip_duration - duration of the trip in seconds"
      ]
    },
    {
      "cell_type": "markdown",
      "metadata": {
        "id": "fhoVlUaGHdpM"
      },
      "source": [
        "## **Import libraries:**"
      ]
    },
    {
      "cell_type": "code",
      "execution_count": null,
      "metadata": {
        "id": "dByMsuzT8Tnw"
      },
      "outputs": [],
      "source": [
        "#Importing the libraries which will be required for this project.\n",
        "import numpy as np\n",
        "import pandas as pd\n",
        "import seaborn as sns\n",
        "import matplotlib.pyplot as plt\n",
        "import datetime as dt\n",
        "from sklearn.linear_model import LinearRegression\n",
        "from sklearn.ensemble import RandomForestRegressor\n",
        "from xgboost import XGBRegressor\n",
        "from sklearn import metrics\n",
        "from sklearn.model_selection import train_test_split, GridSearchCV\n",
        "import statsmodels.formula.api as sm\n",
        "from sklearn.model_selection import learning_curve\n",
        "from sklearn.model_selection import ShuffleSplit\n",
        "import warnings; warnings.simplefilter('ignore')"
      ]
    },
    {
      "cell_type": "markdown",
      "metadata": {
        "id": "nAW9mYVRHvqp"
      },
      "source": [
        "## **Mounting Google Drive:**"
      ]
    },
    {
      "cell_type": "code",
      "execution_count": null,
      "metadata": {
        "colab": {
          "base_uri": "https://localhost:8080/"
        },
        "id": "vypAVOuHJGpI",
        "outputId": "33127130-5714-4266-dc53-5c7b52edb94e"
      },
      "outputs": [
        {
          "name": "stdout",
          "output_type": "stream",
          "text": [
            "Drive already mounted at /content/drive; to attempt to forcibly remount, call drive.mount(\"/content/drive\", force_remount=True).\n"
          ]
        }
      ],
      "source": [
        "from google.colab import drive\n",
        "drive.mount('/content/drive')"
      ]
    },
    {
      "cell_type": "code",
      "execution_count": null,
      "metadata": {
        "id": "ehWqiLGEJLhV"
      },
      "outputs": [],
      "source": [
        "\n",
        "data = pd.read_csv('/content/drive/MyDrive/Colab Notebooks/AlmaBetter/PROJECTS/ML - Regression (NYC Taxi Trip Time Prediction)/NYC Taxi Data.csv')"
      ]
    },
    {
      "cell_type": "markdown",
      "metadata": {
        "id": "8k2XDkoSKO2j"
      },
      "source": [
        "## **Overview of the Dataset:**"
      ]
    },
    {
      "cell_type": "code",
      "execution_count": null,
      "metadata": {
        "colab": {
          "base_uri": "https://localhost:8080/",
          "height": 357
        },
        "id": "P-o8EqIzKEWV",
        "outputId": "7d958008-67b1-4cef-d83e-61bbd63b021a"
      },
      "outputs": [
        {
          "data": {
            "text/html": [
              "\n",
              "  <div id=\"df-a2212a8a-36cc-4a70-b8fc-3cfe7475efa6\">\n",
              "    <div class=\"colab-df-container\">\n",
              "      <div>\n",
              "<style scoped>\n",
              "    .dataframe tbody tr th:only-of-type {\n",
              "        vertical-align: middle;\n",
              "    }\n",
              "\n",
              "    .dataframe tbody tr th {\n",
              "        vertical-align: top;\n",
              "    }\n",
              "\n",
              "    .dataframe thead th {\n",
              "        text-align: right;\n",
              "    }\n",
              "</style>\n",
              "<table border=\"1\" class=\"dataframe\">\n",
              "  <thead>\n",
              "    <tr style=\"text-align: right;\">\n",
              "      <th></th>\n",
              "      <th>id</th>\n",
              "      <th>vendor_id</th>\n",
              "      <th>pickup_datetime</th>\n",
              "      <th>dropoff_datetime</th>\n",
              "      <th>passenger_count</th>\n",
              "      <th>pickup_longitude</th>\n",
              "      <th>pickup_latitude</th>\n",
              "      <th>dropoff_longitude</th>\n",
              "      <th>dropoff_latitude</th>\n",
              "      <th>store_and_fwd_flag</th>\n",
              "      <th>trip_duration</th>\n",
              "    </tr>\n",
              "  </thead>\n",
              "  <tbody>\n",
              "    <tr>\n",
              "      <th>0</th>\n",
              "      <td>id2875421</td>\n",
              "      <td>2</td>\n",
              "      <td>2016-03-14 17:24:55</td>\n",
              "      <td>2016-03-14 17:32:30</td>\n",
              "      <td>1</td>\n",
              "      <td>-73.982155</td>\n",
              "      <td>40.767937</td>\n",
              "      <td>-73.964630</td>\n",
              "      <td>40.765602</td>\n",
              "      <td>N</td>\n",
              "      <td>455</td>\n",
              "    </tr>\n",
              "    <tr>\n",
              "      <th>1</th>\n",
              "      <td>id2377394</td>\n",
              "      <td>1</td>\n",
              "      <td>2016-06-12 00:43:35</td>\n",
              "      <td>2016-06-12 00:54:38</td>\n",
              "      <td>1</td>\n",
              "      <td>-73.980415</td>\n",
              "      <td>40.738564</td>\n",
              "      <td>-73.999481</td>\n",
              "      <td>40.731152</td>\n",
              "      <td>N</td>\n",
              "      <td>663</td>\n",
              "    </tr>\n",
              "    <tr>\n",
              "      <th>2</th>\n",
              "      <td>id3858529</td>\n",
              "      <td>2</td>\n",
              "      <td>2016-01-19 11:35:24</td>\n",
              "      <td>2016-01-19 12:10:48</td>\n",
              "      <td>1</td>\n",
              "      <td>-73.979027</td>\n",
              "      <td>40.763939</td>\n",
              "      <td>-74.005333</td>\n",
              "      <td>40.710087</td>\n",
              "      <td>N</td>\n",
              "      <td>2124</td>\n",
              "    </tr>\n",
              "    <tr>\n",
              "      <th>3</th>\n",
              "      <td>id3504673</td>\n",
              "      <td>2</td>\n",
              "      <td>2016-04-06 19:32:31</td>\n",
              "      <td>2016-04-06 19:39:40</td>\n",
              "      <td>1</td>\n",
              "      <td>-74.010040</td>\n",
              "      <td>40.719971</td>\n",
              "      <td>-74.012268</td>\n",
              "      <td>40.706718</td>\n",
              "      <td>N</td>\n",
              "      <td>429</td>\n",
              "    </tr>\n",
              "    <tr>\n",
              "      <th>4</th>\n",
              "      <td>id2181028</td>\n",
              "      <td>2</td>\n",
              "      <td>2016-03-26 13:30:55</td>\n",
              "      <td>2016-03-26 13:38:10</td>\n",
              "      <td>1</td>\n",
              "      <td>-73.973053</td>\n",
              "      <td>40.793209</td>\n",
              "      <td>-73.972923</td>\n",
              "      <td>40.782520</td>\n",
              "      <td>N</td>\n",
              "      <td>435</td>\n",
              "    </tr>\n",
              "  </tbody>\n",
              "</table>\n",
              "</div>\n",
              "      <button class=\"colab-df-convert\" onclick=\"convertToInteractive('df-a2212a8a-36cc-4a70-b8fc-3cfe7475efa6')\"\n",
              "              title=\"Convert this dataframe to an interactive table.\"\n",
              "              style=\"display:none;\">\n",
              "        \n",
              "  <svg xmlns=\"http://www.w3.org/2000/svg\" height=\"24px\"viewBox=\"0 0 24 24\"\n",
              "       width=\"24px\">\n",
              "    <path d=\"M0 0h24v24H0V0z\" fill=\"none\"/>\n",
              "    <path d=\"M18.56 5.44l.94 2.06.94-2.06 2.06-.94-2.06-.94-.94-2.06-.94 2.06-2.06.94zm-11 1L8.5 8.5l.94-2.06 2.06-.94-2.06-.94L8.5 2.5l-.94 2.06-2.06.94zm10 10l.94 2.06.94-2.06 2.06-.94-2.06-.94-.94-2.06-.94 2.06-2.06.94z\"/><path d=\"M17.41 7.96l-1.37-1.37c-.4-.4-.92-.59-1.43-.59-.52 0-1.04.2-1.43.59L10.3 9.45l-7.72 7.72c-.78.78-.78 2.05 0 2.83L4 21.41c.39.39.9.59 1.41.59.51 0 1.02-.2 1.41-.59l7.78-7.78 2.81-2.81c.8-.78.8-2.07 0-2.86zM5.41 20L4 18.59l7.72-7.72 1.47 1.35L5.41 20z\"/>\n",
              "  </svg>\n",
              "      </button>\n",
              "      \n",
              "  <style>\n",
              "    .colab-df-container {\n",
              "      display:flex;\n",
              "      flex-wrap:wrap;\n",
              "      gap: 12px;\n",
              "    }\n",
              "\n",
              "    .colab-df-convert {\n",
              "      background-color: #E8F0FE;\n",
              "      border: none;\n",
              "      border-radius: 50%;\n",
              "      cursor: pointer;\n",
              "      display: none;\n",
              "      fill: #1967D2;\n",
              "      height: 32px;\n",
              "      padding: 0 0 0 0;\n",
              "      width: 32px;\n",
              "    }\n",
              "\n",
              "    .colab-df-convert:hover {\n",
              "      background-color: #E2EBFA;\n",
              "      box-shadow: 0px 1px 2px rgba(60, 64, 67, 0.3), 0px 1px 3px 1px rgba(60, 64, 67, 0.15);\n",
              "      fill: #174EA6;\n",
              "    }\n",
              "\n",
              "    [theme=dark] .colab-df-convert {\n",
              "      background-color: #3B4455;\n",
              "      fill: #D2E3FC;\n",
              "    }\n",
              "\n",
              "    [theme=dark] .colab-df-convert:hover {\n",
              "      background-color: #434B5C;\n",
              "      box-shadow: 0px 1px 3px 1px rgba(0, 0, 0, 0.15);\n",
              "      filter: drop-shadow(0px 1px 2px rgba(0, 0, 0, 0.3));\n",
              "      fill: #FFFFFF;\n",
              "    }\n",
              "  </style>\n",
              "\n",
              "      <script>\n",
              "        const buttonEl =\n",
              "          document.querySelector('#df-a2212a8a-36cc-4a70-b8fc-3cfe7475efa6 button.colab-df-convert');\n",
              "        buttonEl.style.display =\n",
              "          google.colab.kernel.accessAllowed ? 'block' : 'none';\n",
              "\n",
              "        async function convertToInteractive(key) {\n",
              "          const element = document.querySelector('#df-a2212a8a-36cc-4a70-b8fc-3cfe7475efa6');\n",
              "          const dataTable =\n",
              "            await google.colab.kernel.invokeFunction('convertToInteractive',\n",
              "                                                     [key], {});\n",
              "          if (!dataTable) return;\n",
              "\n",
              "          const docLinkHtml = 'Like what you see? Visit the ' +\n",
              "            '<a target=\"_blank\" href=https://colab.research.google.com/notebooks/data_table.ipynb>data table notebook</a>'\n",
              "            + ' to learn more about interactive tables.';\n",
              "          element.innerHTML = '';\n",
              "          dataTable['output_type'] = 'display_data';\n",
              "          await google.colab.output.renderOutput(dataTable, element);\n",
              "          const docLink = document.createElement('div');\n",
              "          docLink.innerHTML = docLinkHtml;\n",
              "          element.appendChild(docLink);\n",
              "        }\n",
              "      </script>\n",
              "    </div>\n",
              "  </div>\n",
              "  "
            ],
            "text/plain": [
              "          id  vendor_id      pickup_datetime     dropoff_datetime  \\\n",
              "0  id2875421          2  2016-03-14 17:24:55  2016-03-14 17:32:30   \n",
              "1  id2377394          1  2016-06-12 00:43:35  2016-06-12 00:54:38   \n",
              "2  id3858529          2  2016-01-19 11:35:24  2016-01-19 12:10:48   \n",
              "3  id3504673          2  2016-04-06 19:32:31  2016-04-06 19:39:40   \n",
              "4  id2181028          2  2016-03-26 13:30:55  2016-03-26 13:38:10   \n",
              "\n",
              "   passenger_count  pickup_longitude  pickup_latitude  dropoff_longitude  \\\n",
              "0                1        -73.982155        40.767937         -73.964630   \n",
              "1                1        -73.980415        40.738564         -73.999481   \n",
              "2                1        -73.979027        40.763939         -74.005333   \n",
              "3                1        -74.010040        40.719971         -74.012268   \n",
              "4                1        -73.973053        40.793209         -73.972923   \n",
              "\n",
              "   dropoff_latitude store_and_fwd_flag  trip_duration  \n",
              "0         40.765602                  N            455  \n",
              "1         40.731152                  N            663  \n",
              "2         40.710087                  N           2124  \n",
              "3         40.706718                  N            429  \n",
              "4         40.782520                  N            435  "
            ]
          },
          "execution_count": 8,
          "metadata": {},
          "output_type": "execute_result"
        }
      ],
      "source": [
        "data.head()"
      ]
    },
    {
      "cell_type": "code",
      "execution_count": null,
      "metadata": {
        "colab": {
          "base_uri": "https://localhost:8080/",
          "height": 357
        },
        "id": "L6Xo3aUAKWN7",
        "outputId": "4928c4ac-ba87-4e02-a9ac-46c0ef2ff76a"
      },
      "outputs": [
        {
          "data": {
            "text/html": [
              "\n",
              "  <div id=\"df-36125ee0-d9b0-405d-88ea-dea0b009d33e\">\n",
              "    <div class=\"colab-df-container\">\n",
              "      <div>\n",
              "<style scoped>\n",
              "    .dataframe tbody tr th:only-of-type {\n",
              "        vertical-align: middle;\n",
              "    }\n",
              "\n",
              "    .dataframe tbody tr th {\n",
              "        vertical-align: top;\n",
              "    }\n",
              "\n",
              "    .dataframe thead th {\n",
              "        text-align: right;\n",
              "    }\n",
              "</style>\n",
              "<table border=\"1\" class=\"dataframe\">\n",
              "  <thead>\n",
              "    <tr style=\"text-align: right;\">\n",
              "      <th></th>\n",
              "      <th>id</th>\n",
              "      <th>vendor_id</th>\n",
              "      <th>pickup_datetime</th>\n",
              "      <th>dropoff_datetime</th>\n",
              "      <th>passenger_count</th>\n",
              "      <th>pickup_longitude</th>\n",
              "      <th>pickup_latitude</th>\n",
              "      <th>dropoff_longitude</th>\n",
              "      <th>dropoff_latitude</th>\n",
              "      <th>store_and_fwd_flag</th>\n",
              "      <th>trip_duration</th>\n",
              "    </tr>\n",
              "  </thead>\n",
              "  <tbody>\n",
              "    <tr>\n",
              "      <th>1458639</th>\n",
              "      <td>id2376096</td>\n",
              "      <td>2</td>\n",
              "      <td>2016-04-08 13:31:04</td>\n",
              "      <td>2016-04-08 13:44:02</td>\n",
              "      <td>4</td>\n",
              "      <td>-73.982201</td>\n",
              "      <td>40.745522</td>\n",
              "      <td>-73.994911</td>\n",
              "      <td>40.740170</td>\n",
              "      <td>N</td>\n",
              "      <td>778</td>\n",
              "    </tr>\n",
              "    <tr>\n",
              "      <th>1458640</th>\n",
              "      <td>id1049543</td>\n",
              "      <td>1</td>\n",
              "      <td>2016-01-10 07:35:15</td>\n",
              "      <td>2016-01-10 07:46:10</td>\n",
              "      <td>1</td>\n",
              "      <td>-74.000946</td>\n",
              "      <td>40.747379</td>\n",
              "      <td>-73.970184</td>\n",
              "      <td>40.796547</td>\n",
              "      <td>N</td>\n",
              "      <td>655</td>\n",
              "    </tr>\n",
              "    <tr>\n",
              "      <th>1458641</th>\n",
              "      <td>id2304944</td>\n",
              "      <td>2</td>\n",
              "      <td>2016-04-22 06:57:41</td>\n",
              "      <td>2016-04-22 07:10:25</td>\n",
              "      <td>1</td>\n",
              "      <td>-73.959129</td>\n",
              "      <td>40.768799</td>\n",
              "      <td>-74.004433</td>\n",
              "      <td>40.707371</td>\n",
              "      <td>N</td>\n",
              "      <td>764</td>\n",
              "    </tr>\n",
              "    <tr>\n",
              "      <th>1458642</th>\n",
              "      <td>id2714485</td>\n",
              "      <td>1</td>\n",
              "      <td>2016-01-05 15:56:26</td>\n",
              "      <td>2016-01-05 16:02:39</td>\n",
              "      <td>1</td>\n",
              "      <td>-73.982079</td>\n",
              "      <td>40.749062</td>\n",
              "      <td>-73.974632</td>\n",
              "      <td>40.757107</td>\n",
              "      <td>N</td>\n",
              "      <td>373</td>\n",
              "    </tr>\n",
              "    <tr>\n",
              "      <th>1458643</th>\n",
              "      <td>id1209952</td>\n",
              "      <td>1</td>\n",
              "      <td>2016-04-05 14:44:25</td>\n",
              "      <td>2016-04-05 14:47:43</td>\n",
              "      <td>1</td>\n",
              "      <td>-73.979538</td>\n",
              "      <td>40.781750</td>\n",
              "      <td>-73.972809</td>\n",
              "      <td>40.790585</td>\n",
              "      <td>N</td>\n",
              "      <td>198</td>\n",
              "    </tr>\n",
              "  </tbody>\n",
              "</table>\n",
              "</div>\n",
              "      <button class=\"colab-df-convert\" onclick=\"convertToInteractive('df-36125ee0-d9b0-405d-88ea-dea0b009d33e')\"\n",
              "              title=\"Convert this dataframe to an interactive table.\"\n",
              "              style=\"display:none;\">\n",
              "        \n",
              "  <svg xmlns=\"http://www.w3.org/2000/svg\" height=\"24px\"viewBox=\"0 0 24 24\"\n",
              "       width=\"24px\">\n",
              "    <path d=\"M0 0h24v24H0V0z\" fill=\"none\"/>\n",
              "    <path d=\"M18.56 5.44l.94 2.06.94-2.06 2.06-.94-2.06-.94-.94-2.06-.94 2.06-2.06.94zm-11 1L8.5 8.5l.94-2.06 2.06-.94-2.06-.94L8.5 2.5l-.94 2.06-2.06.94zm10 10l.94 2.06.94-2.06 2.06-.94-2.06-.94-.94-2.06-.94 2.06-2.06.94z\"/><path d=\"M17.41 7.96l-1.37-1.37c-.4-.4-.92-.59-1.43-.59-.52 0-1.04.2-1.43.59L10.3 9.45l-7.72 7.72c-.78.78-.78 2.05 0 2.83L4 21.41c.39.39.9.59 1.41.59.51 0 1.02-.2 1.41-.59l7.78-7.78 2.81-2.81c.8-.78.8-2.07 0-2.86zM5.41 20L4 18.59l7.72-7.72 1.47 1.35L5.41 20z\"/>\n",
              "  </svg>\n",
              "      </button>\n",
              "      \n",
              "  <style>\n",
              "    .colab-df-container {\n",
              "      display:flex;\n",
              "      flex-wrap:wrap;\n",
              "      gap: 12px;\n",
              "    }\n",
              "\n",
              "    .colab-df-convert {\n",
              "      background-color: #E8F0FE;\n",
              "      border: none;\n",
              "      border-radius: 50%;\n",
              "      cursor: pointer;\n",
              "      display: none;\n",
              "      fill: #1967D2;\n",
              "      height: 32px;\n",
              "      padding: 0 0 0 0;\n",
              "      width: 32px;\n",
              "    }\n",
              "\n",
              "    .colab-df-convert:hover {\n",
              "      background-color: #E2EBFA;\n",
              "      box-shadow: 0px 1px 2px rgba(60, 64, 67, 0.3), 0px 1px 3px 1px rgba(60, 64, 67, 0.15);\n",
              "      fill: #174EA6;\n",
              "    }\n",
              "\n",
              "    [theme=dark] .colab-df-convert {\n",
              "      background-color: #3B4455;\n",
              "      fill: #D2E3FC;\n",
              "    }\n",
              "\n",
              "    [theme=dark] .colab-df-convert:hover {\n",
              "      background-color: #434B5C;\n",
              "      box-shadow: 0px 1px 3px 1px rgba(0, 0, 0, 0.15);\n",
              "      filter: drop-shadow(0px 1px 2px rgba(0, 0, 0, 0.3));\n",
              "      fill: #FFFFFF;\n",
              "    }\n",
              "  </style>\n",
              "\n",
              "      <script>\n",
              "        const buttonEl =\n",
              "          document.querySelector('#df-36125ee0-d9b0-405d-88ea-dea0b009d33e button.colab-df-convert');\n",
              "        buttonEl.style.display =\n",
              "          google.colab.kernel.accessAllowed ? 'block' : 'none';\n",
              "\n",
              "        async function convertToInteractive(key) {\n",
              "          const element = document.querySelector('#df-36125ee0-d9b0-405d-88ea-dea0b009d33e');\n",
              "          const dataTable =\n",
              "            await google.colab.kernel.invokeFunction('convertToInteractive',\n",
              "                                                     [key], {});\n",
              "          if (!dataTable) return;\n",
              "\n",
              "          const docLinkHtml = 'Like what you see? Visit the ' +\n",
              "            '<a target=\"_blank\" href=https://colab.research.google.com/notebooks/data_table.ipynb>data table notebook</a>'\n",
              "            + ' to learn more about interactive tables.';\n",
              "          element.innerHTML = '';\n",
              "          dataTable['output_type'] = 'display_data';\n",
              "          await google.colab.output.renderOutput(dataTable, element);\n",
              "          const docLink = document.createElement('div');\n",
              "          docLink.innerHTML = docLinkHtml;\n",
              "          element.appendChild(docLink);\n",
              "        }\n",
              "      </script>\n",
              "    </div>\n",
              "  </div>\n",
              "  "
            ],
            "text/plain": [
              "                id  vendor_id      pickup_datetime     dropoff_datetime  \\\n",
              "1458639  id2376096          2  2016-04-08 13:31:04  2016-04-08 13:44:02   \n",
              "1458640  id1049543          1  2016-01-10 07:35:15  2016-01-10 07:46:10   \n",
              "1458641  id2304944          2  2016-04-22 06:57:41  2016-04-22 07:10:25   \n",
              "1458642  id2714485          1  2016-01-05 15:56:26  2016-01-05 16:02:39   \n",
              "1458643  id1209952          1  2016-04-05 14:44:25  2016-04-05 14:47:43   \n",
              "\n",
              "         passenger_count  pickup_longitude  pickup_latitude  \\\n",
              "1458639                4        -73.982201        40.745522   \n",
              "1458640                1        -74.000946        40.747379   \n",
              "1458641                1        -73.959129        40.768799   \n",
              "1458642                1        -73.982079        40.749062   \n",
              "1458643                1        -73.979538        40.781750   \n",
              "\n",
              "         dropoff_longitude  dropoff_latitude store_and_fwd_flag  trip_duration  \n",
              "1458639         -73.994911         40.740170                  N            778  \n",
              "1458640         -73.970184         40.796547                  N            655  \n",
              "1458641         -74.004433         40.707371                  N            764  \n",
              "1458642         -73.974632         40.757107                  N            373  \n",
              "1458643         -73.972809         40.790585                  N            198  "
            ]
          },
          "execution_count": 9,
          "metadata": {},
          "output_type": "execute_result"
        }
      ],
      "source": [
        "data.tail()"
      ]
    },
    {
      "cell_type": "code",
      "execution_count": null,
      "metadata": {
        "colab": {
          "base_uri": "https://localhost:8080/"
        },
        "id": "lh_NWaZrKWAb",
        "outputId": "3d6554cf-5db0-4cc8-fe9d-106ecaa31e07"
      },
      "outputs": [
        {
          "name": "stdout",
          "output_type": "stream",
          "text": [
            "Number of rows is:  1458644\n",
            "Number of columns is:  11\n"
          ]
        }
      ],
      "source": [
        "# Checking number of rows and columns\n",
        "print(\"Number of rows is: \", data.shape[0])\n",
        "print(\"Number of columns is: \", data.shape[1])"
      ]
    },
    {
      "cell_type": "code",
      "execution_count": null,
      "metadata": {
        "colab": {
          "base_uri": "https://localhost:8080/"
        },
        "id": "VzBhOSL0KGAG",
        "outputId": "c696f1f4-1b43-4ed0-a645-73316551890b"
      },
      "outputs": [
        {
          "data": {
            "text/plain": [
              "Index(['id', 'vendor_id', 'pickup_datetime', 'dropoff_datetime',\n",
              "       'passenger_count', 'pickup_longitude', 'pickup_latitude',\n",
              "       'dropoff_longitude', 'dropoff_latitude', 'store_and_fwd_flag',\n",
              "       'trip_duration'],\n",
              "      dtype='object')"
            ]
          },
          "execution_count": 11,
          "metadata": {},
          "output_type": "execute_result"
        }
      ],
      "source": [
        "# Checking features\n",
        "data.columns"
      ]
    },
    {
      "cell_type": "code",
      "execution_count": null,
      "metadata": {
        "colab": {
          "base_uri": "https://localhost:8080/"
        },
        "id": "cG1Y_xWbNgtj",
        "outputId": "841ccc83-dce0-4a48-b481-af4ff902b6b7"
      },
      "outputs": [
        {
          "data": {
            "text/plain": [
              "id                    0\n",
              "vendor_id             0\n",
              "pickup_datetime       0\n",
              "dropoff_datetime      0\n",
              "passenger_count       0\n",
              "pickup_longitude      0\n",
              "pickup_latitude       0\n",
              "dropoff_longitude     0\n",
              "dropoff_latitude      0\n",
              "store_and_fwd_flag    0\n",
              "trip_duration         0\n",
              "dtype: int64"
            ]
          },
          "execution_count": 12,
          "metadata": {},
          "output_type": "execute_result"
        }
      ],
      "source": [
        "# checking null values \n",
        "data.isnull().sum()"
      ]
    },
    {
      "cell_type": "markdown",
      "metadata": {
        "id": "0iyZrPKVN-cj"
      },
      "source": [
        "There are no null values in our dataset."
      ]
    },
    {
      "cell_type": "code",
      "execution_count": null,
      "metadata": {
        "colab": {
          "base_uri": "https://localhost:8080/"
        },
        "id": "qVrE925KN0bp",
        "outputId": "5e2bc2b1-65a1-4d92-e8aa-cd77fcd95a61"
      },
      "outputs": [
        {
          "name": "stdout",
          "output_type": "stream",
          "text": [
            "We have 1458644 unique id in our dataset \n"
          ]
        }
      ],
      "source": [
        "# Checking the number of unique id's\n",
        "print( 'We have %d unique id in our dataset ' %(data.id.nunique())) "
      ]
    },
    {
      "cell_type": "code",
      "execution_count": null,
      "metadata": {
        "colab": {
          "base_uri": "https://localhost:8080/"
        },
        "id": "J0SGHuo_Oxgk",
        "outputId": "e8934c90-eba7-48fe-8755-9405cf512130"
      },
      "outputs": [
        {
          "data": {
            "text/plain": [
              "id                     object\n",
              "vendor_id               int64\n",
              "pickup_datetime        object\n",
              "dropoff_datetime       object\n",
              "passenger_count         int64\n",
              "pickup_longitude      float64\n",
              "pickup_latitude       float64\n",
              "dropoff_longitude     float64\n",
              "dropoff_latitude      float64\n",
              "store_and_fwd_flag     object\n",
              "trip_duration           int64\n",
              "dtype: object"
            ]
          },
          "execution_count": 14,
          "metadata": {},
          "output_type": "execute_result"
        }
      ],
      "source": [
        "# Checking datatypes \n",
        "data.dtypes"
      ]
    },
    {
      "cell_type": "markdown",
      "metadata": {
        "id": "pYBIDXOSQEbH"
      },
      "source": [
        "Here we can see that pickup_datetime, dropoff_datetime are of the type 'object', so we will convert them into type 'datetime'."
      ]
    },
    {
      "cell_type": "code",
      "execution_count": null,
      "metadata": {
        "id": "jgrWYFvbOxc9"
      },
      "outputs": [],
      "source": [
        "data['pickup_datetime'] = pd.to_datetime(data['pickup_datetime'])\n",
        "data['dropoff_datetime'] = pd.to_datetime(data['dropoff_datetime'])"
      ]
    },
    {
      "cell_type": "code",
      "execution_count": null,
      "metadata": {
        "colab": {
          "base_uri": "https://localhost:8080/",
          "height": 357
        },
        "id": "NLn4MMFSOxXd",
        "outputId": "b2814f3d-8ea4-4b69-a85e-fe0e431d904b"
      },
      "outputs": [
        {
          "data": {
            "text/html": [
              "\n",
              "  <div id=\"df-cb1b0d69-8039-4ea1-9d5b-2f4a6a74a162\">\n",
              "    <div class=\"colab-df-container\">\n",
              "      <div>\n",
              "<style scoped>\n",
              "    .dataframe tbody tr th:only-of-type {\n",
              "        vertical-align: middle;\n",
              "    }\n",
              "\n",
              "    .dataframe tbody tr th {\n",
              "        vertical-align: top;\n",
              "    }\n",
              "\n",
              "    .dataframe thead th {\n",
              "        text-align: right;\n",
              "    }\n",
              "</style>\n",
              "<table border=\"1\" class=\"dataframe\">\n",
              "  <thead>\n",
              "    <tr style=\"text-align: right;\">\n",
              "      <th></th>\n",
              "      <th>id</th>\n",
              "      <th>vendor_id</th>\n",
              "      <th>pickup_datetime</th>\n",
              "      <th>dropoff_datetime</th>\n",
              "      <th>passenger_count</th>\n",
              "      <th>pickup_longitude</th>\n",
              "      <th>pickup_latitude</th>\n",
              "      <th>dropoff_longitude</th>\n",
              "      <th>dropoff_latitude</th>\n",
              "      <th>store_and_fwd_flag</th>\n",
              "      <th>trip_duration</th>\n",
              "    </tr>\n",
              "  </thead>\n",
              "  <tbody>\n",
              "    <tr>\n",
              "      <th>0</th>\n",
              "      <td>id2875421</td>\n",
              "      <td>2</td>\n",
              "      <td>2016-03-14 17:24:55</td>\n",
              "      <td>2016-03-14 17:32:30</td>\n",
              "      <td>1</td>\n",
              "      <td>-73.982155</td>\n",
              "      <td>40.767937</td>\n",
              "      <td>-73.964630</td>\n",
              "      <td>40.765602</td>\n",
              "      <td>N</td>\n",
              "      <td>455</td>\n",
              "    </tr>\n",
              "    <tr>\n",
              "      <th>1</th>\n",
              "      <td>id2377394</td>\n",
              "      <td>1</td>\n",
              "      <td>2016-06-12 00:43:35</td>\n",
              "      <td>2016-06-12 00:54:38</td>\n",
              "      <td>1</td>\n",
              "      <td>-73.980415</td>\n",
              "      <td>40.738564</td>\n",
              "      <td>-73.999481</td>\n",
              "      <td>40.731152</td>\n",
              "      <td>N</td>\n",
              "      <td>663</td>\n",
              "    </tr>\n",
              "    <tr>\n",
              "      <th>2</th>\n",
              "      <td>id3858529</td>\n",
              "      <td>2</td>\n",
              "      <td>2016-01-19 11:35:24</td>\n",
              "      <td>2016-01-19 12:10:48</td>\n",
              "      <td>1</td>\n",
              "      <td>-73.979027</td>\n",
              "      <td>40.763939</td>\n",
              "      <td>-74.005333</td>\n",
              "      <td>40.710087</td>\n",
              "      <td>N</td>\n",
              "      <td>2124</td>\n",
              "    </tr>\n",
              "    <tr>\n",
              "      <th>3</th>\n",
              "      <td>id3504673</td>\n",
              "      <td>2</td>\n",
              "      <td>2016-04-06 19:32:31</td>\n",
              "      <td>2016-04-06 19:39:40</td>\n",
              "      <td>1</td>\n",
              "      <td>-74.010040</td>\n",
              "      <td>40.719971</td>\n",
              "      <td>-74.012268</td>\n",
              "      <td>40.706718</td>\n",
              "      <td>N</td>\n",
              "      <td>429</td>\n",
              "    </tr>\n",
              "    <tr>\n",
              "      <th>4</th>\n",
              "      <td>id2181028</td>\n",
              "      <td>2</td>\n",
              "      <td>2016-03-26 13:30:55</td>\n",
              "      <td>2016-03-26 13:38:10</td>\n",
              "      <td>1</td>\n",
              "      <td>-73.973053</td>\n",
              "      <td>40.793209</td>\n",
              "      <td>-73.972923</td>\n",
              "      <td>40.782520</td>\n",
              "      <td>N</td>\n",
              "      <td>435</td>\n",
              "    </tr>\n",
              "  </tbody>\n",
              "</table>\n",
              "</div>\n",
              "      <button class=\"colab-df-convert\" onclick=\"convertToInteractive('df-cb1b0d69-8039-4ea1-9d5b-2f4a6a74a162')\"\n",
              "              title=\"Convert this dataframe to an interactive table.\"\n",
              "              style=\"display:none;\">\n",
              "        \n",
              "  <svg xmlns=\"http://www.w3.org/2000/svg\" height=\"24px\"viewBox=\"0 0 24 24\"\n",
              "       width=\"24px\">\n",
              "    <path d=\"M0 0h24v24H0V0z\" fill=\"none\"/>\n",
              "    <path d=\"M18.56 5.44l.94 2.06.94-2.06 2.06-.94-2.06-.94-.94-2.06-.94 2.06-2.06.94zm-11 1L8.5 8.5l.94-2.06 2.06-.94-2.06-.94L8.5 2.5l-.94 2.06-2.06.94zm10 10l.94 2.06.94-2.06 2.06-.94-2.06-.94-.94-2.06-.94 2.06-2.06.94z\"/><path d=\"M17.41 7.96l-1.37-1.37c-.4-.4-.92-.59-1.43-.59-.52 0-1.04.2-1.43.59L10.3 9.45l-7.72 7.72c-.78.78-.78 2.05 0 2.83L4 21.41c.39.39.9.59 1.41.59.51 0 1.02-.2 1.41-.59l7.78-7.78 2.81-2.81c.8-.78.8-2.07 0-2.86zM5.41 20L4 18.59l7.72-7.72 1.47 1.35L5.41 20z\"/>\n",
              "  </svg>\n",
              "      </button>\n",
              "      \n",
              "  <style>\n",
              "    .colab-df-container {\n",
              "      display:flex;\n",
              "      flex-wrap:wrap;\n",
              "      gap: 12px;\n",
              "    }\n",
              "\n",
              "    .colab-df-convert {\n",
              "      background-color: #E8F0FE;\n",
              "      border: none;\n",
              "      border-radius: 50%;\n",
              "      cursor: pointer;\n",
              "      display: none;\n",
              "      fill: #1967D2;\n",
              "      height: 32px;\n",
              "      padding: 0 0 0 0;\n",
              "      width: 32px;\n",
              "    }\n",
              "\n",
              "    .colab-df-convert:hover {\n",
              "      background-color: #E2EBFA;\n",
              "      box-shadow: 0px 1px 2px rgba(60, 64, 67, 0.3), 0px 1px 3px 1px rgba(60, 64, 67, 0.15);\n",
              "      fill: #174EA6;\n",
              "    }\n",
              "\n",
              "    [theme=dark] .colab-df-convert {\n",
              "      background-color: #3B4455;\n",
              "      fill: #D2E3FC;\n",
              "    }\n",
              "\n",
              "    [theme=dark] .colab-df-convert:hover {\n",
              "      background-color: #434B5C;\n",
              "      box-shadow: 0px 1px 3px 1px rgba(0, 0, 0, 0.15);\n",
              "      filter: drop-shadow(0px 1px 2px rgba(0, 0, 0, 0.3));\n",
              "      fill: #FFFFFF;\n",
              "    }\n",
              "  </style>\n",
              "\n",
              "      <script>\n",
              "        const buttonEl =\n",
              "          document.querySelector('#df-cb1b0d69-8039-4ea1-9d5b-2f4a6a74a162 button.colab-df-convert');\n",
              "        buttonEl.style.display =\n",
              "          google.colab.kernel.accessAllowed ? 'block' : 'none';\n",
              "\n",
              "        async function convertToInteractive(key) {\n",
              "          const element = document.querySelector('#df-cb1b0d69-8039-4ea1-9d5b-2f4a6a74a162');\n",
              "          const dataTable =\n",
              "            await google.colab.kernel.invokeFunction('convertToInteractive',\n",
              "                                                     [key], {});\n",
              "          if (!dataTable) return;\n",
              "\n",
              "          const docLinkHtml = 'Like what you see? Visit the ' +\n",
              "            '<a target=\"_blank\" href=https://colab.research.google.com/notebooks/data_table.ipynb>data table notebook</a>'\n",
              "            + ' to learn more about interactive tables.';\n",
              "          element.innerHTML = '';\n",
              "          dataTable['output_type'] = 'display_data';\n",
              "          await google.colab.output.renderOutput(dataTable, element);\n",
              "          const docLink = document.createElement('div');\n",
              "          docLink.innerHTML = docLinkHtml;\n",
              "          element.appendChild(docLink);\n",
              "        }\n",
              "      </script>\n",
              "    </div>\n",
              "  </div>\n",
              "  "
            ],
            "text/plain": [
              "          id  vendor_id     pickup_datetime    dropoff_datetime  \\\n",
              "0  id2875421          2 2016-03-14 17:24:55 2016-03-14 17:32:30   \n",
              "1  id2377394          1 2016-06-12 00:43:35 2016-06-12 00:54:38   \n",
              "2  id3858529          2 2016-01-19 11:35:24 2016-01-19 12:10:48   \n",
              "3  id3504673          2 2016-04-06 19:32:31 2016-04-06 19:39:40   \n",
              "4  id2181028          2 2016-03-26 13:30:55 2016-03-26 13:38:10   \n",
              "\n",
              "   passenger_count  pickup_longitude  pickup_latitude  dropoff_longitude  \\\n",
              "0                1        -73.982155        40.767937         -73.964630   \n",
              "1                1        -73.980415        40.738564         -73.999481   \n",
              "2                1        -73.979027        40.763939         -74.005333   \n",
              "3                1        -74.010040        40.719971         -74.012268   \n",
              "4                1        -73.973053        40.793209         -73.972923   \n",
              "\n",
              "   dropoff_latitude store_and_fwd_flag  trip_duration  \n",
              "0         40.765602                  N            455  \n",
              "1         40.731152                  N            663  \n",
              "2         40.710087                  N           2124  \n",
              "3         40.706718                  N            429  \n",
              "4         40.782520                  N            435  "
            ]
          },
          "execution_count": 16,
          "metadata": {},
          "output_type": "execute_result"
        }
      ],
      "source": [
        "data.head()"
      ]
    },
    {
      "cell_type": "markdown",
      "metadata": {
        "id": "C7FUpTUJSa1C"
      },
      "source": [
        "## **Creating Features:**"
      ]
    },
    {
      "cell_type": "markdown",
      "metadata": {
        "id": "LgArnC81Sue5"
      },
      "source": [
        "Let us extract and create new features from this datetime features we just created."
      ]
    },
    {
      "cell_type": "code",
      "execution_count": null,
      "metadata": {
        "id": "gu9vWKnES_wD"
      },
      "outputs": [],
      "source": [
        "data['pickup_weekday']=data['pickup_datetime'].dt.day_name()"
      ]
    },
    {
      "cell_type": "code",
      "execution_count": null,
      "metadata": {
        "id": "57MLxwOCS_g2"
      },
      "outputs": [],
      "source": [
        "data['dropoff_weekday']=data['dropoff_datetime'].dt.day_name()"
      ]
    },
    {
      "cell_type": "code",
      "execution_count": null,
      "metadata": {
        "id": "OmE--LfZS_cp"
      },
      "outputs": [],
      "source": [
        "data['pickup_weekday_num']=data['pickup_datetime'].dt.weekday"
      ]
    },
    {
      "cell_type": "code",
      "execution_count": null,
      "metadata": {
        "id": "CauGRCP0S_XA"
      },
      "outputs": [],
      "source": [
        "data['pickup_hour']=data['pickup_datetime'].dt.hour"
      ]
    },
    {
      "cell_type": "code",
      "execution_count": null,
      "metadata": {
        "id": "y1vDC-AUTJf4"
      },
      "outputs": [],
      "source": [
        "data['month']=data['pickup_datetime'].dt.month"
      ]
    },
    {
      "cell_type": "markdown",
      "metadata": {
        "id": "o8j0wqjkT8dT"
      },
      "source": [
        "We have created the following features:\n",
        "\n",
        "- pickup_weekday which will contain the name of the day on which the ride was taken.\n",
        "-pickup_weekday_num which will contain the day number instead of characters with Monday=0 and Sunday=6.\n",
        "\n",
        "- pickup_hour with an hour of the day in the 24-hour format.\n",
        "\n",
        "- pickup_month with month number with January=1 and December=12.\n",
        "\n",
        "Now we can see that  we have coordinates in the form of longitude and latitude for pickup and dropoff. \n",
        "\n",
        " But, we can’t really gather any insights or draw conclusions from that. So, the most obvious feature that we can extract from this is distance. Let us do that."
      ]
    },
    {
      "cell_type": "markdown",
      "metadata": {
        "id": "NG8MGTuYV_K1"
      },
      "source": [
        " Lets us calculate distance from given geographical coordinates."
      ]
    },
    {
      "cell_type": "code",
      "execution_count": null,
      "metadata": {
        "id": "gY6MVQnVWFZx"
      },
      "outputs": [],
      "source": [
        "from geopy.distance import great_circle\n",
        "\n",
        "def cal_distance(pickup_lat,pickup_long,dropoff_lat,dropoff_long):\n",
        " \n",
        " start_coordinates=(pickup_lat,pickup_long)\n",
        " stop_coordinates=(dropoff_lat,dropoff_long)\n",
        " \n",
        " return great_circle(start_coordinates,stop_coordinates).km"
      ]
    },
    {
      "cell_type": "code",
      "execution_count": null,
      "metadata": {
        "id": "Yt2a3t4XWFVa"
      },
      "outputs": [],
      "source": [
        " # creating feature distance \n",
        "data['distance'] =  data.apply(lambda x: cal_distance(x['pickup_latitude'],x['pickup_longitude'],x['dropoff_latitude'],x['dropoff_longitude'] ), axis=1)"
      ]
    },
    {
      "cell_type": "code",
      "execution_count": null,
      "metadata": {
        "id": "MgR0YjzbWFRa"
      },
      "outputs": [],
      "source": [
        "# calculating speed \n",
        "data['speed'] = (data.distance/(data.trip_duration/3600))"
      ]
    },
    {
      "cell_type": "code",
      "execution_count": null,
      "metadata": {
        "colab": {
          "base_uri": "https://localhost:8080/"
        },
        "id": "8hxrFcyWYOee",
        "outputId": "9e5b2860-6526-4bfe-cbcf-8a6e50753bcd"
      },
      "outputs": [
        {
          "data": {
            "text/plain": [
              "id                            object\n",
              "vendor_id                      int64\n",
              "pickup_datetime       datetime64[ns]\n",
              "dropoff_datetime      datetime64[ns]\n",
              "passenger_count                int64\n",
              "pickup_longitude             float64\n",
              "pickup_latitude              float64\n",
              "dropoff_longitude            float64\n",
              "dropoff_latitude             float64\n",
              "store_and_fwd_flag            object\n",
              "trip_duration                  int64\n",
              "pickup_weekday                object\n",
              "dropoff_weekday               object\n",
              "pickup_weekday_num             int64\n",
              "pickup_hour                    int64\n",
              "month                          int64\n",
              "distance                     float64\n",
              "speed                        float64\n",
              "dtype: object"
            ]
          },
          "execution_count": 25,
          "metadata": {},
          "output_type": "execute_result"
        }
      ],
      "source": [
        "data.dtypes"
      ]
    },
    {
      "cell_type": "markdown",
      "metadata": {
        "id": "4BRdwrgvb6OM"
      },
      "source": [
        "Now we will create a function that lets us determine what time of the day the ride was taken.\n",
        "\n",
        "We will divide the day into four parts:-\n",
        "\n",
        "1.Morning ( 6:00 am to 11:59 pm),\n",
        "\n",
        "2.Afternoon ( 12 noon to 3:59 pm),\n",
        "\n",
        "3.Evening ( 4:00 pm to 9:59 pm), and\n",
        "\n",
        "4.Late Night ( 10:00 pm to 5:59 am)"
      ]
    },
    {
      "cell_type": "code",
      "execution_count": null,
      "metadata": {
        "id": "fGPcBfB6YOZd"
      },
      "outputs": [],
      "source": [
        "def time_of_day(x):\n",
        "    if x in range(6,12):\n",
        "        return 'Morning'\n",
        "    elif x in range(12,16):\n",
        "        return 'Afternoon'\n",
        "    elif x in range(16,22):\n",
        "        return 'Evening'\n",
        "    else:\n",
        "        return 'Late night'\n",
        "\n",
        "# creating new column for time of the day \n",
        "\n",
        "data['pickup_timeofday']=data['pickup_hour'].apply(time_of_day)"
      ]
    },
    {
      "cell_type": "code",
      "execution_count": null,
      "metadata": {
        "colab": {
          "base_uri": "https://localhost:8080/",
          "height": 357
        },
        "id": "xZEkaSkRmLzr",
        "outputId": "59170b1b-3c03-4db1-c6c2-5ef465ad0ba3"
      },
      "outputs": [
        {
          "data": {
            "text/html": [
              "\n",
              "  <div id=\"df-76052974-10d2-4e3d-ac98-ce1ef6e85ac8\">\n",
              "    <div class=\"colab-df-container\">\n",
              "      <div>\n",
              "<style scoped>\n",
              "    .dataframe tbody tr th:only-of-type {\n",
              "        vertical-align: middle;\n",
              "    }\n",
              "\n",
              "    .dataframe tbody tr th {\n",
              "        vertical-align: top;\n",
              "    }\n",
              "\n",
              "    .dataframe thead th {\n",
              "        text-align: right;\n",
              "    }\n",
              "</style>\n",
              "<table border=\"1\" class=\"dataframe\">\n",
              "  <thead>\n",
              "    <tr style=\"text-align: right;\">\n",
              "      <th></th>\n",
              "      <th>id</th>\n",
              "      <th>vendor_id</th>\n",
              "      <th>pickup_datetime</th>\n",
              "      <th>dropoff_datetime</th>\n",
              "      <th>passenger_count</th>\n",
              "      <th>pickup_longitude</th>\n",
              "      <th>pickup_latitude</th>\n",
              "      <th>dropoff_longitude</th>\n",
              "      <th>dropoff_latitude</th>\n",
              "      <th>store_and_fwd_flag</th>\n",
              "      <th>trip_duration</th>\n",
              "      <th>pickup_weekday</th>\n",
              "      <th>dropoff_weekday</th>\n",
              "      <th>pickup_weekday_num</th>\n",
              "      <th>pickup_hour</th>\n",
              "      <th>month</th>\n",
              "      <th>distance</th>\n",
              "      <th>speed</th>\n",
              "      <th>pickup_timeofday</th>\n",
              "    </tr>\n",
              "  </thead>\n",
              "  <tbody>\n",
              "    <tr>\n",
              "      <th>0</th>\n",
              "      <td>id2875421</td>\n",
              "      <td>2</td>\n",
              "      <td>2016-03-14 17:24:55</td>\n",
              "      <td>2016-03-14 17:32:30</td>\n",
              "      <td>1</td>\n",
              "      <td>-73.982155</td>\n",
              "      <td>40.767937</td>\n",
              "      <td>-73.964630</td>\n",
              "      <td>40.765602</td>\n",
              "      <td>N</td>\n",
              "      <td>455</td>\n",
              "      <td>Monday</td>\n",
              "      <td>Monday</td>\n",
              "      <td>0</td>\n",
              "      <td>17</td>\n",
              "      <td>3</td>\n",
              "      <td>1.498523</td>\n",
              "      <td>11.856445</td>\n",
              "      <td>Evening</td>\n",
              "    </tr>\n",
              "    <tr>\n",
              "      <th>1</th>\n",
              "      <td>id2377394</td>\n",
              "      <td>1</td>\n",
              "      <td>2016-06-12 00:43:35</td>\n",
              "      <td>2016-06-12 00:54:38</td>\n",
              "      <td>1</td>\n",
              "      <td>-73.980415</td>\n",
              "      <td>40.738564</td>\n",
              "      <td>-73.999481</td>\n",
              "      <td>40.731152</td>\n",
              "      <td>N</td>\n",
              "      <td>663</td>\n",
              "      <td>Sunday</td>\n",
              "      <td>Sunday</td>\n",
              "      <td>6</td>\n",
              "      <td>0</td>\n",
              "      <td>6</td>\n",
              "      <td>1.805510</td>\n",
              "      <td>9.803673</td>\n",
              "      <td>Late night</td>\n",
              "    </tr>\n",
              "    <tr>\n",
              "      <th>2</th>\n",
              "      <td>id3858529</td>\n",
              "      <td>2</td>\n",
              "      <td>2016-01-19 11:35:24</td>\n",
              "      <td>2016-01-19 12:10:48</td>\n",
              "      <td>1</td>\n",
              "      <td>-73.979027</td>\n",
              "      <td>40.763939</td>\n",
              "      <td>-74.005333</td>\n",
              "      <td>40.710087</td>\n",
              "      <td>N</td>\n",
              "      <td>2124</td>\n",
              "      <td>Tuesday</td>\n",
              "      <td>Tuesday</td>\n",
              "      <td>1</td>\n",
              "      <td>11</td>\n",
              "      <td>1</td>\n",
              "      <td>6.385108</td>\n",
              "      <td>10.822216</td>\n",
              "      <td>Morning</td>\n",
              "    </tr>\n",
              "    <tr>\n",
              "      <th>3</th>\n",
              "      <td>id3504673</td>\n",
              "      <td>2</td>\n",
              "      <td>2016-04-06 19:32:31</td>\n",
              "      <td>2016-04-06 19:39:40</td>\n",
              "      <td>1</td>\n",
              "      <td>-74.010040</td>\n",
              "      <td>40.719971</td>\n",
              "      <td>-74.012268</td>\n",
              "      <td>40.706718</td>\n",
              "      <td>N</td>\n",
              "      <td>429</td>\n",
              "      <td>Wednesday</td>\n",
              "      <td>Wednesday</td>\n",
              "      <td>2</td>\n",
              "      <td>19</td>\n",
              "      <td>4</td>\n",
              "      <td>1.485501</td>\n",
              "      <td>12.465739</td>\n",
              "      <td>Evening</td>\n",
              "    </tr>\n",
              "    <tr>\n",
              "      <th>4</th>\n",
              "      <td>id2181028</td>\n",
              "      <td>2</td>\n",
              "      <td>2016-03-26 13:30:55</td>\n",
              "      <td>2016-03-26 13:38:10</td>\n",
              "      <td>1</td>\n",
              "      <td>-73.973053</td>\n",
              "      <td>40.793209</td>\n",
              "      <td>-73.972923</td>\n",
              "      <td>40.782520</td>\n",
              "      <td>N</td>\n",
              "      <td>435</td>\n",
              "      <td>Saturday</td>\n",
              "      <td>Saturday</td>\n",
              "      <td>5</td>\n",
              "      <td>13</td>\n",
              "      <td>3</td>\n",
              "      <td>1.188590</td>\n",
              "      <td>9.836608</td>\n",
              "      <td>Afternoon</td>\n",
              "    </tr>\n",
              "  </tbody>\n",
              "</table>\n",
              "</div>\n",
              "      <button class=\"colab-df-convert\" onclick=\"convertToInteractive('df-76052974-10d2-4e3d-ac98-ce1ef6e85ac8')\"\n",
              "              title=\"Convert this dataframe to an interactive table.\"\n",
              "              style=\"display:none;\">\n",
              "        \n",
              "  <svg xmlns=\"http://www.w3.org/2000/svg\" height=\"24px\"viewBox=\"0 0 24 24\"\n",
              "       width=\"24px\">\n",
              "    <path d=\"M0 0h24v24H0V0z\" fill=\"none\"/>\n",
              "    <path d=\"M18.56 5.44l.94 2.06.94-2.06 2.06-.94-2.06-.94-.94-2.06-.94 2.06-2.06.94zm-11 1L8.5 8.5l.94-2.06 2.06-.94-2.06-.94L8.5 2.5l-.94 2.06-2.06.94zm10 10l.94 2.06.94-2.06 2.06-.94-2.06-.94-.94-2.06-.94 2.06-2.06.94z\"/><path d=\"M17.41 7.96l-1.37-1.37c-.4-.4-.92-.59-1.43-.59-.52 0-1.04.2-1.43.59L10.3 9.45l-7.72 7.72c-.78.78-.78 2.05 0 2.83L4 21.41c.39.39.9.59 1.41.59.51 0 1.02-.2 1.41-.59l7.78-7.78 2.81-2.81c.8-.78.8-2.07 0-2.86zM5.41 20L4 18.59l7.72-7.72 1.47 1.35L5.41 20z\"/>\n",
              "  </svg>\n",
              "      </button>\n",
              "      \n",
              "  <style>\n",
              "    .colab-df-container {\n",
              "      display:flex;\n",
              "      flex-wrap:wrap;\n",
              "      gap: 12px;\n",
              "    }\n",
              "\n",
              "    .colab-df-convert {\n",
              "      background-color: #E8F0FE;\n",
              "      border: none;\n",
              "      border-radius: 50%;\n",
              "      cursor: pointer;\n",
              "      display: none;\n",
              "      fill: #1967D2;\n",
              "      height: 32px;\n",
              "      padding: 0 0 0 0;\n",
              "      width: 32px;\n",
              "    }\n",
              "\n",
              "    .colab-df-convert:hover {\n",
              "      background-color: #E2EBFA;\n",
              "      box-shadow: 0px 1px 2px rgba(60, 64, 67, 0.3), 0px 1px 3px 1px rgba(60, 64, 67, 0.15);\n",
              "      fill: #174EA6;\n",
              "    }\n",
              "\n",
              "    [theme=dark] .colab-df-convert {\n",
              "      background-color: #3B4455;\n",
              "      fill: #D2E3FC;\n",
              "    }\n",
              "\n",
              "    [theme=dark] .colab-df-convert:hover {\n",
              "      background-color: #434B5C;\n",
              "      box-shadow: 0px 1px 3px 1px rgba(0, 0, 0, 0.15);\n",
              "      filter: drop-shadow(0px 1px 2px rgba(0, 0, 0, 0.3));\n",
              "      fill: #FFFFFF;\n",
              "    }\n",
              "  </style>\n",
              "\n",
              "      <script>\n",
              "        const buttonEl =\n",
              "          document.querySelector('#df-76052974-10d2-4e3d-ac98-ce1ef6e85ac8 button.colab-df-convert');\n",
              "        buttonEl.style.display =\n",
              "          google.colab.kernel.accessAllowed ? 'block' : 'none';\n",
              "\n",
              "        async function convertToInteractive(key) {\n",
              "          const element = document.querySelector('#df-76052974-10d2-4e3d-ac98-ce1ef6e85ac8');\n",
              "          const dataTable =\n",
              "            await google.colab.kernel.invokeFunction('convertToInteractive',\n",
              "                                                     [key], {});\n",
              "          if (!dataTable) return;\n",
              "\n",
              "          const docLinkHtml = 'Like what you see? Visit the ' +\n",
              "            '<a target=\"_blank\" href=https://colab.research.google.com/notebooks/data_table.ipynb>data table notebook</a>'\n",
              "            + ' to learn more about interactive tables.';\n",
              "          element.innerHTML = '';\n",
              "          dataTable['output_type'] = 'display_data';\n",
              "          await google.colab.output.renderOutput(dataTable, element);\n",
              "          const docLink = document.createElement('div');\n",
              "          docLink.innerHTML = docLinkHtml;\n",
              "          element.appendChild(docLink);\n",
              "        }\n",
              "      </script>\n",
              "    </div>\n",
              "  </div>\n",
              "  "
            ],
            "text/plain": [
              "          id  vendor_id     pickup_datetime    dropoff_datetime  \\\n",
              "0  id2875421          2 2016-03-14 17:24:55 2016-03-14 17:32:30   \n",
              "1  id2377394          1 2016-06-12 00:43:35 2016-06-12 00:54:38   \n",
              "2  id3858529          2 2016-01-19 11:35:24 2016-01-19 12:10:48   \n",
              "3  id3504673          2 2016-04-06 19:32:31 2016-04-06 19:39:40   \n",
              "4  id2181028          2 2016-03-26 13:30:55 2016-03-26 13:38:10   \n",
              "\n",
              "   passenger_count  pickup_longitude  pickup_latitude  dropoff_longitude  \\\n",
              "0                1        -73.982155        40.767937         -73.964630   \n",
              "1                1        -73.980415        40.738564         -73.999481   \n",
              "2                1        -73.979027        40.763939         -74.005333   \n",
              "3                1        -74.010040        40.719971         -74.012268   \n",
              "4                1        -73.973053        40.793209         -73.972923   \n",
              "\n",
              "   dropoff_latitude store_and_fwd_flag  trip_duration pickup_weekday  \\\n",
              "0         40.765602                  N            455         Monday   \n",
              "1         40.731152                  N            663         Sunday   \n",
              "2         40.710087                  N           2124        Tuesday   \n",
              "3         40.706718                  N            429      Wednesday   \n",
              "4         40.782520                  N            435       Saturday   \n",
              "\n",
              "  dropoff_weekday  pickup_weekday_num  pickup_hour  month  distance  \\\n",
              "0          Monday                   0           17      3  1.498523   \n",
              "1          Sunday                   6            0      6  1.805510   \n",
              "2         Tuesday                   1           11      1  6.385108   \n",
              "3       Wednesday                   2           19      4  1.485501   \n",
              "4        Saturday                   5           13      3  1.188590   \n",
              "\n",
              "       speed pickup_timeofday  \n",
              "0  11.856445          Evening  \n",
              "1   9.803673       Late night  \n",
              "2  10.822216          Morning  \n",
              "3  12.465739          Evening  \n",
              "4   9.836608        Afternoon  "
            ]
          },
          "execution_count": 27,
          "metadata": {},
          "output_type": "execute_result"
        }
      ],
      "source": [
        "data.head()"
      ]
    },
    {
      "cell_type": "markdown",
      "metadata": {
        "id": "L4oxpuTsmjey"
      },
      "source": [
        "## **Univariate Analysis:**"
      ]
    },
    {
      "cell_type": "markdown",
      "metadata": {
        "id": "nrvJmh3VmzRV"
      },
      "source": [
        "Let us start with the target varibale i.e trip duration."
      ]
    },
    {
      "cell_type": "code",
      "execution_count": null,
      "metadata": {
        "colab": {
          "base_uri": "https://localhost:8080/",
          "height": 345
        },
        "id": "jV1P0zzQmy-T",
        "outputId": "a4779fe3-fffb-466e-a842-e7a073725e78"
      },
      "outputs": [
        {
          "data": {
            "image/png": "[encoded data removed]",
            "text/plain": [
              "<Figure size 720x360 with 1 Axes>"
            ]
          },
          "metadata": {},
          "output_type": "display_data"
        }
      ],
      "source": [
        " plt.figure(figsize = (10,5))\n",
        "sns.distplot(data['trip_duration'])\n",
        "plt.xlabel('Trip Duration')\n",
        " \n",
        "plt.show()"
      ]
    },
    {
      "cell_type": "markdown",
      "metadata": {
        "id": "12vt76sCm9hT"
      },
      "source": [
        "We can see that our target variable is rightly skewed , so we will apply log transformation to normalize it ."
      ]
    },
    {
      "cell_type": "code",
      "execution_count": null,
      "metadata": {
        "id": "hnZ8I_h3mqx8"
      },
      "outputs": [],
      "source": [
        "plt.figure(figsize = (10,5))\n",
        "sns.distplot(np.log10(data['trip_duration']))\n",
        "plt.xlabel('Trip Duration')\n",
        "plt.show()\n"
      ]
    },
    {
      "cell_type": "markdown",
      "metadata": {
        "id": "rHBviuD4oCTC"
      },
      "source": [
        "Now that our target variable is normally distributed, we can see some outliers."
      ]
    },
    {
      "cell_type": "code",
      "execution_count": null,
      "metadata": {
        "id": "5Z1g8wKSoVvr"
      },
      "outputs": [],
      "source": [
        "# checking outliers \n",
        "plt.figure(figsize = (10,5))\n",
        "sns.boxplot(data.trip_duration)\n",
        "plt.xlabel('Trip Duration')\n",
        "plt.show()"
      ]
    },
    {
      "cell_type": "markdown",
      "metadata": {
        "id": "5LG18c7ypGBs"
      },
      "source": [
        "Now to find the correct percentile value for removal of outliers , we will calculate 0-100th percentille."
      ]
    },
    {
      "cell_type": "code",
      "execution_count": null,
      "metadata": {
        "colab": {
          "background_save": true
        },
        "id": "Qj74tilvplNX",
        "outputId": "fd54cfaa-7680-4ff0-dfbb-f3ded361d36d"
      },
      "outputs": [
        {
          "name": "stdout",
          "output_type": "stream",
          "text": [
            "0 percentile value is 1\n",
            "10 percentile value is 245\n",
            "20 percentile value is 348\n",
            "30 percentile value is 446\n",
            "40 percentile value is 548\n",
            "50 percentile value is 662\n",
            "60 percentile value is 798\n",
            "70 percentile value is 968\n",
            "80 percentile value is 1208\n",
            "90 percentile value is 1634\n",
            "100 percentile value is  3526282\n"
          ]
        }
      ],
      "source": [
        "#Calclating 0-100th percentille\n",
        "for i in range(0,100,10):\n",
        "  duration= data['trip_duration'].values\n",
        "  duration= np.sort(duration, axis= None)\n",
        "  print(\"{} percentile value is {}\".format(i, duration[int(len(duration)*(float(i)/100))]))\n",
        "print(\"100 percentile value is \",duration[-1])"
      ]
    },
    {
      "cell_type": "markdown",
      "metadata": {
        "id": "E1ye0xFcp6D2"
      },
      "source": [
        "We can see that the 90th percentile i.e. 1634 looks reasonable. But, 100th percentile i.e. 3526282 is outlier.\n",
        "\n",
        "Let us also check 90 - 100th percentile "
      ]
    },
    {
      "cell_type": "code",
      "execution_count": null,
      "metadata": {
        "id": "CP1b_Dc9qjq2"
      },
      "outputs": [],
      "source": [
        "for i in range(90,100):\n",
        "  duration= data['trip_duration'].values\n",
        "  duration= np.sort(duration, axis= None)\n",
        "  print(\"{} percentile value is {}\".format(i, duration[int(len(duration)*(float(i)/100))]))\n",
        "print(\"100 percentile value is \",duration[-1])"
      ]
    },
    {
      "cell_type": "markdown",
      "metadata": {
        "id": "FBx4hNDdrORs"
      },
      "source": [
        "**Let's visualize the number of trips taken in minutes.**"
      ]
    },
    {
      "cell_type": "code",
      "execution_count": null,
      "metadata": {
        "id": "UjAEfVjmrN9t"
      },
      "outputs": [],
      "source": [
        "plt.figure(figsize = (10,5))\n",
        "data.trip_duration.groupby(pd.cut(data.trip_duration, np.arange(1,7200,600))).count().plot(kind='bar')\n",
        "plt.xlabel('Trip Counts')\n",
        "plt.ylabel('Trip Duration (seconds)')\n",
        "plt.show()"
      ]
    },
    {
      "cell_type": "markdown",
      "metadata": {
        "id": "gO-5vL6fr8-y"
      },
      "source": [
        "**Let's have a look at the 10 largest and smallest value of trip_duration.**"
      ]
    },
    {
      "cell_type": "code",
      "execution_count": null,
      "metadata": {
        "id": "Rd5RnWZisBTC"
      },
      "outputs": [],
      "source": [
        "# 10 largest trip\n",
        "print( data['trip_duration'].nlargest(10))"
      ]
    },
    {
      "cell_type": "code",
      "execution_count": null,
      "metadata": {
        "id": "VWj7Ho--sTGZ"
      },
      "outputs": [],
      "source": [
        "print( data['trip_duration'].nsmallest(10))\n"
      ]
    },
    {
      "cell_type": "markdown",
      "metadata": {
        "id": "AKo2qo0Osnli"
      },
      "source": [
        "We can see that major chunk (99th percentile) of trip duration is completed in 3440 seconds i.e. nearly 1 hour.\n",
        "\n",
        "- There are very few trip which have duration greater than 5000 seconds.\n",
        "\n",
        "- There are some durations with as low as 1 second. which points towards trips with 0 km distance.\n",
        "\n",
        "We should get rid the outliers for the sake of data consistency. (Trip duration greater than 5000 seconds and also trip duration less than 30 seconds)"
      ]
    },
    {
      "cell_type": "code",
      "execution_count": null,
      "metadata": {
        "id": "N2svJ9PTs44I"
      },
      "outputs": [],
      "source": [
        "data = data[data.trip_duration <= 5000]\n",
        "data = data[data.trip_duration >= 30]"
      ]
    },
    {
      "cell_type": "code",
      "execution_count": null,
      "metadata": {
        "id": "VMZOnUUhs9_C"
      },
      "outputs": [],
      "source": [
        "plt.figure(figsize = (10,5))\n",
        "sns.boxplot(data.trip_duration)\n",
        "plt.xlabel('Trip Duration (seconds)')\n",
        "plt.show()"
      ]
    },
    {
      "cell_type": "markdown",
      "metadata": {
        "id": "nk6DGrsStGkv"
      },
      "source": [
        "- Major trip durations took between 10-20 mins to complete.\n",
        "\n",
        "- We can observe that most of the trips took 0 - 30 mins to complete i.e. approx 1800 secs. Let's move ahead to next feature"
      ]
    },
    {
      "cell_type": "markdown",
      "metadata": {
        "id": "H85RtucTtUTg"
      },
      "source": [
        "**No of Trips per Time of Day.**"
      ]
    },
    {
      "cell_type": "code",
      "execution_count": null,
      "metadata": {
        "id": "nFAQnZxruEwk"
      },
      "outputs": [],
      "source": [
        "data.pickup_timeofday.value_counts().reset_index()"
      ]
    },
    {
      "cell_type": "code",
      "execution_count": null,
      "metadata": {
        "id": "kSOxJvtos97p"
      },
      "outputs": [],
      "source": [
        "plt.figure(figsize = (10,5))\n",
        "sns.countplot(x=\"pickup_timeofday\",data=data)\n",
        "plt.title('Pickup Time of Day')\n",
        "plt.xlabel('Parts of the Day')\n",
        "plt.ylabel('Count')\n",
        "plt.show()"
      ]
    },
    {
      "cell_type": "markdown",
      "metadata": {
        "id": "EtF5BlSQtuBq"
      },
      "source": [
        "As we saw above, evenings are the busiest."
      ]
    },
    {
      "cell_type": "markdown",
      "metadata": {
        "id": "fhE6_2MQt0MP"
      },
      "source": [
        "**Vendor id**"
      ]
    },
    {
      "cell_type": "code",
      "execution_count": null,
      "metadata": {
        "id": "aWd-H7KzAFQr"
      },
      "outputs": [],
      "source": [
        "data.head()"
      ]
    },
    {
      "cell_type": "code",
      "execution_count": null,
      "metadata": {
        "id": "OIOrOtIds9ka"
      },
      "outputs": [],
      "source": [
        "plt.figure(figsize = (10,5))\n",
        "sns.countplot(data.vendor_id)\n",
        "plt.xlabel('Vendor ID')\n",
        "plt.ylabel('Count')\n",
        "plt.show()"
      ]
    },
    {
      "cell_type": "markdown",
      "metadata": {
        "id": "rEPOTTcAt9DX"
      },
      "source": [
        "We see that there is not much difference between the trips taken by both vendors."
      ]
    },
    {
      "cell_type": "markdown",
      "metadata": {
        "id": "nAK3K2ypt_nK"
      },
      "source": [
        "Passenger count"
      ]
    },
    {
      "cell_type": "code",
      "execution_count": null,
      "metadata": {
        "id": "yNuTO1zgs9Sh"
      },
      "outputs": [],
      "source": [
        "plt.figure(figsize = (10,5))\n",
        "sns.countplot(x='passenger_count',data=data)\n",
        "plt.ylabel('Count')\n",
        "plt.xlabel('No.of Passngers')\n",
        "plt.show()"
      ]
    },
    {
      "cell_type": "markdown",
      "metadata": {
        "id": "g_j_SH9wuOx2"
      },
      "source": [
        "**Let us remove the rows which have 0 or 8 or 9 passenger count.**"
      ]
    },
    {
      "cell_type": "code",
      "execution_count": null,
      "metadata": {
        "id": "XLpW78bEuPep"
      },
      "outputs": [],
      "source": [
        "data=data[data['passenger_count']!=0]\n",
        "data=data[data['passenger_count']<=6]\n",
        "\n",
        "plt.figure(figsize = (10,5))\n",
        "sns.countplot(x='passenger_count',data=data)\n",
        "plt.ylabel('Count')\n",
        "plt.xlabel('No.of Passngers')\n",
        "plt.show()"
      ]
    },
    {
      "cell_type": "markdown",
      "metadata": {
        "id": "CE6iBDAFubVV"
      },
      "source": [
        "- We see the highest amount of trips was taken by a single passenger.\n",
        "- The instance of large group of people travelling together is rare."
      ]
    },
    {
      "cell_type": "markdown",
      "metadata": {
        "id": "M7zltez9ijf5"
      },
      "source": [
        "**Store and Forward Flag**"
      ]
    },
    {
      "cell_type": "code",
      "execution_count": null,
      "metadata": {
        "id": "WMunM62gueSu"
      },
      "outputs": [],
      "source": [
        "data['store_and_fwd_flag'].value_counts(normalize=True)\n"
      ]
    },
    {
      "cell_type": "markdown",
      "metadata": {
        "id": "tsr-RYG-iqeY"
      },
      "source": [
        "- We can see that only about 1% of the trip details were stored in the vehicle memory first before sending it to the server.\n",
        "\n",
        "- This might have occured because of the GPS or mobile device battery was down when the trip finished."
      ]
    },
    {
      "cell_type": "markdown",
      "metadata": {
        "id": "cLn7aSdUi3_X"
      },
      "source": [
        "**Distance**"
      ]
    },
    {
      "cell_type": "code",
      "execution_count": null,
      "metadata": {
        "id": "dly2qwf1it8o"
      },
      "outputs": [],
      "source": [
        "data['distance'].value_counts()"
      ]
    },
    {
      "cell_type": "code",
      "execution_count": null,
      "metadata": {
        "id": "jRdKfWwsi-kf"
      },
      "outputs": [],
      "source": [
        "# checking distance with boxplot \n",
        "plt.figure(figsize = (10,5))\n",
        "sns.boxplot(data.distance)\n",
        "\n",
        "plt.xlabel('Distance Travelled')\n",
        "plt.show()\n"
      ]
    },
    {
      "cell_type": "markdown",
      "metadata": {
        "id": "GAmkPcuVjUAI"
      },
      "source": [
        "We can clearly see that there are some trips with over 100 km distance &\n",
        "Some of the trips with 0 km distance.\n",
        "\n",
        "The possible reasons for 0 km trips can be:\n",
        "\n",
        "- The passengers or driver cancelled the trip due to some issue.\n",
        "- The dropoff location couldn’t be tracked.\n",
        "- Due to some technical issue in software, etc.\n",
        "\n",
        "So we will remove the outliers and update the values."
      ]
    },
    {
      "cell_type": "code",
      "execution_count": null,
      "metadata": {
        "id": "ZywtLBPpj7Xd"
      },
      "outputs": [],
      "source": [
        "# removing outliers \n",
        "data = data[~(data.distance > 100)]\n",
        "data = data[~(data.distance < 1)]"
      ]
    },
    {
      "cell_type": "code",
      "execution_count": null,
      "metadata": {
        "id": "1y7OnU3wkKOM"
      },
      "outputs": [],
      "source": [
        "plt.figure(figsize = (10,5))\n",
        "sns.boxplot(data.distance)\n",
        "plt.xlabel('Distance Travelled')\n",
        "plt.show()"
      ]
    },
    {
      "cell_type": "markdown",
      "metadata": {
        "id": "BZdDlGAMkOxU"
      },
      "source": [
        "**Speed**"
      ]
    },
    {
      "cell_type": "code",
      "execution_count": null,
      "metadata": {
        "id": "9qXUGq3ZkREM"
      },
      "outputs": [],
      "source": [
        "data['speed'].value_counts()"
      ]
    },
    {
      "cell_type": "code",
      "execution_count": null,
      "metadata": {
        "id": "BUaLIXs4kTBX"
      },
      "outputs": [],
      "source": [
        "# checking for the higest speed \n",
        "data['speed'].nlargest(10)"
      ]
    },
    {
      "cell_type": "code",
      "execution_count": null,
      "metadata": {
        "id": "GERO_EuQkl67"
      },
      "outputs": [],
      "source": [
        "# Let's plot the boxplot for better understanding.\n",
        "plt.figure(figsize = (10,5))\n",
        "sns.boxplot(data.speed)\n",
        "plt.xlabel('Average Speed')\n",
        "plt.show()"
      ]
    },
    {
      "cell_type": "markdown",
      "metadata": {
        "id": "xS8nti1lkyrr"
      },
      "source": [
        "We can see that there are trips that were done at a speed of over 100 km/h.\n",
        "\n",
        "As per the rule in NYC, the speed limit is 25 mph(approx. 40km/h) in New York City unless another limit is posted. So having average speed of over 60km/h is quite unreasonable."
      ]
    },
    {
      "cell_type": "code",
      "execution_count": null,
      "metadata": {
        "id": "txIigFo9kpyr"
      },
      "outputs": [],
      "source": [
        "data = data[~(data.speed >60)]"
      ]
    },
    {
      "cell_type": "code",
      "execution_count": null,
      "metadata": {
        "id": "nIJ6KyhJlGJl"
      },
      "outputs": [],
      "source": [
        "# Lets take a look at the lowest speeds as well.\n",
        "print( data['speed'].nsmallest(10))"
      ]
    },
    {
      "cell_type": "markdown",
      "metadata": {
        "id": "2kRqJOwBlPco"
      },
      "source": [
        "This shows there are speeds which are less than 1 km/hr for a trip which again is quite unreasonable."
      ]
    },
    {
      "cell_type": "code",
      "execution_count": null,
      "metadata": {
        "id": "ep4QQABrlMDQ"
      },
      "outputs": [],
      "source": [
        "data = data[~(data.speed <1)]"
      ]
    },
    {
      "cell_type": "code",
      "execution_count": null,
      "metadata": {
        "id": "1J24Wb28levL"
      },
      "outputs": [],
      "source": [
        "plt.figure(figsize = (10,5))\n",
        "sns.boxplot(data.speed)\n",
        "plt.xlabel('Average Speed')\n",
        "plt.show()"
      ]
    },
    {
      "cell_type": "markdown",
      "metadata": {
        "id": "I_hD6kvpls4p"
      },
      "source": [
        "Let's take a look at the speed range."
      ]
    },
    {
      "cell_type": "code",
      "execution_count": null,
      "metadata": {
        "id": "gW6ul7PSlviw"
      },
      "outputs": [],
      "source": [
        "plt.figure(figsize = (10,5))\n",
        "data.speed.groupby(pd.cut(data.speed, np.arange(0,104,10))).count().plot(kind = 'bar')\n",
        "plt.ylabel('Trip count')\n",
        "plt.xlabel('Speed (Km/H)')\n",
        "plt.show()"
      ]
    },
    {
      "cell_type": "markdown",
      "metadata": {
        "id": "uMpjETRFlzoI"
      },
      "source": [
        "Mostly trips are done at a speed range of 10-20 km/h."
      ]
    },
    {
      "cell_type": "markdown",
      "metadata": {
        "id": "yfgUj47Xl1-J"
      },
      "source": [
        "**Trips per hour**"
      ]
    },
    {
      "cell_type": "code",
      "execution_count": null,
      "metadata": {
        "id": "v5SlGiGul0Yj"
      },
      "outputs": [],
      "source": [
        "plt.figure(figsize = (10,5))\n",
        "sns.countplot(data.pickup_hour)\n",
        "plt.xlabel('Time of pickup (24hr format)')\n",
        "plt.show()"
      ]
    },
    {
      "cell_type": "markdown",
      "metadata": {
        "id": "XpiI0FTvmAZh"
      },
      "source": [
        "We see the busiest hours are 6:00 pm to 7:00 pm which makes sense as this is the time for people to return home from work."
      ]
    },
    {
      "cell_type": "markdown",
      "metadata": {
        "id": "INsGIyZOmDSE"
      },
      "source": [
        "**Trips per week day**"
      ]
    },
    {
      "cell_type": "code",
      "execution_count": null,
      "metadata": {
        "id": "DkT4KkFAl7Sy"
      },
      "outputs": [],
      "source": [
        "plt.figure(figsize = (10,5))\n",
        "sns.countplot(data.pickup_weekday)\n",
        "plt.xlabel('Day of Pickup')\n",
        "plt.ylabel('Pickup counts')\n",
        "plt.show()"
      ]
    },
    {
      "cell_type": "markdown",
      "metadata": {
        "id": "y7cUhweymHc7"
      },
      "source": [
        "We see Fridays are the busiest days followed by Saturdays. That is probably because it’s weekend."
      ]
    },
    {
      "cell_type": "markdown",
      "metadata": {
        "id": "sILhScIimLHr"
      },
      "source": [
        "**Trips per month**"
      ]
    },
    {
      "cell_type": "code",
      "execution_count": null,
      "metadata": {
        "id": "V2NqwuzdmNk5"
      },
      "outputs": [],
      "source": [
        "plt.figure(figsize = (10,5))\n",
        "sns.countplot(data.month)\n",
        "plt.ylabel('Trip Count')\n",
        "plt.xlabel('Months (Jan=1 to June=6) ')\n",
        "plt.show()"
      ]
    },
    {
      "cell_type": "markdown",
      "metadata": {
        "id": "WskQM9n6mQIZ"
      },
      "source": [
        "There is not much difference in the number of trips across months."
      ]
    },
    {
      "cell_type": "markdown",
      "metadata": {
        "id": "DthY1-qAmW6t"
      },
      "source": [
        "# **Bivariate Analysis:**"
      ]
    },
    {
      "cell_type": "markdown",
      "metadata": {
        "id": "Mthpmzokmc-P"
      },
      "source": [
        "**Trip Duration per Vendor**"
      ]
    },
    {
      "cell_type": "code",
      "execution_count": null,
      "metadata": {
        "id": "uwJRvmgfmro5"
      },
      "outputs": [],
      "source": [
        "plt.figure(figsize = (10,5))\n",
        "sns.barplot(y='trip_duration',x='vendor_id',data=data,estimator=np.mean)\n",
        "plt.xlabel('Vendor ID')\n",
        "plt.ylabel('Trip Duration')\n",
        "plt.show()"
      ]
    },
    {
      "cell_type": "markdown",
      "metadata": {
        "id": "m-FBgO6ym7rZ"
      },
      "source": [
        "Vendor id 2 takes longer trips as compared to vendor 1."
      ]
    },
    {
      "cell_type": "markdown",
      "metadata": {
        "id": "xhfufvwDm8ou"
      },
      "source": [
        "**Trip Duration per Store and Forward Flagt**"
      ]
    },
    {
      "cell_type": "code",
      "execution_count": null,
      "metadata": {
        "id": "czfBCLygnCi_"
      },
      "outputs": [],
      "source": [
        "plt.figure(figsize = (10,5))\n",
        "sns.catplot(y='trip_duration',x='store_and_fwd_flag',data=data,kind='strip')\n",
        "plt.xlabel('Store and Forward Flag')\n",
        "plt.ylabel('Duration (seconds)')\n",
        "plt.show()"
      ]
    },
    {
      "cell_type": "markdown",
      "metadata": {
        "id": "Y1vlnO2ZnJHG"
      },
      "source": [
        "There isn't much difference beteen N and Y i.e.stored flags."
      ]
    },
    {
      "cell_type": "markdown",
      "metadata": {
        "id": "hH94H_bxnKhn"
      },
      "source": [
        "**Trip Duration per hour**"
      ]
    },
    {
      "cell_type": "code",
      "execution_count": null,
      "metadata": {
        "id": "ECdagk1CnQbd"
      },
      "outputs": [],
      "source": [
        "plt.figure(figsize = (10,5))\n",
        "sns.lineplot(x='pickup_hour',y='trip_duration',data=data)\n",
        "plt.xlabel('Time of Pickup (24hr format)')\n",
        "plt.ylabel('Duration (seconds)')\n",
        "plt.show()"
      ]
    },
    {
      "cell_type": "markdown",
      "metadata": {
        "id": "3sQRy-O_nXVl"
      },
      "source": [
        "We see the trip duration is the maximum around 3 pm which may be because of traffic on the roads.\n",
        "\n",
        "Trip duration is the lowest around 6 am as streets may not be busy."
      ]
    },
    {
      "cell_type": "markdown",
      "metadata": {
        "id": "UZYJC9nVnakF"
      },
      "source": [
        "**Trip duration per weekday**"
      ]
    },
    {
      "cell_type": "code",
      "execution_count": null,
      "metadata": {
        "id": "nX7vuXuBnd1l"
      },
      "outputs": [],
      "source": [
        "plt.figure(figsize = (10,5))\n",
        "sns.lineplot(x='pickup_weekday',y='trip_duration',data=data)\n",
        "plt.title('Trip duration per weekday')\n",
        "plt.ylabel('Duration (seconds)')\n",
        "plt.show()\n"
      ]
    },
    {
      "cell_type": "markdown",
      "metadata": {
        "id": "jMi9x-IMniiu"
      },
      "source": [
        "Trip duration on thursday is longest among all days."
      ]
    },
    {
      "cell_type": "markdown",
      "metadata": {
        "id": "CfIDf345ntOc"
      },
      "source": [
        "**Trip duration per month**"
      ]
    },
    {
      "cell_type": "code",
      "execution_count": null,
      "metadata": {
        "id": "4DqEaQHfnfhw"
      },
      "outputs": [],
      "source": [
        "plt.figure(figsize = (10,5))\n",
        "sns.lineplot(x='month',y='trip_duration', data=data)\n",
        "plt.ylabel('Duration (seconds)')\n",
        "plt.xlabel('Month of Trip ')\n",
        "\n",
        "plt.show()\n"
      ]
    },
    {
      "cell_type": "markdown",
      "metadata": {
        "id": "24Wl6OI6n1ZJ"
      },
      "source": [
        "From February, we can see trip duration rising every month.\n",
        "\n",
        "There might be some seasonal parameters like wind/rain which can be a factor of this gradual increase in trip duration over a period."
      ]
    },
    {
      "cell_type": "markdown",
      "metadata": {
        "id": "-MuPmuton3uW"
      },
      "source": [
        "**Distance and Vendor**"
      ]
    },
    {
      "cell_type": "code",
      "execution_count": null,
      "metadata": {
        "id": "77mtbgpWnxjT"
      },
      "outputs": [],
      "source": [
        "plt.figure(figsize = (10,5))\n",
        "sns.barplot(y='distance',x='vendor_id',data=data,estimator=np.mean)\n",
        "plt.ylabel('Distance Travelled')\n",
        "plt.xlabel('Vendor ID')\n",
        "plt.show()"
      ]
    },
    {
      "cell_type": "markdown",
      "metadata": {
        "id": "z2YpiRuSn82s"
      },
      "source": [
        "The distribution for both vendors is very similar."
      ]
    },
    {
      "cell_type": "markdown",
      "metadata": {
        "id": "NSct0Ovln_cM"
      },
      "source": [
        "**Distance and Store and Forward Flag**"
      ]
    },
    {
      "cell_type": "code",
      "execution_count": null,
      "metadata": {
        "id": "hxYgOwZdoEZH"
      },
      "outputs": [],
      "source": [
        "plt.figure(figsize = (10,5))\n",
        "sns.catplot(y='distance',x='store_and_fwd_flag',data=data,kind='strip')\n",
        "plt.ylabel('Distance')\n",
        "plt.xlabel('Store and Forward Flag')\n",
        "plt.show()"
      ]
    },
    {
      "cell_type": "markdown",
      "metadata": {
        "id": "Kp5umCjVoOrL"
      },
      "source": [
        "We see for longer distances the trip is not stored."
      ]
    },
    {
      "cell_type": "markdown",
      "metadata": {
        "id": "4ytiXwYXoRjF"
      },
      "source": [
        "**Distance and Hour**"
      ]
    },
    {
      "cell_type": "code",
      "execution_count": null,
      "metadata": {
        "id": "t7H7-6JQoUJj"
      },
      "outputs": [],
      "source": [
        "plt.figure(figsize = (10,5))\n",
        "sns.lineplot(y='distance',x='pickup_hour',data=data)\n",
        "plt.ylabel('Distance')\n",
        "plt.xlabel('Pickup Hour')\n",
        "plt.show()"
      ]
    },
    {
      "cell_type": "markdown",
      "metadata": {
        "id": "LsRUBzl2oW4j"
      },
      "source": [
        "Trip distance is highest during early morning hours.\n",
        "\n",
        "It is fairly equal from morning till the evening varying around 3 - 3.5 kms.\n",
        "\n",
        "It starts increasing gradually towards the late night hours starting from evening till 5 AM and decrease steeply towards morning."
      ]
    },
    {
      "cell_type": "markdown",
      "metadata": {
        "id": "Ba4moD_HocN9"
      },
      "source": [
        "**Distance per Weekday**"
      ]
    },
    {
      "cell_type": "code",
      "execution_count": null,
      "metadata": {
        "colab": {
          "background_save": true
        },
        "id": "1u-gK2KPoWPV",
        "outputId": "917a10ab-aad1-4b7b-da70-96597fceeb2d"
      },
      "outputs": [
        {
          "data": {
            "image/png": "[encoded data removed]",
            "text/plain": [
              "<Figure size 720x360 with 1 Axes>"
            ]
          },
          "metadata": {},
          "output_type": "display_data"
        }
      ],
      "source": [
        "plt.figure(figsize = (10,5))\n",
        "sns.lineplot(x='pickup_weekday', y='distance',data=data)\n",
        "plt.ylabel('Distance')\n",
        "plt.xlabel('Pickup Day of the Week')\n",
        "plt.show()"
      ]
    },
    {
      "cell_type": "markdown",
      "metadata": {
        "id": "hCVDbar8ohq0"
      },
      "source": [
        "So it's a fairly equal distribution with average distance metric verying around 3.5 km/h with Sunday being at the top may be due to outstation trips or night trips towards the airport."
      ]
    },
    {
      "cell_type": "markdown",
      "metadata": {
        "id": "QlVXIjIWo5ih"
      },
      "source": [
        "**Distance and Month**"
      ]
    },
    {
      "cell_type": "code",
      "execution_count": null,
      "metadata": {
        "id": "YrjlzuIuo_rJ"
      },
      "outputs": [],
      "source": [
        "plt.figure(figsize = (10,5))\n",
        "sns.lineplot(x='month', y='distance',data=data)\n",
        "plt.ylabel('Distance')\n",
        "plt.xlabel('Month of trip')\n",
        "plt.show()"
      ]
    },
    {
      "cell_type": "markdown",
      "metadata": {
        "id": "nUnUmPtUpFQi"
      },
      "source": [
        "As we already saw during trip duration per month, similarly trip distance is lowest in 2nd month and maximum in 5th month."
      ]
    },
    {
      "cell_type": "markdown",
      "metadata": {
        "id": "EwJqrt0QpHm_"
      },
      "source": [
        "**Distance and Trip Duration**"
      ]
    },
    {
      "cell_type": "code",
      "execution_count": null,
      "metadata": {
        "id": "1GJwOQgQohTG"
      },
      "outputs": [],
      "source": [
        "plt.figure(figsize = (10,5))\n",
        "plt.scatter(x='trip_duration', y='distance',data=data)\n",
        "plt.ylabel('Distance')\n",
        "plt.xlabel('Trip Duration')\n",
        "plt.show()"
      ]
    },
    {
      "cell_type": "markdown",
      "metadata": {
        "id": "m2BqT7cNpMMz"
      },
      "source": [
        "Initially there is some proper correlation between the distance covered and the trip duration in the graph, but later on it seems a little uncorrelated.\n",
        "\n",
        "So let us  remove those trips which covered 0 km distance."
      ]
    },
    {
      "cell_type": "code",
      "execution_count": null,
      "metadata": {
        "colab": {
          "background_save": true
        },
        "id": "wsbHBhdFpaaY",
        "outputId": "ef88d103-662a-4e83-e9c0-c0bb5faef310"
      },
      "outputs": [
        {
          "data": {
            "image/png": "[encoded data removed]",
            "text/plain": [
              "<Figure size 720x360 with 1 Axes>"
            ]
          },
          "metadata": {},
          "output_type": "display_data"
        }
      ],
      "source": [
        "data = data[~(data.distance == 0)]\n",
        "\n",
        "plt.figure(figsize = (10,5))\n",
        "sns.regplot(data.distance, data.trip_duration)\n",
        "plt.ylabel('Trip Duration')\n",
        "plt.xlabel('Distance')\n",
        "plt.show()"
      ]
    },
    {
      "cell_type": "markdown",
      "metadata": {
        "id": "BvOlzPhAp6O4"
      },
      "source": [
        "WE can see that the straight line shows some linear relation between the two."
      ]
    },
    {
      "cell_type": "markdown",
      "metadata": {
        "id": "RuXyk1iRj2Ga"
      },
      "source": [
        "# **Feature Engineering**"
      ]
    },
    {
      "cell_type": "code",
      "execution_count": null,
      "metadata": {
        "colab": {
          "background_save": true
        },
        "id": "K0J2k9WUjk5N",
        "outputId": "69d6ea4f-992a-459f-fcd9-e8967224749a"
      },
      "outputs": [
        {
          "data": {
            "text/html": [
              "\n",
              "  <div id=\"df-f4f83507-ff4c-40e3-be25-f56f1dec705d\">\n",
              "    <div class=\"colab-df-container\">\n",
              "      <div>\n",
              "<style scoped>\n",
              "    .dataframe tbody tr th:only-of-type {\n",
              "        vertical-align: middle;\n",
              "    }\n",
              "\n",
              "    .dataframe tbody tr th {\n",
              "        vertical-align: top;\n",
              "    }\n",
              "\n",
              "    .dataframe thead th {\n",
              "        text-align: right;\n",
              "    }\n",
              "</style>\n",
              "<table border=\"1\" class=\"dataframe\">\n",
              "  <thead>\n",
              "    <tr style=\"text-align: right;\">\n",
              "      <th></th>\n",
              "      <th>id</th>\n",
              "      <th>vendor_id</th>\n",
              "      <th>pickup_datetime</th>\n",
              "      <th>dropoff_datetime</th>\n",
              "      <th>passenger_count</th>\n",
              "      <th>pickup_longitude</th>\n",
              "      <th>pickup_latitude</th>\n",
              "      <th>dropoff_longitude</th>\n",
              "      <th>dropoff_latitude</th>\n",
              "      <th>store_and_fwd_flag</th>\n",
              "      <th>trip_duration</th>\n",
              "      <th>pickup_weekday</th>\n",
              "      <th>dropoff_weekday</th>\n",
              "      <th>pickup_weekday_num</th>\n",
              "      <th>pickup_hour</th>\n",
              "      <th>month</th>\n",
              "      <th>distance</th>\n",
              "      <th>speed</th>\n",
              "      <th>pickup_timeofday</th>\n",
              "    </tr>\n",
              "  </thead>\n",
              "  <tbody>\n",
              "    <tr>\n",
              "      <th>0</th>\n",
              "      <td>id2875421</td>\n",
              "      <td>2</td>\n",
              "      <td>2016-03-14 17:24:55</td>\n",
              "      <td>2016-03-14 17:32:30</td>\n",
              "      <td>1</td>\n",
              "      <td>-73.982155</td>\n",
              "      <td>40.767937</td>\n",
              "      <td>-73.964630</td>\n",
              "      <td>40.765602</td>\n",
              "      <td>N</td>\n",
              "      <td>455</td>\n",
              "      <td>Monday</td>\n",
              "      <td>Monday</td>\n",
              "      <td>0</td>\n",
              "      <td>17</td>\n",
              "      <td>3</td>\n",
              "      <td>1.498523</td>\n",
              "      <td>11.856445</td>\n",
              "      <td>Evening</td>\n",
              "    </tr>\n",
              "    <tr>\n",
              "      <th>1</th>\n",
              "      <td>id2377394</td>\n",
              "      <td>1</td>\n",
              "      <td>2016-06-12 00:43:35</td>\n",
              "      <td>2016-06-12 00:54:38</td>\n",
              "      <td>1</td>\n",
              "      <td>-73.980415</td>\n",
              "      <td>40.738564</td>\n",
              "      <td>-73.999481</td>\n",
              "      <td>40.731152</td>\n",
              "      <td>N</td>\n",
              "      <td>663</td>\n",
              "      <td>Sunday</td>\n",
              "      <td>Sunday</td>\n",
              "      <td>6</td>\n",
              "      <td>0</td>\n",
              "      <td>6</td>\n",
              "      <td>1.805510</td>\n",
              "      <td>9.803673</td>\n",
              "      <td>Late night</td>\n",
              "    </tr>\n",
              "    <tr>\n",
              "      <th>2</th>\n",
              "      <td>id3858529</td>\n",
              "      <td>2</td>\n",
              "      <td>2016-01-19 11:35:24</td>\n",
              "      <td>2016-01-19 12:10:48</td>\n",
              "      <td>1</td>\n",
              "      <td>-73.979027</td>\n",
              "      <td>40.763939</td>\n",
              "      <td>-74.005333</td>\n",
              "      <td>40.710087</td>\n",
              "      <td>N</td>\n",
              "      <td>2124</td>\n",
              "      <td>Tuesday</td>\n",
              "      <td>Tuesday</td>\n",
              "      <td>1</td>\n",
              "      <td>11</td>\n",
              "      <td>1</td>\n",
              "      <td>6.385108</td>\n",
              "      <td>10.822216</td>\n",
              "      <td>Morning</td>\n",
              "    </tr>\n",
              "    <tr>\n",
              "      <th>3</th>\n",
              "      <td>id3504673</td>\n",
              "      <td>2</td>\n",
              "      <td>2016-04-06 19:32:31</td>\n",
              "      <td>2016-04-06 19:39:40</td>\n",
              "      <td>1</td>\n",
              "      <td>-74.010040</td>\n",
              "      <td>40.719971</td>\n",
              "      <td>-74.012268</td>\n",
              "      <td>40.706718</td>\n",
              "      <td>N</td>\n",
              "      <td>429</td>\n",
              "      <td>Wednesday</td>\n",
              "      <td>Wednesday</td>\n",
              "      <td>2</td>\n",
              "      <td>19</td>\n",
              "      <td>4</td>\n",
              "      <td>1.485501</td>\n",
              "      <td>12.465739</td>\n",
              "      <td>Evening</td>\n",
              "    </tr>\n",
              "    <tr>\n",
              "      <th>4</th>\n",
              "      <td>id2181028</td>\n",
              "      <td>2</td>\n",
              "      <td>2016-03-26 13:30:55</td>\n",
              "      <td>2016-03-26 13:38:10</td>\n",
              "      <td>1</td>\n",
              "      <td>-73.973053</td>\n",
              "      <td>40.793209</td>\n",
              "      <td>-73.972923</td>\n",
              "      <td>40.782520</td>\n",
              "      <td>N</td>\n",
              "      <td>435</td>\n",
              "      <td>Saturday</td>\n",
              "      <td>Saturday</td>\n",
              "      <td>5</td>\n",
              "      <td>13</td>\n",
              "      <td>3</td>\n",
              "      <td>1.188590</td>\n",
              "      <td>9.836608</td>\n",
              "      <td>Afternoon</td>\n",
              "    </tr>\n",
              "  </tbody>\n",
              "</table>\n",
              "</div>\n",
              "      <button class=\"colab-df-convert\" onclick=\"convertToInteractive('df-f4f83507-ff4c-40e3-be25-f56f1dec705d')\"\n",
              "              title=\"Convert this dataframe to an interactive table.\"\n",
              "              style=\"display:none;\">\n",
              "        \n",
              "  <svg xmlns=\"http://www.w3.org/2000/svg\" height=\"24px\"viewBox=\"0 0 24 24\"\n",
              "       width=\"24px\">\n",
              "    <path d=\"M0 0h24v24H0V0z\" fill=\"none\"/>\n",
              "    <path d=\"M18.56 5.44l.94 2.06.94-2.06 2.06-.94-2.06-.94-.94-2.06-.94 2.06-2.06.94zm-11 1L8.5 8.5l.94-2.06 2.06-.94-2.06-.94L8.5 2.5l-.94 2.06-2.06.94zm10 10l.94 2.06.94-2.06 2.06-.94-2.06-.94-.94-2.06-.94 2.06-2.06.94z\"/><path d=\"M17.41 7.96l-1.37-1.37c-.4-.4-.92-.59-1.43-.59-.52 0-1.04.2-1.43.59L10.3 9.45l-7.72 7.72c-.78.78-.78 2.05 0 2.83L4 21.41c.39.39.9.59 1.41.59.51 0 1.02-.2 1.41-.59l7.78-7.78 2.81-2.81c.8-.78.8-2.07 0-2.86zM5.41 20L4 18.59l7.72-7.72 1.47 1.35L5.41 20z\"/>\n",
              "  </svg>\n",
              "      </button>\n",
              "      \n",
              "  <style>\n",
              "    .colab-df-container {\n",
              "      display:flex;\n",
              "      flex-wrap:wrap;\n",
              "      gap: 12px;\n",
              "    }\n",
              "\n",
              "    .colab-df-convert {\n",
              "      background-color: #E8F0FE;\n",
              "      border: none;\n",
              "      border-radius: 50%;\n",
              "      cursor: pointer;\n",
              "      display: none;\n",
              "      fill: #1967D2;\n",
              "      height: 32px;\n",
              "      padding: 0 0 0 0;\n",
              "      width: 32px;\n",
              "    }\n",
              "\n",
              "    .colab-df-convert:hover {\n",
              "      background-color: #E2EBFA;\n",
              "      box-shadow: 0px 1px 2px rgba(60, 64, 67, 0.3), 0px 1px 3px 1px rgba(60, 64, 67, 0.15);\n",
              "      fill: #174EA6;\n",
              "    }\n",
              "\n",
              "    [theme=dark] .colab-df-convert {\n",
              "      background-color: #3B4455;\n",
              "      fill: #D2E3FC;\n",
              "    }\n",
              "\n",
              "    [theme=dark] .colab-df-convert:hover {\n",
              "      background-color: #434B5C;\n",
              "      box-shadow: 0px 1px 3px 1px rgba(0, 0, 0, 0.15);\n",
              "      filter: drop-shadow(0px 1px 2px rgba(0, 0, 0, 0.3));\n",
              "      fill: #FFFFFF;\n",
              "    }\n",
              "  </style>\n",
              "\n",
              "      <script>\n",
              "        const buttonEl =\n",
              "          document.querySelector('#df-f4f83507-ff4c-40e3-be25-f56f1dec705d button.colab-df-convert');\n",
              "        buttonEl.style.display =\n",
              "          google.colab.kernel.accessAllowed ? 'block' : 'none';\n",
              "\n",
              "        async function convertToInteractive(key) {\n",
              "          const element = document.querySelector('#df-f4f83507-ff4c-40e3-be25-f56f1dec705d');\n",
              "          const dataTable =\n",
              "            await google.colab.kernel.invokeFunction('convertToInteractive',\n",
              "                                                     [key], {});\n",
              "          if (!dataTable) return;\n",
              "\n",
              "          const docLinkHtml = 'Like what you see? Visit the ' +\n",
              "            '<a target=\"_blank\" href=https://colab.research.google.com/notebooks/data_table.ipynb>data table notebook</a>'\n",
              "            + ' to learn more about interactive tables.';\n",
              "          element.innerHTML = '';\n",
              "          dataTable['output_type'] = 'display_data';\n",
              "          await google.colab.output.renderOutput(dataTable, element);\n",
              "          const docLink = document.createElement('div');\n",
              "          docLink.innerHTML = docLinkHtml;\n",
              "          element.appendChild(docLink);\n",
              "        }\n",
              "      </script>\n",
              "    </div>\n",
              "  </div>\n",
              "  "
            ],
            "text/plain": [
              "          id  vendor_id     pickup_datetime    dropoff_datetime  \\\n",
              "0  id2875421          2 2016-03-14 17:24:55 2016-03-14 17:32:30   \n",
              "1  id2377394          1 2016-06-12 00:43:35 2016-06-12 00:54:38   \n",
              "2  id3858529          2 2016-01-19 11:35:24 2016-01-19 12:10:48   \n",
              "3  id3504673          2 2016-04-06 19:32:31 2016-04-06 19:39:40   \n",
              "4  id2181028          2 2016-03-26 13:30:55 2016-03-26 13:38:10   \n",
              "\n",
              "   passenger_count  pickup_longitude  pickup_latitude  dropoff_longitude  \\\n",
              "0                1        -73.982155        40.767937         -73.964630   \n",
              "1                1        -73.980415        40.738564         -73.999481   \n",
              "2                1        -73.979027        40.763939         -74.005333   \n",
              "3                1        -74.010040        40.719971         -74.012268   \n",
              "4                1        -73.973053        40.793209         -73.972923   \n",
              "\n",
              "   dropoff_latitude store_and_fwd_flag  trip_duration pickup_weekday  \\\n",
              "0         40.765602                  N            455         Monday   \n",
              "1         40.731152                  N            663         Sunday   \n",
              "2         40.710087                  N           2124        Tuesday   \n",
              "3         40.706718                  N            429      Wednesday   \n",
              "4         40.782520                  N            435       Saturday   \n",
              "\n",
              "  dropoff_weekday  pickup_weekday_num  pickup_hour  month  distance  \\\n",
              "0          Monday                   0           17      3  1.498523   \n",
              "1          Sunday                   6            0      6  1.805510   \n",
              "2         Tuesday                   1           11      1  6.385108   \n",
              "3       Wednesday                   2           19      4  1.485501   \n",
              "4        Saturday                   5           13      3  1.188590   \n",
              "\n",
              "       speed pickup_timeofday  \n",
              "0  11.856445          Evening  \n",
              "1   9.803673       Late night  \n",
              "2  10.822216          Morning  \n",
              "3  12.465739          Evening  \n",
              "4   9.836608        Afternoon  "
            ]
          },
          "execution_count": null,
          "metadata": {},
          "output_type": "execute_result"
        }
      ],
      "source": [
        "data.head()"
      ]
    },
    {
      "cell_type": "markdown",
      "metadata": {
        "id": "Vv1ALOhODCbo"
      },
      "source": [
        "## One hat Encoding\n",
        "\n",
        "### Let us create dummy features like 'pickup_weekday'."
      ]
    },
    {
      "cell_type": "markdown",
      "metadata": {
        "id": "289s0nvirVJu"
      },
      "source": [
        " **One Hot Encoding**\n",
        "\n",
        " Let us dummify  features like 'store_and_fwd_flag', and 'pickup_weekday'."
      ]
    },
    {
      "cell_type": "code",
      "execution_count": null,
      "metadata": {
        "colab": {
          "background_save": true
        },
        "id": "0-_q1k2-q58W"
      },
      "outputs": [],
      "source": [
        "dummy = pd.get_dummies(data.store_and_fwd_flag, prefix='store_and_fwd_flag')\n",
        "data = pd.concat([data,dummy], axis = 1)\n",
        "\n",
        "dummy = pd.get_dummies(data.pickup_weekday, prefix='pickup_weekday', drop_first=True)\n",
        "data = pd.concat([data,dummy], axis = 1,)\n"
      ]
    },
    {
      "cell_type": "markdown",
      "metadata": {
        "id": "xBjGv0z8rrUf"
      },
      "source": [
        "Let's convert trip_duration in hours."
      ]
    },
    {
      "cell_type": "code",
      "execution_count": null,
      "metadata": {
        "colab": {
          "background_save": true
        },
        "id": "jNrfUpdkrsnd"
      },
      "outputs": [],
      "source": [
        "data['trip_duration_hour']=data['trip_duration']/3600"
      ]
    },
    {
      "cell_type": "code",
      "execution_count": null,
      "metadata": {
        "colab": {
          "background_save": true
        },
        "id": "fNtSFqCqrwsl",
        "outputId": "566269e0-3bef-4831-f2f4-955aa6829a3b"
      },
      "outputs": [
        {
          "data": {
            "text/html": [
              "\n",
              "  <div id=\"df-d7d47533-6dbd-4ec0-9a61-5063ad901b52\">\n",
              "    <div class=\"colab-df-container\">\n",
              "      <div>\n",
              "<style scoped>\n",
              "    .dataframe tbody tr th:only-of-type {\n",
              "        vertical-align: middle;\n",
              "    }\n",
              "\n",
              "    .dataframe tbody tr th {\n",
              "        vertical-align: top;\n",
              "    }\n",
              "\n",
              "    .dataframe thead th {\n",
              "        text-align: right;\n",
              "    }\n",
              "</style>\n",
              "<table border=\"1\" class=\"dataframe\">\n",
              "  <thead>\n",
              "    <tr style=\"text-align: right;\">\n",
              "      <th></th>\n",
              "      <th>id</th>\n",
              "      <th>vendor_id</th>\n",
              "      <th>pickup_datetime</th>\n",
              "      <th>dropoff_datetime</th>\n",
              "      <th>passenger_count</th>\n",
              "      <th>pickup_longitude</th>\n",
              "      <th>pickup_latitude</th>\n",
              "      <th>dropoff_longitude</th>\n",
              "      <th>dropoff_latitude</th>\n",
              "      <th>store_and_fwd_flag</th>\n",
              "      <th>...</th>\n",
              "      <th>pickup_timeofday</th>\n",
              "      <th>store_and_fwd_flag_N</th>\n",
              "      <th>store_and_fwd_flag_Y</th>\n",
              "      <th>pickup_weekday_Monday</th>\n",
              "      <th>pickup_weekday_Saturday</th>\n",
              "      <th>pickup_weekday_Sunday</th>\n",
              "      <th>pickup_weekday_Thursday</th>\n",
              "      <th>pickup_weekday_Tuesday</th>\n",
              "      <th>pickup_weekday_Wednesday</th>\n",
              "      <th>trip_duration_hour</th>\n",
              "    </tr>\n",
              "  </thead>\n",
              "  <tbody>\n",
              "    <tr>\n",
              "      <th>0</th>\n",
              "      <td>id2875421</td>\n",
              "      <td>2</td>\n",
              "      <td>2016-03-14 17:24:55</td>\n",
              "      <td>2016-03-14 17:32:30</td>\n",
              "      <td>1</td>\n",
              "      <td>-73.982155</td>\n",
              "      <td>40.767937</td>\n",
              "      <td>-73.964630</td>\n",
              "      <td>40.765602</td>\n",
              "      <td>N</td>\n",
              "      <td>...</td>\n",
              "      <td>Evening</td>\n",
              "      <td>1</td>\n",
              "      <td>0</td>\n",
              "      <td>1</td>\n",
              "      <td>0</td>\n",
              "      <td>0</td>\n",
              "      <td>0</td>\n",
              "      <td>0</td>\n",
              "      <td>0</td>\n",
              "      <td>0.126389</td>\n",
              "    </tr>\n",
              "    <tr>\n",
              "      <th>1</th>\n",
              "      <td>id2377394</td>\n",
              "      <td>1</td>\n",
              "      <td>2016-06-12 00:43:35</td>\n",
              "      <td>2016-06-12 00:54:38</td>\n",
              "      <td>1</td>\n",
              "      <td>-73.980415</td>\n",
              "      <td>40.738564</td>\n",
              "      <td>-73.999481</td>\n",
              "      <td>40.731152</td>\n",
              "      <td>N</td>\n",
              "      <td>...</td>\n",
              "      <td>Late night</td>\n",
              "      <td>1</td>\n",
              "      <td>0</td>\n",
              "      <td>0</td>\n",
              "      <td>0</td>\n",
              "      <td>1</td>\n",
              "      <td>0</td>\n",
              "      <td>0</td>\n",
              "      <td>0</td>\n",
              "      <td>0.184167</td>\n",
              "    </tr>\n",
              "    <tr>\n",
              "      <th>2</th>\n",
              "      <td>id3858529</td>\n",
              "      <td>2</td>\n",
              "      <td>2016-01-19 11:35:24</td>\n",
              "      <td>2016-01-19 12:10:48</td>\n",
              "      <td>1</td>\n",
              "      <td>-73.979027</td>\n",
              "      <td>40.763939</td>\n",
              "      <td>-74.005333</td>\n",
              "      <td>40.710087</td>\n",
              "      <td>N</td>\n",
              "      <td>...</td>\n",
              "      <td>Morning</td>\n",
              "      <td>1</td>\n",
              "      <td>0</td>\n",
              "      <td>0</td>\n",
              "      <td>0</td>\n",
              "      <td>0</td>\n",
              "      <td>0</td>\n",
              "      <td>1</td>\n",
              "      <td>0</td>\n",
              "      <td>0.590000</td>\n",
              "    </tr>\n",
              "    <tr>\n",
              "      <th>3</th>\n",
              "      <td>id3504673</td>\n",
              "      <td>2</td>\n",
              "      <td>2016-04-06 19:32:31</td>\n",
              "      <td>2016-04-06 19:39:40</td>\n",
              "      <td>1</td>\n",
              "      <td>-74.010040</td>\n",
              "      <td>40.719971</td>\n",
              "      <td>-74.012268</td>\n",
              "      <td>40.706718</td>\n",
              "      <td>N</td>\n",
              "      <td>...</td>\n",
              "      <td>Evening</td>\n",
              "      <td>1</td>\n",
              "      <td>0</td>\n",
              "      <td>0</td>\n",
              "      <td>0</td>\n",
              "      <td>0</td>\n",
              "      <td>0</td>\n",
              "      <td>0</td>\n",
              "      <td>1</td>\n",
              "      <td>0.119167</td>\n",
              "    </tr>\n",
              "    <tr>\n",
              "      <th>4</th>\n",
              "      <td>id2181028</td>\n",
              "      <td>2</td>\n",
              "      <td>2016-03-26 13:30:55</td>\n",
              "      <td>2016-03-26 13:38:10</td>\n",
              "      <td>1</td>\n",
              "      <td>-73.973053</td>\n",
              "      <td>40.793209</td>\n",
              "      <td>-73.972923</td>\n",
              "      <td>40.782520</td>\n",
              "      <td>N</td>\n",
              "      <td>...</td>\n",
              "      <td>Afternoon</td>\n",
              "      <td>1</td>\n",
              "      <td>0</td>\n",
              "      <td>0</td>\n",
              "      <td>1</td>\n",
              "      <td>0</td>\n",
              "      <td>0</td>\n",
              "      <td>0</td>\n",
              "      <td>0</td>\n",
              "      <td>0.120833</td>\n",
              "    </tr>\n",
              "  </tbody>\n",
              "</table>\n",
              "<p>5 rows × 28 columns</p>\n",
              "</div>\n",
              "      <button class=\"colab-df-convert\" onclick=\"convertToInteractive('df-d7d47533-6dbd-4ec0-9a61-5063ad901b52')\"\n",
              "              title=\"Convert this dataframe to an interactive table.\"\n",
              "              style=\"display:none;\">\n",
              "        \n",
              "  <svg xmlns=\"http://www.w3.org/2000/svg\" height=\"24px\"viewBox=\"0 0 24 24\"\n",
              "       width=\"24px\">\n",
              "    <path d=\"M0 0h24v24H0V0z\" fill=\"none\"/>\n",
              "    <path d=\"M18.56 5.44l.94 2.06.94-2.06 2.06-.94-2.06-.94-.94-2.06-.94 2.06-2.06.94zm-11 1L8.5 8.5l.94-2.06 2.06-.94-2.06-.94L8.5 2.5l-.94 2.06-2.06.94zm10 10l.94 2.06.94-2.06 2.06-.94-2.06-.94-.94-2.06-.94 2.06-2.06.94z\"/><path d=\"M17.41 7.96l-1.37-1.37c-.4-.4-.92-.59-1.43-.59-.52 0-1.04.2-1.43.59L10.3 9.45l-7.72 7.72c-.78.78-.78 2.05 0 2.83L4 21.41c.39.39.9.59 1.41.59.51 0 1.02-.2 1.41-.59l7.78-7.78 2.81-2.81c.8-.78.8-2.07 0-2.86zM5.41 20L4 18.59l7.72-7.72 1.47 1.35L5.41 20z\"/>\n",
              "  </svg>\n",
              "      </button>\n",
              "      \n",
              "  <style>\n",
              "    .colab-df-container {\n",
              "      display:flex;\n",
              "      flex-wrap:wrap;\n",
              "      gap: 12px;\n",
              "    }\n",
              "\n",
              "    .colab-df-convert {\n",
              "      background-color: #E8F0FE;\n",
              "      border: none;\n",
              "      border-radius: 50%;\n",
              "      cursor: pointer;\n",
              "      display: none;\n",
              "      fill: #1967D2;\n",
              "      height: 32px;\n",
              "      padding: 0 0 0 0;\n",
              "      width: 32px;\n",
              "    }\n",
              "\n",
              "    .colab-df-convert:hover {\n",
              "      background-color: #E2EBFA;\n",
              "      box-shadow: 0px 1px 2px rgba(60, 64, 67, 0.3), 0px 1px 3px 1px rgba(60, 64, 67, 0.15);\n",
              "      fill: #174EA6;\n",
              "    }\n",
              "\n",
              "    [theme=dark] .colab-df-convert {\n",
              "      background-color: #3B4455;\n",
              "      fill: #D2E3FC;\n",
              "    }\n",
              "\n",
              "    [theme=dark] .colab-df-convert:hover {\n",
              "      background-color: #434B5C;\n",
              "      box-shadow: 0px 1px 3px 1px rgba(0, 0, 0, 0.15);\n",
              "      filter: drop-shadow(0px 1px 2px rgba(0, 0, 0, 0.3));\n",
              "      fill: #FFFFFF;\n",
              "    }\n",
              "  </style>\n",
              "\n",
              "      <script>\n",
              "        const buttonEl =\n",
              "          document.querySelector('#df-d7d47533-6dbd-4ec0-9a61-5063ad901b52 button.colab-df-convert');\n",
              "        buttonEl.style.display =\n",
              "          google.colab.kernel.accessAllowed ? 'block' : 'none';\n",
              "\n",
              "        async function convertToInteractive(key) {\n",
              "          const element = document.querySelector('#df-d7d47533-6dbd-4ec0-9a61-5063ad901b52');\n",
              "          const dataTable =\n",
              "            await google.colab.kernel.invokeFunction('convertToInteractive',\n",
              "                                                     [key], {});\n",
              "          if (!dataTable) return;\n",
              "\n",
              "          const docLinkHtml = 'Like what you see? Visit the ' +\n",
              "            '<a target=\"_blank\" href=https://colab.research.google.com/notebooks/data_table.ipynb>data table notebook</a>'\n",
              "            + ' to learn more about interactive tables.';\n",
              "          element.innerHTML = '';\n",
              "          dataTable['output_type'] = 'display_data';\n",
              "          await google.colab.output.renderOutput(dataTable, element);\n",
              "          const docLink = document.createElement('div');\n",
              "          docLink.innerHTML = docLinkHtml;\n",
              "          element.appendChild(docLink);\n",
              "        }\n",
              "      </script>\n",
              "    </div>\n",
              "  </div>\n",
              "  "
            ],
            "text/plain": [
              "          id  vendor_id     pickup_datetime    dropoff_datetime  \\\n",
              "0  id2875421          2 2016-03-14 17:24:55 2016-03-14 17:32:30   \n",
              "1  id2377394          1 2016-06-12 00:43:35 2016-06-12 00:54:38   \n",
              "2  id3858529          2 2016-01-19 11:35:24 2016-01-19 12:10:48   \n",
              "3  id3504673          2 2016-04-06 19:32:31 2016-04-06 19:39:40   \n",
              "4  id2181028          2 2016-03-26 13:30:55 2016-03-26 13:38:10   \n",
              "\n",
              "   passenger_count  pickup_longitude  pickup_latitude  dropoff_longitude  \\\n",
              "0                1        -73.982155        40.767937         -73.964630   \n",
              "1                1        -73.980415        40.738564         -73.999481   \n",
              "2                1        -73.979027        40.763939         -74.005333   \n",
              "3                1        -74.010040        40.719971         -74.012268   \n",
              "4                1        -73.973053        40.793209         -73.972923   \n",
              "\n",
              "   dropoff_latitude store_and_fwd_flag  ...  pickup_timeofday  \\\n",
              "0         40.765602                  N  ...           Evening   \n",
              "1         40.731152                  N  ...        Late night   \n",
              "2         40.710087                  N  ...           Morning   \n",
              "3         40.706718                  N  ...           Evening   \n",
              "4         40.782520                  N  ...         Afternoon   \n",
              "\n",
              "  store_and_fwd_flag_N store_and_fwd_flag_Y  pickup_weekday_Monday  \\\n",
              "0                    1                    0                      1   \n",
              "1                    1                    0                      0   \n",
              "2                    1                    0                      0   \n",
              "3                    1                    0                      0   \n",
              "4                    1                    0                      0   \n",
              "\n",
              "   pickup_weekday_Saturday  pickup_weekday_Sunday  pickup_weekday_Thursday  \\\n",
              "0                        0                      0                        0   \n",
              "1                        0                      1                        0   \n",
              "2                        0                      0                        0   \n",
              "3                        0                      0                        0   \n",
              "4                        1                      0                        0   \n",
              "\n",
              "   pickup_weekday_Tuesday pickup_weekday_Wednesday  trip_duration_hour  \n",
              "0                       0                        0            0.126389  \n",
              "1                       0                        0            0.184167  \n",
              "2                       1                        0            0.590000  \n",
              "3                       0                        1            0.119167  \n",
              "4                       0                        0            0.120833  \n",
              "\n",
              "[5 rows x 28 columns]"
            ]
          },
          "execution_count": null,
          "metadata": {},
          "output_type": "execute_result"
        }
      ],
      "source": [
        "data.head()"
      ]
    },
    {
      "cell_type": "markdown",
      "metadata": {
        "id": "kGMftcA2r5yK"
      },
      "source": [
        "**Let us remove the colmns which are not important for further analysis.**"
      ]
    },
    {
      "cell_type": "code",
      "execution_count": null,
      "metadata": {
        "colab": {
          "background_save": true
        },
        "id": "OMfGI0dDr7uf",
        "outputId": "b680496a-3078-4638-bc20-b34dc43b30b0"
      },
      "outputs": [
        {
          "data": {
            "text/html": [
              "\n",
              "  <div id=\"df-67555017-9429-4782-aea2-edc6cb217068\">\n",
              "    <div class=\"colab-df-container\">\n",
              "      <div>\n",
              "<style scoped>\n",
              "    .dataframe tbody tr th:only-of-type {\n",
              "        vertical-align: middle;\n",
              "    }\n",
              "\n",
              "    .dataframe tbody tr th {\n",
              "        vertical-align: top;\n",
              "    }\n",
              "\n",
              "    .dataframe thead th {\n",
              "        text-align: right;\n",
              "    }\n",
              "</style>\n",
              "<table border=\"1\" class=\"dataframe\">\n",
              "  <thead>\n",
              "    <tr style=\"text-align: right;\">\n",
              "      <th></th>\n",
              "      <th>vendor_id</th>\n",
              "      <th>passenger_count</th>\n",
              "      <th>pickup_longitude</th>\n",
              "      <th>pickup_latitude</th>\n",
              "      <th>dropoff_longitude</th>\n",
              "      <th>dropoff_latitude</th>\n",
              "      <th>pickup_hour</th>\n",
              "      <th>month</th>\n",
              "      <th>distance</th>\n",
              "      <th>store_and_fwd_flag_N</th>\n",
              "      <th>store_and_fwd_flag_Y</th>\n",
              "      <th>pickup_weekday_Monday</th>\n",
              "      <th>pickup_weekday_Saturday</th>\n",
              "      <th>pickup_weekday_Sunday</th>\n",
              "      <th>pickup_weekday_Thursday</th>\n",
              "      <th>pickup_weekday_Tuesday</th>\n",
              "      <th>pickup_weekday_Wednesday</th>\n",
              "      <th>trip_duration_hour</th>\n",
              "    </tr>\n",
              "  </thead>\n",
              "  <tbody>\n",
              "    <tr>\n",
              "      <th>0</th>\n",
              "      <td>2</td>\n",
              "      <td>1</td>\n",
              "      <td>-73.982155</td>\n",
              "      <td>40.767937</td>\n",
              "      <td>-73.964630</td>\n",
              "      <td>40.765602</td>\n",
              "      <td>17</td>\n",
              "      <td>3</td>\n",
              "      <td>1.498523</td>\n",
              "      <td>1</td>\n",
              "      <td>0</td>\n",
              "      <td>1</td>\n",
              "      <td>0</td>\n",
              "      <td>0</td>\n",
              "      <td>0</td>\n",
              "      <td>0</td>\n",
              "      <td>0</td>\n",
              "      <td>0.126389</td>\n",
              "    </tr>\n",
              "    <tr>\n",
              "      <th>1</th>\n",
              "      <td>1</td>\n",
              "      <td>1</td>\n",
              "      <td>-73.980415</td>\n",
              "      <td>40.738564</td>\n",
              "      <td>-73.999481</td>\n",
              "      <td>40.731152</td>\n",
              "      <td>0</td>\n",
              "      <td>6</td>\n",
              "      <td>1.805510</td>\n",
              "      <td>1</td>\n",
              "      <td>0</td>\n",
              "      <td>0</td>\n",
              "      <td>0</td>\n",
              "      <td>1</td>\n",
              "      <td>0</td>\n",
              "      <td>0</td>\n",
              "      <td>0</td>\n",
              "      <td>0.184167</td>\n",
              "    </tr>\n",
              "    <tr>\n",
              "      <th>2</th>\n",
              "      <td>2</td>\n",
              "      <td>1</td>\n",
              "      <td>-73.979027</td>\n",
              "      <td>40.763939</td>\n",
              "      <td>-74.005333</td>\n",
              "      <td>40.710087</td>\n",
              "      <td>11</td>\n",
              "      <td>1</td>\n",
              "      <td>6.385108</td>\n",
              "      <td>1</td>\n",
              "      <td>0</td>\n",
              "      <td>0</td>\n",
              "      <td>0</td>\n",
              "      <td>0</td>\n",
              "      <td>0</td>\n",
              "      <td>1</td>\n",
              "      <td>0</td>\n",
              "      <td>0.590000</td>\n",
              "    </tr>\n",
              "    <tr>\n",
              "      <th>3</th>\n",
              "      <td>2</td>\n",
              "      <td>1</td>\n",
              "      <td>-74.010040</td>\n",
              "      <td>40.719971</td>\n",
              "      <td>-74.012268</td>\n",
              "      <td>40.706718</td>\n",
              "      <td>19</td>\n",
              "      <td>4</td>\n",
              "      <td>1.485501</td>\n",
              "      <td>1</td>\n",
              "      <td>0</td>\n",
              "      <td>0</td>\n",
              "      <td>0</td>\n",
              "      <td>0</td>\n",
              "      <td>0</td>\n",
              "      <td>0</td>\n",
              "      <td>1</td>\n",
              "      <td>0.119167</td>\n",
              "    </tr>\n",
              "    <tr>\n",
              "      <th>4</th>\n",
              "      <td>2</td>\n",
              "      <td>1</td>\n",
              "      <td>-73.973053</td>\n",
              "      <td>40.793209</td>\n",
              "      <td>-73.972923</td>\n",
              "      <td>40.782520</td>\n",
              "      <td>13</td>\n",
              "      <td>3</td>\n",
              "      <td>1.188590</td>\n",
              "      <td>1</td>\n",
              "      <td>0</td>\n",
              "      <td>0</td>\n",
              "      <td>1</td>\n",
              "      <td>0</td>\n",
              "      <td>0</td>\n",
              "      <td>0</td>\n",
              "      <td>0</td>\n",
              "      <td>0.120833</td>\n",
              "    </tr>\n",
              "  </tbody>\n",
              "</table>\n",
              "</div>\n",
              "      <button class=\"colab-df-convert\" onclick=\"convertToInteractive('df-67555017-9429-4782-aea2-edc6cb217068')\"\n",
              "              title=\"Convert this dataframe to an interactive table.\"\n",
              "              style=\"display:none;\">\n",
              "        \n",
              "  <svg xmlns=\"http://www.w3.org/2000/svg\" height=\"24px\"viewBox=\"0 0 24 24\"\n",
              "       width=\"24px\">\n",
              "    <path d=\"M0 0h24v24H0V0z\" fill=\"none\"/>\n",
              "    <path d=\"M18.56 5.44l.94 2.06.94-2.06 2.06-.94-2.06-.94-.94-2.06-.94 2.06-2.06.94zm-11 1L8.5 8.5l.94-2.06 2.06-.94-2.06-.94L8.5 2.5l-.94 2.06-2.06.94zm10 10l.94 2.06.94-2.06 2.06-.94-2.06-.94-.94-2.06-.94 2.06-2.06.94z\"/><path d=\"M17.41 7.96l-1.37-1.37c-.4-.4-.92-.59-1.43-.59-.52 0-1.04.2-1.43.59L10.3 9.45l-7.72 7.72c-.78.78-.78 2.05 0 2.83L4 21.41c.39.39.9.59 1.41.59.51 0 1.02-.2 1.41-.59l7.78-7.78 2.81-2.81c.8-.78.8-2.07 0-2.86zM5.41 20L4 18.59l7.72-7.72 1.47 1.35L5.41 20z\"/>\n",
              "  </svg>\n",
              "      </button>\n",
              "      \n",
              "  <style>\n",
              "    .colab-df-container {\n",
              "      display:flex;\n",
              "      flex-wrap:wrap;\n",
              "      gap: 12px;\n",
              "    }\n",
              "\n",
              "    .colab-df-convert {\n",
              "      background-color: #E8F0FE;\n",
              "      border: none;\n",
              "      border-radius: 50%;\n",
              "      cursor: pointer;\n",
              "      display: none;\n",
              "      fill: #1967D2;\n",
              "      height: 32px;\n",
              "      padding: 0 0 0 0;\n",
              "      width: 32px;\n",
              "    }\n",
              "\n",
              "    .colab-df-convert:hover {\n",
              "      background-color: #E2EBFA;\n",
              "      box-shadow: 0px 1px 2px rgba(60, 64, 67, 0.3), 0px 1px 3px 1px rgba(60, 64, 67, 0.15);\n",
              "      fill: #174EA6;\n",
              "    }\n",
              "\n",
              "    [theme=dark] .colab-df-convert {\n",
              "      background-color: #3B4455;\n",
              "      fill: #D2E3FC;\n",
              "    }\n",
              "\n",
              "    [theme=dark] .colab-df-convert:hover {\n",
              "      background-color: #434B5C;\n",
              "      box-shadow: 0px 1px 3px 1px rgba(0, 0, 0, 0.15);\n",
              "      filter: drop-shadow(0px 1px 2px rgba(0, 0, 0, 0.3));\n",
              "      fill: #FFFFFF;\n",
              "    }\n",
              "  </style>\n",
              "\n",
              "      <script>\n",
              "        const buttonEl =\n",
              "          document.querySelector('#df-67555017-9429-4782-aea2-edc6cb217068 button.colab-df-convert');\n",
              "        buttonEl.style.display =\n",
              "          google.colab.kernel.accessAllowed ? 'block' : 'none';\n",
              "\n",
              "        async function convertToInteractive(key) {\n",
              "          const element = document.querySelector('#df-67555017-9429-4782-aea2-edc6cb217068');\n",
              "          const dataTable =\n",
              "            await google.colab.kernel.invokeFunction('convertToInteractive',\n",
              "                                                     [key], {});\n",
              "          if (!dataTable) return;\n",
              "\n",
              "          const docLinkHtml = 'Like what you see? Visit the ' +\n",
              "            '<a target=\"_blank\" href=https://colab.research.google.com/notebooks/data_table.ipynb>data table notebook</a>'\n",
              "            + ' to learn more about interactive tables.';\n",
              "          element.innerHTML = '';\n",
              "          dataTable['output_type'] = 'display_data';\n",
              "          await google.colab.output.renderOutput(dataTable, element);\n",
              "          const docLink = document.createElement('div');\n",
              "          docLink.innerHTML = docLinkHtml;\n",
              "          element.appendChild(docLink);\n",
              "        }\n",
              "      </script>\n",
              "    </div>\n",
              "  </div>\n",
              "  "
            ],
            "text/plain": [
              "   vendor_id  passenger_count  pickup_longitude  pickup_latitude  \\\n",
              "0          2                1        -73.982155        40.767937   \n",
              "1          1                1        -73.980415        40.738564   \n",
              "2          2                1        -73.979027        40.763939   \n",
              "3          2                1        -74.010040        40.719971   \n",
              "4          2                1        -73.973053        40.793209   \n",
              "\n",
              "   dropoff_longitude  dropoff_latitude  pickup_hour  month  distance  \\\n",
              "0         -73.964630         40.765602           17      3  1.498523   \n",
              "1         -73.999481         40.731152            0      6  1.805510   \n",
              "2         -74.005333         40.710087           11      1  6.385108   \n",
              "3         -74.012268         40.706718           19      4  1.485501   \n",
              "4         -73.972923         40.782520           13      3  1.188590   \n",
              "\n",
              "   store_and_fwd_flag_N  store_and_fwd_flag_Y  pickup_weekday_Monday  \\\n",
              "0                     1                     0                      1   \n",
              "1                     1                     0                      0   \n",
              "2                     1                     0                      0   \n",
              "3                     1                     0                      0   \n",
              "4                     1                     0                      0   \n",
              "\n",
              "   pickup_weekday_Saturday  pickup_weekday_Sunday  pickup_weekday_Thursday  \\\n",
              "0                        0                      0                        0   \n",
              "1                        0                      1                        0   \n",
              "2                        0                      0                        0   \n",
              "3                        0                      0                        0   \n",
              "4                        1                      0                        0   \n",
              "\n",
              "   pickup_weekday_Tuesday  pickup_weekday_Wednesday  trip_duration_hour  \n",
              "0                       0                         0            0.126389  \n",
              "1                       0                         0            0.184167  \n",
              "2                       1                         0            0.590000  \n",
              "3                       0                         1            0.119167  \n",
              "4                       0                         0            0.120833  "
            ]
          },
          "execution_count": null,
          "metadata": {},
          "output_type": "execute_result"
        }
      ],
      "source": [
        "data=data.drop(['id','pickup_datetime', 'dropoff_datetime', 'store_and_fwd_flag', 'pickup_weekday', 'dropoff_weekday', 'pickup_weekday_num', 'pickup_timeofday', 'trip_duration', 'speed'], axis=1)\n",
        "data.head()"
      ]
    },
    {
      "cell_type": "code",
      "execution_count": null,
      "metadata": {
        "colab": {
          "background_save": true
        },
        "id": "4m_BCNzEsHZP",
        "outputId": "f09781ef-f7cd-49ab-a220-83c5091eeeea"
      },
      "outputs": [
        {
          "data": {
            "text/plain": [
              "(1208841, 18)"
            ]
          },
          "execution_count": null,
          "metadata": {},
          "output_type": "execute_result"
        }
      ],
      "source": [
        "data.shape"
      ]
    },
    {
      "cell_type": "code",
      "execution_count": null,
      "metadata": {
        "colab": {
          "background_save": true
        },
        "id": "tOEgk4F7sHWV",
        "outputId": "bdf70deb-e9a0-4019-e576-cf28a6219539"
      },
      "outputs": [
        {
          "name": "stdout",
          "output_type": "stream",
          "text": [
            "<class 'pandas.core.frame.DataFrame'>\n",
            "Int64Index: 1208841 entries, 0 to 1458643\n",
            "Data columns (total 18 columns):\n",
            " #   Column                    Non-Null Count    Dtype  \n",
            "---  ------                    --------------    -----  \n",
            " 0   vendor_id                 1208841 non-null  int64  \n",
            " 1   passenger_count           1208841 non-null  int64  \n",
            " 2   pickup_longitude          1208841 non-null  float64\n",
            " 3   pickup_latitude           1208841 non-null  float64\n",
            " 4   dropoff_longitude         1208841 non-null  float64\n",
            " 5   dropoff_latitude          1208841 non-null  float64\n",
            " 6   pickup_hour               1208841 non-null  int64  \n",
            " 7   month                     1208841 non-null  int64  \n",
            " 8   distance                  1208841 non-null  float64\n",
            " 9   store_and_fwd_flag_N      1208841 non-null  uint8  \n",
            " 10  store_and_fwd_flag_Y      1208841 non-null  uint8  \n",
            " 11  pickup_weekday_Monday     1208841 non-null  uint8  \n",
            " 12  pickup_weekday_Saturday   1208841 non-null  uint8  \n",
            " 13  pickup_weekday_Sunday     1208841 non-null  uint8  \n",
            " 14  pickup_weekday_Thursday   1208841 non-null  uint8  \n",
            " 15  pickup_weekday_Tuesday    1208841 non-null  uint8  \n",
            " 16  pickup_weekday_Wednesday  1208841 non-null  uint8  \n",
            " 17  trip_duration_hour        1208841 non-null  float64\n",
            "dtypes: float64(6), int64(4), uint8(8)\n",
            "memory usage: 110.7 MB\n"
          ]
        }
      ],
      "source": [
        "data.info()"
      ]
    },
    {
      "cell_type": "code",
      "execution_count": null,
      "metadata": {
        "colab": {
          "background_save": true
        },
        "id": "zJVKwa6LsHSj",
        "outputId": "dc628816-b31a-4b3c-c8d0-eb92a14f5468"
      },
      "outputs": [
        {
          "data": {
            "text/plain": [
              "vendor_id                   0\n",
              "passenger_count             0\n",
              "pickup_longitude            0\n",
              "pickup_latitude             0\n",
              "dropoff_longitude           0\n",
              "dropoff_latitude            0\n",
              "pickup_hour                 0\n",
              "month                       0\n",
              "distance                    0\n",
              "store_and_fwd_flag_N        0\n",
              "store_and_fwd_flag_Y        0\n",
              "pickup_weekday_Monday       0\n",
              "pickup_weekday_Saturday     0\n",
              "pickup_weekday_Sunday       0\n",
              "pickup_weekday_Thursday     0\n",
              "pickup_weekday_Tuesday      0\n",
              "pickup_weekday_Wednesday    0\n",
              "trip_duration_hour          0\n",
              "dtype: int64"
            ]
          },
          "execution_count": null,
          "metadata": {},
          "output_type": "execute_result"
        }
      ],
      "source": [
        "data.isnull().sum()"
      ]
    },
    {
      "cell_type": "markdown",
      "metadata": {
        "id": "Pw77qTnvsYHU"
      },
      "source": [
        "# **Correlation Analysis:**"
      ]
    },
    {
      "cell_type": "code",
      "execution_count": null,
      "metadata": {
        "colab": {
          "background_save": true
        },
        "id": "Cbx8r9yjsUfO",
        "outputId": "3aa05a82-7980-4d79-d20e-0f27f0a304ce"
      },
      "outputs": [
        {
          "data": {
            "text/plain": [
              "<matplotlib.axes._subplots.AxesSubplot at 0x7f15a2ba5c90>"
            ]
          },
          "execution_count": null,
          "metadata": {},
          "output_type": "execute_result"
        },
        {
          "data": {
            "image/png": "[encoded data removed]",
            "text/plain": [
              "<Figure size 1440x720 with 2 Axes>"
            ]
          },
          "metadata": {},
          "output_type": "display_data"
        }
      ],
      "source": [
        "plt.figure (figsize= (20,10))\n",
        "corelation= data.corr()\n",
        "sns.heatmap(abs(corelation), annot=True, cmap='coolwarm')"
      ]
    },
    {
      "cell_type": "markdown",
      "metadata": {
        "id": "Zc1inAhas4iC"
      },
      "source": [
        "- We can see store_and_fwd_flag_y and store_and_fwd_flag_N are highly correlated.\n",
        "\n",
        "- Also they do not affect the target varible much i.e. trip_duration_hour. Hece we should remove these features from our dataset.\n",
        "\n",
        "- At the same time vendor_id doesn't affect much either so we can remove that as well."
      ]
    },
    {
      "cell_type": "code",
      "execution_count": null,
      "metadata": {
        "colab": {
          "background_save": true
        },
        "id": "EEL4vkrns_Ug"
      },
      "outputs": [],
      "source": [
        "data=data.drop(['store_and_fwd_flag_N', 'store_and_fwd_flag_Y','vendor_id'], axis=1)"
      ]
    },
    {
      "cell_type": "code",
      "execution_count": null,
      "metadata": {
        "colab": {
          "background_save": true
        },
        "id": "mioMrX0YtETa",
        "outputId": "d1993562-df39-420e-aee4-cd83180dd6ee"
      },
      "outputs": [
        {
          "data": {
            "text/plain": [
              "<matplotlib.axes._subplots.AxesSubplot at 0x7f15dde89950>"
            ]
          },
          "execution_count": null,
          "metadata": {},
          "output_type": "execute_result"
        },
        {
          "data": {
            "image/png": "[encoded data removed]",
            "text/plain": [
              "<Figure size 1440x720 with 2 Axes>"
            ]
          },
          "metadata": {},
          "output_type": "display_data"
        }
      ],
      "source": [
        "plt.figure (figsize= (20,10))\n",
        "corelation= data.corr()\n",
        "sns.heatmap(abs(corelation), annot=True, cmap='coolwarm')"
      ]
    },
    {
      "cell_type": "markdown",
      "metadata": {
        "id": "tBIn7gOZtHua"
      },
      "source": [
        "**Checking numerical features.**"
      ]
    },
    {
      "cell_type": "code",
      "execution_count": null,
      "metadata": {
        "colab": {
          "background_save": true
        },
        "id": "f9p1PIpMtNf2",
        "outputId": "297e40b6-4e6a-4ee5-a788-5776f791129d"
      },
      "outputs": [
        {
          "data": {
            "text/plain": [
              "['passenger_count',\n",
              " 'pickup_longitude',\n",
              " 'pickup_latitude',\n",
              " 'dropoff_longitude',\n",
              " 'dropoff_latitude',\n",
              " 'pickup_hour',\n",
              " 'month',\n",
              " 'distance',\n",
              " 'pickup_weekday_Monday',\n",
              " 'pickup_weekday_Saturday',\n",
              " 'pickup_weekday_Sunday',\n",
              " 'pickup_weekday_Thursday',\n",
              " 'pickup_weekday_Tuesday',\n",
              " 'pickup_weekday_Wednesday']"
            ]
          },
          "execution_count": null,
          "metadata": {},
          "output_type": "execute_result"
        }
      ],
      "source": [
        "numeric_features= data.describe().columns\n",
        "\n",
        "features= numeric_features.copy()\n",
        "features= list(features)\n",
        "features= features[:-1]\n",
        "features"
      ]
    },
    {
      "cell_type": "code",
      "execution_count": null,
      "metadata": {
        "colab": {
          "background_save": true
        },
        "id": "xvRUgrYBNs0m"
      },
      "outputs": [],
      "source": [
        "from scipy.stats import zscore"
      ]
    },
    {
      "cell_type": "code",
      "execution_count": null,
      "metadata": {
        "colab": {
          "background_save": true
        },
        "id": "jqmr1tGPopa8"
      },
      "outputs": [],
      "source": [
        "# Independent Variables\n",
        "X = data[features].apply(zscore)[:]"
      ]
    },
    {
      "cell_type": "code",
      "execution_count": null,
      "metadata": {
        "colab": {
          "background_save": true
        },
        "id": "ixJSvTspWaNB"
      },
      "outputs": [],
      "source": [
        "# Dependent Variables\n",
        "\n",
        "y = np.log10(data['trip_duration_hour'])[:]\n"
      ]
    },
    {
      "cell_type": "markdown",
      "metadata": {
        "id": "DE8eVxP3uJPP"
      },
      "source": [
        "# **Splitting the data in train and test sets:**"
      ]
    },
    {
      "cell_type": "code",
      "execution_count": null,
      "metadata": {
        "colab": {
          "background_save": true
        },
        "id": "EMOcCqsPuPzn"
      },
      "outputs": [],
      "source": [
        "#Importing RFE and Linear Regression \n",
        "from sklearn.model_selection import train_test_split\n",
        "X_train, X_test, y_train, y_test = train_test_split(X, y, test_size=0.25, random_state=0)"
      ]
    },
    {
      "cell_type": "markdown",
      "metadata": {
        "id": "WhTXeLW11LHt"
      },
      "source": [
        "I have Splited the selected data set in 75-25 split for training and testing purpose."
      ]
    },
    {
      "cell_type": "markdown",
      "metadata": {
        "id": "aqvN4Yzv1XIf"
      },
      "source": [
        " **Recurssive Feature Elimination(RFE)**"
      ]
    },
    {
      "cell_type": "code",
      "execution_count": null,
      "metadata": {
        "colab": {
          "background_save": true
        },
        "id": "OuPsfTHM1S9D",
        "outputId": "6d5c6b82-fe8f-4489-ff9b-af9679a98f0f"
      },
      "outputs": [
        {
          "data": {
            "text/plain": [
              "array([False,  True,  True,  True,  True,  True,  True,  True,  True,\n",
              "        True,  True,  True, False,  True])"
            ]
          },
          "execution_count": null,
          "metadata": {},
          "output_type": "execute_result"
        }
      ],
      "source": [
        "from sklearn.feature_selection import RFE\n",
        "from sklearn.linear_model import LinearRegression\n",
        "#Running RFE with output number of the variable  equals to 13\n",
        "lm =  LinearRegression()\n",
        "rfe = RFE(lm, n_features_to_select=12)\n",
        "rfe= rfe.fit(X_train, y_train)\n",
        "#printing the boolean result\n",
        "rfe.support_"
      ]
    },
    {
      "cell_type": "code",
      "execution_count": null,
      "metadata": {
        "colab": {
          "background_save": true
        },
        "id": "tbOUfxw81jsC"
      },
      "outputs": [],
      "source": [
        "#Assign the rfe features from X_train into col \n",
        "col= X_train.columns[rfe.support_]"
      ]
    },
    {
      "cell_type": "markdown",
      "metadata": {
        "id": "k1GWcmHA1w6f"
      },
      "source": [
        "# **Building Model using sklearn:**"
      ]
    },
    {
      "cell_type": "code",
      "execution_count": null,
      "metadata": {
        "colab": {
          "background_save": true
        },
        "id": "Lq_hrzsg10o4"
      },
      "outputs": [],
      "source": [
        "#X_train_rfe is nothing but assigning remaining features after eliminating unimportant features from X_train\n",
        "X_train_rfe= X_train[col]"
      ]
    },
    {
      "cell_type": "code",
      "execution_count": null,
      "metadata": {
        "colab": {
          "background_save": true
        },
        "id": "fWyMO2VD15-R"
      },
      "outputs": [],
      "source": [
        "import statsmodels.api as sm\n",
        "#Adding a constant variable\n",
        "X_train_rfe= sm.add_constant(X_train_rfe)"
      ]
    },
    {
      "cell_type": "markdown",
      "metadata": {
        "id": "BRdsbaTg1-Ro"
      },
      "source": [
        "**Running the Linear Model.**"
      ]
    },
    {
      "cell_type": "code",
      "execution_count": null,
      "metadata": {
        "colab": {
          "background_save": true
        },
        "id": "YpOF3EiS2A82"
      },
      "outputs": [],
      "source": [
        "lm= sm.OLS(y_train, X_train_rfe).fit()"
      ]
    },
    {
      "cell_type": "markdown",
      "metadata": {
        "id": "_NU1c6ty2HzQ"
      },
      "source": [
        "Let's see the summary of our linear model."
      ]
    },
    {
      "cell_type": "code",
      "execution_count": null,
      "metadata": {
        "colab": {
          "background_save": true
        },
        "id": "UkmH_uJq2Eo-",
        "outputId": "9de16d3c-c13b-46ae-fa9b-7711c57ef74a"
      },
      "outputs": [
        {
          "name": "stdout",
          "output_type": "stream",
          "text": [
            "                            OLS Regression Results                            \n",
            "==============================================================================\n",
            "Dep. Variable:     trip_duration_hour   R-squared:                       0.475\n",
            "Model:                            OLS   Adj. R-squared:                  0.475\n",
            "Method:                 Least Squares   F-statistic:                 6.849e+04\n",
            "Date:                Fri, 08 Jul 2022   Prob (F-statistic):               0.00\n",
            "Time:                        15:50:24   Log-Likelihood:             1.8492e+05\n",
            "No. Observations:              906630   AIC:                        -3.698e+05\n",
            "Df Residuals:                  906617   BIC:                        -3.697e+05\n",
            "Df Model:                          12                                         \n",
            "Covariance Type:            nonrobust                                         \n",
            "============================================================================================\n",
            "                               coef    std err          t      P>|t|      [0.025      0.975]\n",
            "--------------------------------------------------------------------------------------------\n",
            "const                       -0.6720      0.000  -3242.711      0.000      -0.672      -0.672\n",
            "pickup_longitude            -0.0293      0.000   -117.385      0.000      -0.030      -0.029\n",
            "pickup_latitude              0.0133      0.000     56.460      0.000       0.013       0.014\n",
            "dropoff_longitude           -0.0181      0.000    -78.435      0.000      -0.019      -0.018\n",
            "dropoff_latitude            -0.0158      0.000    -69.373      0.000      -0.016      -0.015\n",
            "pickup_hour                  0.0133      0.000     63.540      0.000       0.013       0.014\n",
            "month                        0.0118      0.000     56.894      0.000       0.011       0.012\n",
            "distance                     0.2066      0.000    739.317      0.000       0.206       0.207\n",
            "pickup_weekday_Monday       -0.0129      0.000    -55.666      0.000      -0.013      -0.012\n",
            "pickup_weekday_Saturday     -0.0131      0.000    -55.451      0.000      -0.014      -0.013\n",
            "pickup_weekday_Sunday       -0.0244      0.000   -104.167      0.000      -0.025      -0.024\n",
            "pickup_weekday_Thursday      0.0044      0.000     18.613      0.000       0.004       0.005\n",
            "pickup_weekday_Wednesday     0.0028      0.000     12.067      0.000       0.002       0.003\n",
            "==============================================================================\n",
            "Omnibus:                    18150.766   Durbin-Watson:                   2.001\n",
            "Prob(Omnibus):                  0.000   Jarque-Bera (JB):            23147.020\n",
            "Skew:                          -0.271   Prob(JB):                         0.00\n",
            "Kurtosis:                       3.566   Cond. No.                         2.39\n",
            "==============================================================================\n",
            "\n",
            "Warnings:\n",
            "[1] Standard Errors assume that the covariance matrix of the errors is correctly specified.\n"
          ]
        }
      ],
      "source": [
        "print(lm.summary())"
      ]
    },
    {
      "cell_type": "markdown",
      "metadata": {
        "id": "9qRwieWh2pgW"
      },
      "source": [
        "# **Making Predictions:**"
      ]
    },
    {
      "cell_type": "code",
      "execution_count": null,
      "metadata": {
        "colab": {
          "background_save": true
        },
        "id": "rGYkYtNK2Kdt"
      },
      "outputs": [],
      "source": [
        "#Making prediction\n",
        "y_pred_train= lm.predict(X_train_rfe)"
      ]
    },
    {
      "cell_type": "code",
      "execution_count": null,
      "metadata": {
        "colab": {
          "background_save": true
        },
        "id": "hWQ1nBCC27iY"
      },
      "outputs": [],
      "source": [
        "X_test_rfe= X_test[col]\n",
        "#Adding a condtant variable\n",
        "X_test_rfe= sm.add_constant(X_test_rfe)\n",
        "\n",
        "#Making prediction\n",
        "y_pred_test= lm.predict(X_test_rfe)"
      ]
    },
    {
      "cell_type": "markdown",
      "metadata": {
        "id": "UGtKDn8k2968"
      },
      "source": [
        "# **Model Evaluation:**"
      ]
    },
    {
      "cell_type": "code",
      "execution_count": null,
      "metadata": {
        "colab": {
          "background_save": true
        },
        "id": "rR7bHWqO3CcD"
      },
      "outputs": [],
      "source": [
        "from sklearn.metrics import r2_score\n",
        "from sklearn.metrics import mean_squared_error"
      ]
    },
    {
      "cell_type": "code",
      "execution_count": null,
      "metadata": {
        "colab": {
          "background_save": true
        },
        "id": "A4tdhZE8h7cm",
        "outputId": "0e37dc5c-7acb-46c0-d6b4-f02f47d15dbc"
      },
      "outputs": [
        {
          "name": "stdout",
          "output_type": "stream",
          "text": [
            "Train MSE : 0.038936965572071804\n",
            "Train RMSE : 0.19732451842604812\n",
            "Train R2 : 0.47548270661613623\n",
            "Train Adjusted R2 :  0.4754746069904877\n"
          ]
        }
      ],
      "source": [
        "lr_train_mse  = mean_squared_error((y_train), (y_pred_train))\n",
        "print(\"Train MSE :\" , lr_train_mse)\n",
        "\n",
        "lr_train_rmse = np.sqrt(lr_train_mse)\n",
        "\n",
        "print(\"Train RMSE :\" ,lr_train_rmse)\n",
        "\n",
        "lr_train_r2 = r2_score((y_train), (y_pred_train))\n",
        "print(\"Train R2 :\" ,lr_train_r2) \n",
        "\n",
        "lr_train_r2_ = 1-(1-r2_score((y_train), (y_pred_train)))*((X_train.shape[0]-1)/(X_train.shape[0]-X_train.shape[1]-1))\n",
        "print(\"Train Adjusted R2 : \",lr_train_r2_)"
      ]
    },
    {
      "cell_type": "code",
      "execution_count": null,
      "metadata": {
        "colab": {
          "background_save": true
        },
        "id": "H-TpQwXSiAbn",
        "outputId": "e2187830-e3b3-4ea7-9795-3f21cb1cbc50"
      },
      "outputs": [
        {
          "name": "stdout",
          "output_type": "stream",
          "text": [
            "Test MSE : 0.039009511747011165\n",
            "Test RMSE : 0.19750825741475003\n",
            "Test R2 : 0.4750015172203518\n",
            "Test Adjusted R2 :  0.47497719532741167\n"
          ]
        }
      ],
      "source": [
        "lr_test_mse  = mean_squared_error((y_test), (y_pred_test))\n",
        "print(\"Test MSE :\" , lr_test_mse)\n",
        "\n",
        "lr_test_rmse = np.sqrt(lr_test_mse)\n",
        "\n",
        "print(\"Test RMSE :\" ,lr_test_rmse)\n",
        "\n",
        "lr_test_r2 = r2_score((y_test), (y_pred_test))\n",
        "print(\"Test R2 :\" ,lr_test_r2)\n",
        "\n",
        "lr_test_r2_ = 1-(1-r2_score((y_test), (y_pred_test)))*((X_test.shape[0]-1)/(X_test.shape[0]-X_test.shape[1]-1))\n",
        "print(\"Test Adjusted R2 : \",lr_test_r2_)"
      ]
    },
    {
      "cell_type": "code",
      "execution_count": null,
      "metadata": {
        "colab": {
          "background_save": true
        },
        "id": "GZeZVQnB7016",
        "outputId": "a0d02f11-494f-4c44-a5fd-8c849d7774c3"
      },
      "outputs": [
        {
          "data": {
            "image/png": "[encoded data removed]",
            "text/plain": [
              "<Figure size 720x360 with 1 Axes>"
            ]
          },
          "metadata": {},
          "output_type": "display_data"
        }
      ],
      "source": [
        "#Actual vs Prediction\n",
        "plt.figure(figsize= (10,5))\n",
        "c= [i for i in range(0, len(y_test))]\n",
        "plt.plot(c, y_test, color='blue', linewidth=2.5, linestyle='-')\n",
        "plt.plot(c, y_pred_test, color='red', linewidth=2.5, linestyle='-')\n",
        "plt.title('Actual vs Predicted for Test Data', fontsize=20)\n",
        "plt.legend([\"Actual\", \"Predicted\"])\n",
        "plt.show()"
      ]
    },
    {
      "cell_type": "code",
      "execution_count": null,
      "metadata": {
        "colab": {
          "background_save": true
        },
        "id": "GpzmtoFQ77oc",
        "outputId": "44c967f5-3e0e-4b0b-f1dc-4bdbc432d5b1"
      },
      "outputs": [
        {
          "data": {
            "image/png": "[encoded data removed]",
            "text/plain": [
              "<Figure size 720x360 with 1 Axes>"
            ]
          },
          "metadata": {},
          "output_type": "display_data"
        }
      ],
      "source": [
        "plt.figure(figsize= (10,5))\n",
        "c= [i for i in range(0, len(y_test))]\n",
        "plt.plot(c, y_test-y_pred_test, color='blue', linewidth=2.5, linestyle='-')\n",
        "plt.title('Error Term', fontsize=20)\n",
        "plt.show()"
      ]
    },
    {
      "cell_type": "markdown",
      "metadata": {
        "id": "mE95hKNW7-kc"
      },
      "source": [
        "As we can clearly see the Linear regression model does not provide us with high accuracy. It has high prediction error on the metrics we tested."
      ]
    },
    {
      "cell_type": "markdown",
      "metadata": {
        "id": "nZxuBunn8CER"
      },
      "source": [
        "# **Running Lasso Regression**"
      ]
    },
    {
      "cell_type": "code",
      "execution_count": null,
      "metadata": {
        "colab": {
          "background_save": true
        },
        "id": "kZ-XJj4v8AAB",
        "outputId": "c551097e-de7a-4705-d1f0-dba9933da189"
      },
      "outputs": [
        {
          "data": {
            "text/plain": [
              "GridSearchCV(cv=5, estimator=Lasso(),\n",
              "             param_grid={'alpha': [1e-15, 1e-13, 1e-10, 1e-08, 1e-05, 0.0001,\n",
              "                                   0.001, 0.01, 0.1, 1, 5, 10, 20, 30, 40, 45,\n",
              "                                   50, 55, 60, 100]},\n",
              "             scoring='r2')"
            ]
          },
          "execution_count": null,
          "metadata": {},
          "output_type": "execute_result"
        }
      ],
      "source": [
        "from sklearn.linear_model import Lasso\n",
        "from sklearn.model_selection import GridSearchCV\n",
        "#Cross validation\n",
        "lasso = Lasso()\n",
        "parameters = {'alpha': [1e-15,1e-13,1e-10,1e-8,1e-5,1e-4,1e-3,1e-2,1e-1,1,5,10,20,30,40,45,50,55,60,100]}\n",
        "lasso_regressor = GridSearchCV(lasso, parameters, scoring='r2', cv=5)\n",
        "lasso_regressor.fit(X_train, y_train)"
      ]
    },
    {
      "cell_type": "code",
      "execution_count": null,
      "metadata": {
        "colab": {
          "background_save": true
        },
        "id": "wrOhAL0d8Jp6",
        "outputId": "9eeadef7-9fa3-40cf-9eb6-de584acbff6a"
      },
      "outputs": [
        {
          "name": "stdout",
          "output_type": "stream",
          "text": [
            "The best fit alpha value is found out to be : {'alpha': 1e-08}\n",
            "The R2 score using the same alpha is : 0.47552549860851173\n"
          ]
        }
      ],
      "source": [
        "print('The best fit alpha value is found out to be :', lasso_regressor.best_params_)\n",
        "print('The R2 score using the same alpha is :', lasso_regressor.best_score_)"
      ]
    },
    {
      "cell_type": "code",
      "execution_count": null,
      "metadata": {
        "colab": {
          "background_save": true
        },
        "id": "jIHXN1kj_0gd",
        "outputId": "4f11ec4d-654e-4700-a20f-f6804916a7f8"
      },
      "outputs": [
        {
          "data": {
            "text/plain": [
              "0.4755640928302415"
            ]
          },
          "execution_count": null,
          "metadata": {},
          "output_type": "execute_result"
        }
      ],
      "source": [
        "lasso_regressor.score(X_train, y_train)"
      ]
    },
    {
      "cell_type": "code",
      "execution_count": null,
      "metadata": {
        "colab": {
          "background_save": true
        },
        "id": "_8M9lXGK_8Kp"
      },
      "outputs": [],
      "source": [
        "y_pred_lasso_train = lasso_regressor.predict(X_train)"
      ]
    },
    {
      "cell_type": "code",
      "execution_count": null,
      "metadata": {
        "colab": {
          "background_save": true
        },
        "id": "2khf2LOv_8uz"
      },
      "outputs": [],
      "source": [
        "y_pred_lasso_test = lasso_regressor.predict(X_test)"
      ]
    },
    {
      "cell_type": "markdown",
      "metadata": {
        "id": "zPKqCwiNAKiB"
      },
      "source": [
        "# **Model Evaluation:**"
      ]
    },
    {
      "cell_type": "code",
      "execution_count": null,
      "metadata": {
        "colab": {
          "background_save": true
        },
        "id": "tY7goLu0ANSK",
        "outputId": "7c58e87b-d1a7-464b-ce3f-9be146085301"
      },
      "outputs": [
        {
          "name": "stdout",
          "output_type": "stream",
          "text": [
            "Train MSE : 0.038930923955795976\n",
            "Train RMSE : 0.19730920899896176\n",
            "Train R2 : 0.4755640928302415\n",
            "Train Adjusted R2 :  0.4755640928302415\n"
          ]
        }
      ],
      "source": [
        "lasso_train_mse  = mean_squared_error(y_train, y_pred_lasso_train)\n",
        "print(\"Train MSE :\" , lasso_train_mse)\n",
        "\n",
        "lasso_train_rmse = np.sqrt(lasso_train_mse)\n",
        "print(\"Train RMSE :\" ,lasso_train_rmse)\n",
        "\n",
        "lasso_train_r2 = r2_score(y_train, y_pred_lasso_train)\n",
        "print(\"Train R2 :\" ,lasso_train_r2)\n",
        "\n",
        "lasso_train_r2_= 1-(1-r2_score(y_train, y_pred_lasso_train))*((X_train.shape[0]-1)/(X_train.shape[0]-X_train.shape[1]-1))\n",
        "print(\"Train Adjusted R2 : \", lasso_train_r2)"
      ]
    },
    {
      "cell_type": "code",
      "execution_count": null,
      "metadata": {
        "colab": {
          "background_save": true
        },
        "id": "1CMQmMgXARQO",
        "outputId": "212a15fa-0c66-4bd7-fd7f-0b30fe883fb1"
      },
      "outputs": [
        {
          "name": "stdout",
          "output_type": "stream",
          "text": [
            "Test MSE : 0.039005133693539494\n",
            "Test RMSE : 0.1974971738874749\n",
            "Test R2 : 0.475060438014979\n",
            "Test Adjusted R2 :  0.47503611885169494\n"
          ]
        }
      ],
      "source": [
        "lasso_test_mse  = mean_squared_error(y_test, y_pred_lasso_test)\n",
        "print(\"Test MSE :\" , lasso_test_mse)\n",
        "\n",
        "lasso_test_rmse = np.sqrt(lasso_test_mse)\n",
        "print(\"Test RMSE :\" ,lasso_test_rmse)\n",
        "\n",
        "lasso_test_r2 = r2_score(y_test, y_pred_lasso_test)\n",
        "print(\"Test R2 :\" ,lasso_test_r2)\n",
        "\n",
        "lasso_test_r2_= 1-(1-r2_score(y_test, y_pred_lasso_test))*((X_test.shape[0]-1)/(X_test.shape[0]-X_test.shape[1]-1))\n",
        "print(\"Test Adjusted R2 : \", lasso_test_r2_)"
      ]
    },
    {
      "cell_type": "code",
      "execution_count": null,
      "metadata": {
        "colab": {
          "background_save": true
        },
        "id": "hiBUwKRhBAhM",
        "outputId": "44fae8b6-0554-4304-aa41-5ec8e0c8dbce"
      },
      "outputs": [
        {
          "data": {
            "image/png": "[encoded data removed]",
            "text/plain": [
              "<Figure size 720x360 with 1 Axes>"
            ]
          },
          "metadata": {},
          "output_type": "display_data"
        }
      ],
      "source": [
        "#Actual vs Prediction\n",
        "plt.figure(figsize= (10,5))\n",
        "c= [i for i in range(0, len(y_test))]\n",
        "plt.plot(c, y_test, color='blue', linewidth=2.5, linestyle='-')\n",
        "plt.plot(c, y_pred_lasso_test, color='red', linewidth=2.5, linestyle='-')\n",
        "plt.title('Actual vs Predicted for Test Data', fontsize=20)\n",
        "plt.legend([\"Actual\", \"Predicted\"])\n",
        "plt.show()"
      ]
    },
    {
      "cell_type": "code",
      "execution_count": null,
      "metadata": {
        "colab": {
          "background_save": true
        },
        "id": "4CNw9pXqBA_G",
        "outputId": "d96fd3db-3a30-46db-a0e1-97ef3aeb2b96"
      },
      "outputs": [
        {
          "data": {
            "image/png": "[encoded data removed]",
            "text/plain": [
              "<Figure size 720x360 with 1 Axes>"
            ]
          },
          "metadata": {},
          "output_type": "display_data"
        }
      ],
      "source": [
        "plt.figure(figsize= (10,5))\n",
        "c= [i for i in range(0, len(y_test))]\n",
        "plt.plot(c, y_test-y_pred_lasso_test, color='blue', linewidth=2.5, linestyle='-')\n",
        "plt.title('Error Term', fontsize=20)\n",
        "plt.show()"
      ]
    },
    {
      "cell_type": "markdown",
      "metadata": {
        "id": "7uE3mRg4BH9P"
      },
      "source": [
        "The Lasso regresion model doesn't improve on the Linear model either."
      ]
    },
    {
      "cell_type": "markdown",
      "metadata": {
        "id": "6N7HCPiVBLoX"
      },
      "source": [
        "# **Running Ridge Regression:**"
      ]
    },
    {
      "cell_type": "code",
      "execution_count": null,
      "metadata": {
        "colab": {
          "background_save": true
        },
        "id": "30XW9NyOBIwN",
        "outputId": "5edab981-4f07-4254-cec8-9db578619646"
      },
      "outputs": [
        {
          "data": {
            "text/plain": [
              "GridSearchCV(cv=5, estimator=Ridge(),\n",
              "             param_grid={'alpha': [1e-15, 1e-13, 1e-10, 1e-08, 1e-05, 0.0001,\n",
              "                                   0.001, 0.01, 0.1, 1, 5, 10, 20, 30, 40, 45,\n",
              "                                   50, 55, 60, 100]},\n",
              "             scoring='r2')"
            ]
          },
          "execution_count": null,
          "metadata": {},
          "output_type": "execute_result"
        }
      ],
      "source": [
        "from sklearn.linear_model import Ridge\n",
        "#Cross validation\n",
        "ridge = Ridge()\n",
        "parameters = {'alpha': [1e-15,1e-13,1e-10,1e-8,1e-5,1e-4,1e-3,1e-2,1e-1,1,5,10,20,30,40,45,50,55,60,100]}\n",
        "ridge_regressor = GridSearchCV(ridge, parameters, scoring='r2', cv=5)\n",
        "ridge_regressor.fit(X_train, y_train)"
      ]
    },
    {
      "cell_type": "code",
      "execution_count": null,
      "metadata": {
        "colab": {
          "background_save": true
        },
        "id": "JZqXEt_pJ26H",
        "outputId": "b9b515a4-96ad-4560-f52e-a8fd64bd75bc"
      },
      "outputs": [
        {
          "name": "stdout",
          "output_type": "stream",
          "text": [
            "The best fit alpha value is found out to be : {'alpha': 40}\n",
            "The R2 score using the same alpha is : 0.47552549860851173\n"
          ]
        }
      ],
      "source": [
        "print('The best fit alpha value is found out to be :' ,ridge_regressor.best_params_)\n",
        "print('The R2 score using the same alpha is :', lasso_regressor.best_score_)"
      ]
    },
    {
      "cell_type": "code",
      "execution_count": null,
      "metadata": {
        "colab": {
          "background_save": true
        },
        "id": "YNjstMWxJ5qL",
        "outputId": "6ef495c0-207d-4524-f359-c4e3f07fd380"
      },
      "outputs": [
        {
          "data": {
            "text/plain": [
              "Ridge(alpha=40)"
            ]
          },
          "execution_count": null,
          "metadata": {},
          "output_type": "execute_result"
        }
      ],
      "source": [
        "ridge_regressor.best_estimator_"
      ]
    },
    {
      "cell_type": "code",
      "execution_count": null,
      "metadata": {
        "colab": {
          "background_save": true
        },
        "id": "ClpJrsnDJ5nR",
        "outputId": "27d6573e-d1b5-48e1-fe41-2b316b084059"
      },
      "outputs": [
        {
          "data": {
            "text/plain": [
              "0.4755640902791932"
            ]
          },
          "execution_count": null,
          "metadata": {},
          "output_type": "execute_result"
        }
      ],
      "source": [
        "ridge_regressor.score(X_train, y_train)"
      ]
    },
    {
      "cell_type": "code",
      "execution_count": null,
      "metadata": {
        "colab": {
          "background_save": true
        },
        "id": "BW5aVuakJ5Up"
      },
      "outputs": [],
      "source": [
        "y_pred_ridge_train=ridge_regressor.predict(X_train)"
      ]
    },
    {
      "cell_type": "code",
      "execution_count": null,
      "metadata": {
        "colab": {
          "background_save": true
        },
        "id": "fTBqSKkhKI9w"
      },
      "outputs": [],
      "source": [
        "y_pred_ridge_test = ridge_regressor.predict(X_test)"
      ]
    },
    {
      "cell_type": "markdown",
      "metadata": {
        "id": "zSu4kNJrKK2x"
      },
      "source": [
        "# **Model Evaluation:**"
      ]
    },
    {
      "cell_type": "code",
      "execution_count": null,
      "metadata": {
        "colab": {
          "background_save": true
        },
        "id": "VqRN6tuoKRLh",
        "outputId": "23bb6dfb-3eb5-4083-ddc9-e3a828d7418e"
      },
      "outputs": [
        {
          "name": "stdout",
          "output_type": "stream",
          "text": [
            "Train MSE : 0.03893092414517025\n",
            "Train RMSE : 0.1973092094788539\n",
            "Train R2 : 0.4755640902791932\n",
            "Train Adjusted R2 :  0.4755640902791932\n"
          ]
        }
      ],
      "source": [
        "ridge_train_mse  = mean_squared_error(y_train, y_pred_ridge_train)\n",
        "print(\"Train MSE :\" , ridge_train_mse)\n",
        "\n",
        "ridge_train_rmse = np.sqrt(ridge_train_mse)\n",
        "print(\"Train RMSE :\" ,ridge_train_rmse)\n",
        "\n",
        "ridge_train_r2 = r2_score(y_train, y_pred_ridge_train)\n",
        "print(\"Train R2 :\" ,ridge_train_r2)\n",
        "\n",
        "ridge_train_r2_= 1-(1-r2_score(y_train, y_pred_ridge_train))*((X_train.shape[0]-1)/(X_train.shape[0]-X_train.shape[1]-1))\n",
        "print(\"Train Adjusted R2 : \", ridge_train_r2)"
      ]
    },
    {
      "cell_type": "code",
      "execution_count": null,
      "metadata": {
        "colab": {
          "background_save": true
        },
        "id": "oBLDZcwcKc27",
        "outputId": "336965e4-029c-4ea2-8782-707a8f65b641"
      },
      "outputs": [
        {
          "name": "stdout",
          "output_type": "stream",
          "text": [
            "Test MSE : 0.03900514294841853\n",
            "Test RMSE : 0.1974971973178823\n",
            "Test R2 : 0.47506031346080657\n",
            "Test Adjusted R2 :  0.47503599429175225\n"
          ]
        }
      ],
      "source": [
        "ridge_test_mse  = mean_squared_error(y_test, y_pred_ridge_test)\n",
        "print(\"Test MSE :\" , ridge_test_mse)\n",
        "\n",
        "ridge_test_rmse = np.sqrt(ridge_test_mse)\n",
        "print(\"Test RMSE :\" ,ridge_test_rmse)\n",
        "\n",
        "ridge_test_r2 = r2_score(y_test, y_pred_ridge_test)\n",
        "print(\"Test R2 :\" ,ridge_test_r2)\n",
        "\n",
        "ridge_test_r2_= 1-(1-r2_score(y_test, y_pred_ridge_test))*((X_test.shape[0]-1)/(X_test.shape[0]-X_test.shape[1]-1))\n",
        "print(\"Test Adjusted R2 : \", ridge_test_r2_)"
      ]
    },
    {
      "cell_type": "code",
      "execution_count": null,
      "metadata": {
        "colab": {
          "background_save": true
        },
        "id": "lVQ2F1ghKftu",
        "outputId": "1c456087-6e0c-4944-ffd1-eb002fa53a6e"
      },
      "outputs": [
        {
          "data": {
            "image/png": "[encoded data removed]",
            "text/plain": [
              "<Figure size 720x360 with 1 Axes>"
            ]
          },
          "metadata": {},
          "output_type": "display_data"
        }
      ],
      "source": [
        "#Actual vs Prediction\n",
        "plt.figure(figsize= (10,5))\n",
        "c= [i for i in range(0, len(y_test))]\n",
        "plt.plot(c, y_test, color='blue', linewidth=2.5, linestyle='-')\n",
        "plt.plot(c, y_pred_ridge_test, color='red', linewidth=2.5, linestyle='-')\n",
        "plt.title('Actual vs Predicted for Test Data', fontsize=20)\n",
        "plt.legend([\"Actual\", \"Predicted\"])\n",
        "plt.show()"
      ]
    },
    {
      "cell_type": "code",
      "execution_count": null,
      "metadata": {
        "colab": {
          "background_save": true
        },
        "id": "ajcWNLpGKi8L",
        "outputId": "884902fc-fc84-4376-e934-18c150e8d510"
      },
      "outputs": [
        {
          "data": {
            "image/png": "[encoded data removed]",
            "text/plain": [
              "<Figure size 720x360 with 1 Axes>"
            ]
          },
          "metadata": {},
          "output_type": "display_data"
        }
      ],
      "source": [
        "plt.figure(figsize= (10,5))\n",
        "c= [i for i in range(0, len(y_test))]\n",
        "plt.plot(c, y_test-y_pred_ridge_test, color='blue', linewidth=2.5, linestyle='-')\n",
        "plt.title('Error Term', fontsize=20)\n",
        "plt.show()"
      ]
    },
    {
      "cell_type": "markdown",
      "metadata": {
        "id": "bQ8eebOdKruy"
      },
      "source": [
        "The Ridge regresion model doesn't improve on the Linear model either."
      ]
    },
    {
      "cell_type": "markdown",
      "metadata": {
        "id": "DX9jr4icKub7"
      },
      "source": [
        "# **Running Decision Tree Regressor:**"
      ]
    },
    {
      "cell_type": "code",
      "execution_count": null,
      "metadata": {
        "colab": {
          "background_save": true
        },
        "id": "TDhomvAIKssm"
      },
      "outputs": [],
      "source": [
        "from sklearn.tree import DecisionTreeRegressor"
      ]
    },
    {
      "cell_type": "code",
      "execution_count": null,
      "metadata": {
        "colab": {
          "background_save": true
        },
        "id": "xOOnxsCjK4uI"
      },
      "outputs": [],
      "source": [
        "# Maximum depth of trees\n",
        "max_depth = [4,6,8,10]\n",
        " \n",
        "# Minimum number of samples required to split a node\n",
        "min_samples_split = [10,20,30]\n",
        " \n",
        "# Minimum number of samples required at each leaf node\n",
        "min_samples_leaf = [8,16,22]\n",
        " \n",
        "# Hyperparameter Grid\n",
        "param_dict_dt = {\n",
        "              'max_depth' : max_depth,\n",
        "              'min_samples_split' : min_samples_split,\n",
        "              'min_samples_leaf' : min_samples_leaf}\n",
        "#the cache variables contains the best parameters for the Decision Tree that we already tested before to save time when running again\n",
        "cache = {\n",
        "              'max_depth' : [10],\n",
        "              'min_samples_split' : [10],\n",
        "              'min_samples_leaf' : [22]}"
      ]
    },
    {
      "cell_type": "code",
      "execution_count": null,
      "metadata": {
        "colab": {
          "background_save": true
        },
        "id": "oaWTGoMhK7Uc",
        "outputId": "cfeed918-76fa-4baa-e5f9-80f72736febb"
      },
      "outputs": [
        {
          "data": {
            "text/plain": [
              "{'max_depth': [4, 6, 8, 10],\n",
              " 'min_samples_leaf': [8, 16, 22],\n",
              " 'min_samples_split': [10, 20, 30]}"
            ]
          },
          "execution_count": null,
          "metadata": {},
          "output_type": "execute_result"
        }
      ],
      "source": [
        "param_dict_dt"
      ]
    },
    {
      "cell_type": "code",
      "execution_count": null,
      "metadata": {
        "colab": {
          "background_save": true
        },
        "id": "r7vG-_GfLBbS",
        "outputId": "c5bc6dc2-906d-4e4c-deca-6a130511d9d5"
      },
      "outputs": [
        {
          "name": "stdout",
          "output_type": "stream",
          "text": [
            "Fitting 5 folds for each of 1 candidates, totalling 5 fits\n",
            "[CV] END max_depth=10, min_samples_leaf=22, min_samples_split=10; total time=   6.6s\n",
            "[CV] END max_depth=10, min_samples_leaf=22, min_samples_split=10; total time=   6.7s\n",
            "[CV] END max_depth=10, min_samples_leaf=22, min_samples_split=10; total time=   6.7s\n",
            "[CV] END max_depth=10, min_samples_leaf=22, min_samples_split=10; total time=   6.7s\n",
            "[CV] END max_depth=10, min_samples_leaf=22, min_samples_split=10; total time=   6.7s\n"
          ]
        },
        {
          "data": {
            "text/plain": [
              "GridSearchCV(cv=5, estimator=DecisionTreeRegressor(),\n",
              "             param_grid={'max_depth': [10], 'min_samples_leaf': [22],\n",
              "                         'min_samples_split': [10]},\n",
              "             scoring='r2', verbose=2)"
            ]
          },
          "execution_count": null,
          "metadata": {},
          "output_type": "execute_result"
        }
      ],
      "source": [
        "dt = DecisionTreeRegressor()\n",
        "\n",
        "# Grid search\n",
        "dt_grid = GridSearchCV(estimator=dt,\n",
        "                       param_grid = cache,\n",
        "                       cv = 5, verbose=2, scoring='r2')\n",
        "\n",
        "dt_grid.fit(X_train,y_train)"
      ]
    },
    {
      "cell_type": "code",
      "execution_count": null,
      "metadata": {
        "colab": {
          "background_save": true
        },
        "id": "ZwHHVlQfLzp6",
        "outputId": "e2762332-04aa-4ca1-bb73-ef7b79a77449"
      },
      "outputs": [
        {
          "data": {
            "text/plain": [
              "0.6970678826642874"
            ]
          },
          "execution_count": null,
          "metadata": {},
          "output_type": "execute_result"
        }
      ],
      "source": [
        "dt_grid.best_score_"
      ]
    },
    {
      "cell_type": "code",
      "execution_count": null,
      "metadata": {
        "colab": {
          "background_save": true
        },
        "id": "HuKjg-MfLzlO",
        "outputId": "a7b79f5b-1c56-4145-b2db-88403f236dcc"
      },
      "outputs": [
        {
          "data": {
            "text/plain": [
              "DecisionTreeRegressor(max_depth=10, min_samples_leaf=22, min_samples_split=10)"
            ]
          },
          "execution_count": null,
          "metadata": {},
          "output_type": "execute_result"
        }
      ],
      "source": [
        "dt_grid.best_estimator_"
      ]
    },
    {
      "cell_type": "code",
      "execution_count": null,
      "metadata": {
        "colab": {
          "background_save": true
        },
        "id": "AGVTwe-LL8qt"
      },
      "outputs": [],
      "source": [
        "y_pred_dt_train=dt_grid.predict(X_train)"
      ]
    },
    {
      "cell_type": "code",
      "execution_count": null,
      "metadata": {
        "colab": {
          "background_save": true
        },
        "id": "xwcBOv9TL8Yv"
      },
      "outputs": [],
      "source": [
        "y_pred_dt_test=dt_grid.predict(X_test)"
      ]
    },
    {
      "cell_type": "markdown",
      "metadata": {
        "id": "TFEXnaUHL_l8"
      },
      "source": [
        "# **Model Evaluation:**"
      ]
    },
    {
      "cell_type": "code",
      "execution_count": null,
      "metadata": {
        "colab": {
          "background_save": true
        },
        "id": "cEmMOo8zMCul",
        "outputId": "ce636a56-a7c3-44a6-cc6c-cac913136d76"
      },
      "outputs": [
        {
          "name": "stdout",
          "output_type": "stream",
          "text": [
            "Train MSE : 0.02214210653085688\n",
            "Train RMSE : 0.14880223967016384\n",
            "Train R2 : 0.7017251443006\n",
            "Train Adjusted R2 :  0.7017205383234435\n"
          ]
        }
      ],
      "source": [
        "dt_train_mse  = mean_squared_error(y_train, y_pred_dt_train)\n",
        "print(\"Train MSE :\" , dt_train_mse)\n",
        "\n",
        "dt_train_rmse = np.sqrt(dt_train_mse)\n",
        "print(\"Train RMSE :\" ,dt_train_rmse)\n",
        "\n",
        "dt_train_r2 = r2_score(y_train, y_pred_dt_train)\n",
        "print(\"Train R2 :\" ,dt_train_r2)\n",
        "\n",
        "dt_train_r2_= 1-(1-r2_score(y_train, y_pred_dt_train))*((X_train.shape[0]-1)/(X_train.shape[0]-X_train.shape[1]-1))\n",
        "print(\"Train Adjusted R2 : \", dt_train_r2_)"
      ]
    },
    {
      "cell_type": "code",
      "execution_count": null,
      "metadata": {
        "colab": {
          "background_save": true
        },
        "id": "YrwtyuCqMG7u",
        "outputId": "982da65a-bef5-4b46-9a7f-77a7ce9bd3ba"
      },
      "outputs": [
        {
          "name": "stdout",
          "output_type": "stream",
          "text": [
            "Test MSE : 0.02245972267963721\n",
            "Test RMSE : 0.14986568212782142\n",
            "Test R2 : 0.697732173452168\n",
            "Test Adjusted R2 :  0.69771817012462\n"
          ]
        }
      ],
      "source": [
        "dt_test_mse  = mean_squared_error(y_test, y_pred_dt_test)\n",
        "print(\"Test MSE :\" , dt_test_mse)\n",
        "dt_test_rmse = np.sqrt(dt_test_mse)\n",
        "print(\"Test RMSE :\" ,dt_test_rmse)\n",
        "\n",
        "dt_test_r2 = r2_score(y_test, y_pred_dt_test)\n",
        "print(\"Test R2 :\" ,dt_test_r2)\n",
        "\n",
        "dt_test_r2_= 1-(1-r2_score(y_test, y_pred_dt_test))*((X_test.shape[0]-1)/(X_test.shape[0]-X_test.shape[1]-1))\n",
        "print(\"Test Adjusted R2 : \", dt_test_r2_)"
      ]
    },
    {
      "cell_type": "code",
      "execution_count": null,
      "metadata": {
        "colab": {
          "background_save": true
        },
        "id": "faBS-HiLMQwf",
        "outputId": "920a1825-84c4-4aa9-8af9-3d92cb8c481a"
      },
      "outputs": [
        {
          "data": {
            "image/png": "[encoded data removed]",
            "text/plain": [
              "<Figure size 720x360 with 1 Axes>"
            ]
          },
          "metadata": {},
          "output_type": "display_data"
        }
      ],
      "source": [
        "#Actual vs Prediction\n",
        "plt.figure(figsize= (10,5))\n",
        "c= [i for i in range(0, len(y_test))]\n",
        "plt.plot(c, y_test, color='blue', linewidth=2.5, linestyle='-')\n",
        "plt.plot(c, y_pred_dt_test, color='red', linewidth=2.5, linestyle='-')\n",
        "plt.title('Actual vs Predicted for Test Data', fontsize=20)\n",
        "plt.legend([\"Actual\", \"Predicted\"])\n",
        "plt.show()"
      ]
    },
    {
      "cell_type": "code",
      "execution_count": null,
      "metadata": {
        "colab": {
          "background_save": true
        },
        "id": "Nha3AStcMTPR",
        "outputId": "0ff5b2fa-460b-46b8-f853-e8884635f5e8"
      },
      "outputs": [
        {
          "data": {
            "image/png": "[encoded data removed]",
            "text/plain": [
              "<Figure size 720x360 with 1 Axes>"
            ]
          },
          "metadata": {},
          "output_type": "display_data"
        }
      ],
      "source": [
        "plt.figure(figsize= (10,5))\n",
        "c= [i for i in range(0, len(y_test))]\n",
        "plt.plot(c, y_test-y_pred_dt_test, color='blue', linewidth=2.5, linestyle='-')\n",
        "plt.title('Error Term', fontsize=20)\n",
        "plt.show()"
      ]
    },
    {
      "cell_type": "code",
      "execution_count": null,
      "metadata": {
        "colab": {
          "background_save": true
        },
        "id": "6W-l01oEMWw0",
        "outputId": "58a50848-e6ad-45aa-a3f5-7c1a568841ad"
      },
      "outputs": [
        {
          "data": {
            "image/png": "[encoded data removed]",
            "text/plain": [
              "<Figure size 720x360 with 1 Axes>"
            ]
          },
          "metadata": {},
          "output_type": "display_data"
        }
      ],
      "source": [
        "plt.figure(figsize=(10,5))\n",
        "sns.distplot(y_test - y_pred_dt_test )\n",
        "plt.title('Error Term', fontsize=20)\n",
        "plt.show()"
      ]
    },
    {
      "cell_type": "markdown",
      "metadata": {
        "id": "Bb99ZYPaMdfu"
      },
      "source": [
        "The decision tree with the selected hyperparameters does improve the predictions of the model considerably. \n",
        "\n",
        "It still isn't ideal but it is certainly much better than Linear models."
      ]
    },
    {
      "cell_type": "markdown",
      "metadata": {
        "id": "cA7RN9NoMomG"
      },
      "source": [
        "# **Running XGBoost Regressor:**"
      ]
    },
    {
      "cell_type": "code",
      "execution_count": null,
      "metadata": {
        "colab": {
          "background_save": true
        },
        "id": "4YNFXT1TX5IY"
      },
      "outputs": [],
      "source": [
        "n_estimators = [80,150,200]\n",
        " \n",
        "# Maximum depth of trees\n",
        "max_depth = [5,8,10]\n",
        "min_samples_split = [40,50]\n",
        "learning_rate=[0.2,0.4,0.6]\n",
        " \n",
        "# Hyperparameter Grid\n",
        "param_xgb = {'n_estimators' : n_estimators,\n",
        "              'max_depth' : max_depth,\n",
        "             'min_samples_' : min_samples_split,\n",
        "             'learning_rate' : learning_rate\n",
        "             }\n",
        "#the cache variables contains the best parameters for the XGBoost which we already tested before to save time when running it again.\n",
        "cache = {'n_estimators' : [200],\n",
        "              'max_depth' : [8],\n",
        "             'min_samples_' : [40],\n",
        "             'learning_rate' : [0.2],\n",
        "             }"
      ]
    },
    {
      "cell_type": "code",
      "execution_count": null,
      "metadata": {
        "colab": {
          "background_save": true
        },
        "id": "M0tigS3NX7Ya",
        "outputId": "715d4bc0-d6e8-4b5e-8a96-52b5a7631cf9"
      },
      "outputs": [
        {
          "data": {
            "text/plain": [
              "{'learning_rate': [0.2, 0.4, 0.6],\n",
              " 'max_depth': [5, 8, 10],\n",
              " 'min_samples_': [40, 50],\n",
              " 'n_estimators': [80, 150, 200]}"
            ]
          },
          "execution_count": null,
          "metadata": {},
          "output_type": "execute_result"
        }
      ],
      "source": [
        "param_xgb"
      ]
    },
    {
      "cell_type": "code",
      "execution_count": null,
      "metadata": {
        "colab": {
          "background_save": true
        },
        "id": "lbhtWUoWYAU7",
        "outputId": "c7a3291c-bc3d-4712-de1a-fb971c160dee"
      },
      "outputs": [
        {
          "name": "stdout",
          "output_type": "stream",
          "text": [
            "Fitting 3 folds for each of 1 candidates, totalling 3 fits\n",
            "[15:54:49] WARNING: /workspace/src/objective/regression_obj.cu:152: reg:linear is now deprecated in favor of reg:squarederror.\n",
            "[15:55:33] WARNING: /workspace/src/objective/regression_obj.cu:152: reg:linear is now deprecated in favor of reg:squarederror.\n",
            "[15:56:19] WARNING: /workspace/src/objective/regression_obj.cu:152: reg:linear is now deprecated in favor of reg:squarederror.\n",
            "[15:57:03] WARNING: /workspace/src/objective/regression_obj.cu:152: reg:linear is now deprecated in favor of reg:squarederror.\n"
          ]
        },
        {
          "data": {
            "text/plain": [
              "GridSearchCV(cv=3, estimator=XGBRegressor(tree_method='hist'),\n",
              "             param_grid={'learning_rate': [0.2], 'max_depth': [8],\n",
              "                         'min_samples_': [40], 'n_estimators': [200]},\n",
              "             scoring='r2', verbose=1)"
            ]
          },
          "execution_count": null,
          "metadata": {},
          "output_type": "execute_result"
        }
      ],
      "source": [
        "import xgboost as xgb\n",
        "xgb_model = xgb.XGBRegressor(tree_method = 'hist')\n",
        "\n",
        "# Grid search\n",
        "xgb_grid = GridSearchCV(estimator=xgb_model,\n",
        "                        param_grid = cache,\n",
        "                        cv = 3, verbose=1,\n",
        "                        scoring=\"r2\")\n",
        "\n",
        "xgb_grid.fit(X_train,y_train)"
      ]
    },
    {
      "cell_type": "code",
      "execution_count": null,
      "metadata": {
        "colab": {
          "background_save": true
        },
        "id": "xd0Uy10PbLdy",
        "outputId": "03d857e5-bb5e-47c7-d59c-85564ad0cbd5"
      },
      "outputs": [
        {
          "data": {
            "text/plain": [
              "0.8110850063508224"
            ]
          },
          "execution_count": null,
          "metadata": {},
          "output_type": "execute_result"
        }
      ],
      "source": [
        "xgb_grid.best_score_"
      ]
    },
    {
      "cell_type": "code",
      "execution_count": null,
      "metadata": {
        "colab": {
          "background_save": true
        },
        "id": "ErtErbsmbSUj",
        "outputId": "d5130d49-e3c6-4367-8a61-71c4bb7e315f"
      },
      "outputs": [
        {
          "data": {
            "text/plain": [
              "{'learning_rate': 0.2, 'max_depth': 8, 'min_samples_': 40, 'n_estimators': 200}"
            ]
          },
          "execution_count": null,
          "metadata": {},
          "output_type": "execute_result"
        }
      ],
      "source": [
        "xgb_grid.best_params_"
      ]
    },
    {
      "cell_type": "code",
      "execution_count": null,
      "metadata": {
        "colab": {
          "background_save": true
        },
        "id": "pwimmHj0bWXT"
      },
      "outputs": [],
      "source": [
        "y_pred_xgb_train=xgb_grid.predict(X_train)"
      ]
    },
    {
      "cell_type": "code",
      "execution_count": null,
      "metadata": {
        "colab": {
          "background_save": true
        },
        "id": "hC4JLj_5bXIa"
      },
      "outputs": [],
      "source": [
        "y_pred_xgb_test=xgb_grid.predict(X_test)"
      ]
    },
    {
      "cell_type": "markdown",
      "metadata": {
        "id": "uXW-bY2kbcMj"
      },
      "source": [
        "# **Model Evaluation:**"
      ]
    },
    {
      "cell_type": "code",
      "execution_count": null,
      "metadata": {
        "colab": {
          "background_save": true
        },
        "id": "lIwGJDw-bf7K",
        "outputId": "cb9832b3-a2f2-47ce-e92c-1281f57f92d8"
      },
      "outputs": [
        {
          "name": "stdout",
          "output_type": "stream",
          "text": [
            "Train MSE : 0.012499508313498485\n",
            "Train RMSE : 0.11180119996448377\n",
            "Train R2 : 0.8316199484757004\n",
            "Train Adjusted R2 :  0.8316173483414413\n"
          ]
        }
      ],
      "source": [
        "xgb_train_mse  = mean_squared_error(y_train, y_pred_xgb_train)\n",
        "print(\"Train MSE :\" , xgb_train_mse)\n",
        "\n",
        "xgb_train_rmse = np.sqrt(xgb_train_mse)\n",
        "print(\"Train RMSE :\" ,xgb_train_rmse)\n",
        "\n",
        "xgb_train_r2 = r2_score(y_train, y_pred_xgb_train)\n",
        "print(\"Train R2 :\" ,xgb_train_r2)\n",
        "\n",
        "xgb_train_r2_= 1-(1-r2_score((y_train), (y_pred_xgb_train)))*((X_train.shape[0]-1)/(X_train.shape[0]-X_train.shape[1]-1))\n",
        "print(\"Train Adjusted R2 : \", xgb_train_r2_)"
      ]
    },
    {
      "cell_type": "code",
      "execution_count": null,
      "metadata": {
        "colab": {
          "background_save": true
        },
        "id": "XwkA7VQLbkYF",
        "outputId": "a243cbcb-34aa-4f9e-af84-261dfcee99cd"
      },
      "outputs": [
        {
          "name": "stdout",
          "output_type": "stream",
          "text": [
            "Test MSE : 0.01387083708097964\n",
            "Test RMSE : 0.11777451796114319\n",
            "Test R2 : 0.8133232615259292\n",
            "Test Adjusted R2 :  0.8133146132501788\n"
          ]
        }
      ],
      "source": [
        "xgb_test_mse  = mean_squared_error(y_test, y_pred_xgb_test)\n",
        "print(\"Test MSE :\" , xgb_test_mse)\n",
        "\n",
        "xgb_test_rmse = np.sqrt(xgb_test_mse)\n",
        "print(\"Test RMSE :\" ,xgb_test_rmse)\n",
        "\n",
        "xgb_test_r2 = r2_score(y_test, y_pred_xgb_test)\n",
        "print(\"Test R2 :\" ,xgb_test_r2)\n",
        "\n",
        "xgb_test_r2_= 1-(1-r2_score((y_test), (y_pred_xgb_test)))*((X_test.shape[0]-1)/(X_test.shape[0]-X_test.shape[1]-1))\n",
        "print(\"Test Adjusted R2 : \", xgb_test_r2_)"
      ]
    },
    {
      "cell_type": "code",
      "execution_count": null,
      "metadata": {
        "colab": {
          "background_save": true
        },
        "id": "rJCpCJfzbtI7",
        "outputId": "cda9a590-f4eb-4acf-8aea-c88f09c1ae81"
      },
      "outputs": [
        {
          "data": {
            "image/png": "[encoded data removed]",
            "text/plain": [
              "<Figure size 720x360 with 1 Axes>"
            ]
          },
          "metadata": {},
          "output_type": "display_data"
        }
      ],
      "source": [
        "#Actual vs Prediction\n",
        "plt.figure(figsize= (10,5))\n",
        "c= [i for i in range(0, len(y_test))]\n",
        "plt.plot(c, y_test, color='blue', linewidth=2.5, linestyle='-')\n",
        "plt.plot(c, y_pred_xgb_test, color='red', linewidth=2.5, linestyle='-')\n",
        "plt.title('Actual vs Predicted for Test Data', fontsize=20)\n",
        "plt.legend([\"Actual\", \"Predicted\"])\n",
        "plt.show()"
      ]
    },
    {
      "cell_type": "code",
      "execution_count": null,
      "metadata": {
        "colab": {
          "background_save": true
        },
        "id": "4c7TC9_Sbwl0",
        "outputId": "dbbe3848-4c65-4a66-e364-c3a3394776a6"
      },
      "outputs": [
        {
          "data": {
            "image/png": "[encoded data removed]",
            "text/plain": [
              "<Figure size 720x360 with 1 Axes>"
            ]
          },
          "metadata": {},
          "output_type": "display_data"
        }
      ],
      "source": [
        "plt.figure(figsize= (10,5))\n",
        "c= [i for i in range(0, len(y_test))]\n",
        "plt.plot(c, y_test-y_pred_xgb_test, color='blue', linewidth=2.5, linestyle='-')\n",
        "plt.title('Error Term', fontsize=20)\n",
        "plt.show()"
      ]
    },
    {
      "cell_type": "markdown",
      "metadata": {
        "id": "4RJtd8pObzpr"
      },
      "source": [
        "**Finally, let's also look the feature importance.**"
      ]
    },
    {
      "cell_type": "code",
      "execution_count": null,
      "metadata": {
        "colab": {
          "background_save": true
        },
        "id": "z2EYTtGDb1do",
        "outputId": "94da01c0-f3d4-4e71-8d51-2b9f97e0b40a"
      },
      "outputs": [
        {
          "data": {
            "text/html": [
              "\n",
              "  <div id=\"df-bbe5a131-f894-4cba-8b11-912b657385ee\">\n",
              "    <div class=\"colab-df-container\">\n",
              "      <div>\n",
              "<style scoped>\n",
              "    .dataframe tbody tr th:only-of-type {\n",
              "        vertical-align: middle;\n",
              "    }\n",
              "\n",
              "    .dataframe tbody tr th {\n",
              "        vertical-align: top;\n",
              "    }\n",
              "\n",
              "    .dataframe thead th {\n",
              "        text-align: right;\n",
              "    }\n",
              "</style>\n",
              "<table border=\"1\" class=\"dataframe\">\n",
              "  <thead>\n",
              "    <tr style=\"text-align: right;\">\n",
              "      <th></th>\n",
              "      <th>Features</th>\n",
              "      <th>Feature_importance</th>\n",
              "    </tr>\n",
              "  </thead>\n",
              "  <tbody>\n",
              "    <tr>\n",
              "      <th>0</th>\n",
              "      <td>passenger_count</td>\n",
              "      <td>0.002319</td>\n",
              "    </tr>\n",
              "    <tr>\n",
              "      <th>1</th>\n",
              "      <td>pickup_longitude</td>\n",
              "      <td>0.018290</td>\n",
              "    </tr>\n",
              "    <tr>\n",
              "      <th>2</th>\n",
              "      <td>pickup_latitude</td>\n",
              "      <td>0.017295</td>\n",
              "    </tr>\n",
              "    <tr>\n",
              "      <th>3</th>\n",
              "      <td>dropoff_longitude</td>\n",
              "      <td>0.019185</td>\n",
              "    </tr>\n",
              "    <tr>\n",
              "      <th>4</th>\n",
              "      <td>dropoff_latitude</td>\n",
              "      <td>0.034566</td>\n",
              "    </tr>\n",
              "    <tr>\n",
              "      <th>5</th>\n",
              "      <td>pickup_hour</td>\n",
              "      <td>0.072013</td>\n",
              "    </tr>\n",
              "    <tr>\n",
              "      <th>6</th>\n",
              "      <td>month</td>\n",
              "      <td>0.011388</td>\n",
              "    </tr>\n",
              "    <tr>\n",
              "      <th>7</th>\n",
              "      <td>distance</td>\n",
              "      <td>0.559123</td>\n",
              "    </tr>\n",
              "    <tr>\n",
              "      <th>8</th>\n",
              "      <td>pickup_weekday_Monday</td>\n",
              "      <td>0.047594</td>\n",
              "    </tr>\n",
              "    <tr>\n",
              "      <th>9</th>\n",
              "      <td>pickup_weekday_Saturday</td>\n",
              "      <td>0.073129</td>\n",
              "    </tr>\n",
              "    <tr>\n",
              "      <th>10</th>\n",
              "      <td>pickup_weekday_Sunday</td>\n",
              "      <td>0.105880</td>\n",
              "    </tr>\n",
              "    <tr>\n",
              "      <th>11</th>\n",
              "      <td>pickup_weekday_Thursday</td>\n",
              "      <td>0.011579</td>\n",
              "    </tr>\n",
              "    <tr>\n",
              "      <th>12</th>\n",
              "      <td>pickup_weekday_Tuesday</td>\n",
              "      <td>0.014999</td>\n",
              "    </tr>\n",
              "    <tr>\n",
              "      <th>13</th>\n",
              "      <td>pickup_weekday_Wednesday</td>\n",
              "      <td>0.012640</td>\n",
              "    </tr>\n",
              "  </tbody>\n",
              "</table>\n",
              "</div>\n",
              "      <button class=\"colab-df-convert\" onclick=\"convertToInteractive('df-bbe5a131-f894-4cba-8b11-912b657385ee')\"\n",
              "              title=\"Convert this dataframe to an interactive table.\"\n",
              "              style=\"display:none;\">\n",
              "        \n",
              "  <svg xmlns=\"http://www.w3.org/2000/svg\" height=\"24px\"viewBox=\"0 0 24 24\"\n",
              "       width=\"24px\">\n",
              "    <path d=\"M0 0h24v24H0V0z\" fill=\"none\"/>\n",
              "    <path d=\"M18.56 5.44l.94 2.06.94-2.06 2.06-.94-2.06-.94-.94-2.06-.94 2.06-2.06.94zm-11 1L8.5 8.5l.94-2.06 2.06-.94-2.06-.94L8.5 2.5l-.94 2.06-2.06.94zm10 10l.94 2.06.94-2.06 2.06-.94-2.06-.94-.94-2.06-.94 2.06-2.06.94z\"/><path d=\"M17.41 7.96l-1.37-1.37c-.4-.4-.92-.59-1.43-.59-.52 0-1.04.2-1.43.59L10.3 9.45l-7.72 7.72c-.78.78-.78 2.05 0 2.83L4 21.41c.39.39.9.59 1.41.59.51 0 1.02-.2 1.41-.59l7.78-7.78 2.81-2.81c.8-.78.8-2.07 0-2.86zM5.41 20L4 18.59l7.72-7.72 1.47 1.35L5.41 20z\"/>\n",
              "  </svg>\n",
              "      </button>\n",
              "      \n",
              "  <style>\n",
              "    .colab-df-container {\n",
              "      display:flex;\n",
              "      flex-wrap:wrap;\n",
              "      gap: 12px;\n",
              "    }\n",
              "\n",
              "    .colab-df-convert {\n",
              "      background-color: #E8F0FE;\n",
              "      border: none;\n",
              "      border-radius: 50%;\n",
              "      cursor: pointer;\n",
              "      display: none;\n",
              "      fill: #1967D2;\n",
              "      height: 32px;\n",
              "      padding: 0 0 0 0;\n",
              "      width: 32px;\n",
              "    }\n",
              "\n",
              "    .colab-df-convert:hover {\n",
              "      background-color: #E2EBFA;\n",
              "      box-shadow: 0px 1px 2px rgba(60, 64, 67, 0.3), 0px 1px 3px 1px rgba(60, 64, 67, 0.15);\n",
              "      fill: #174EA6;\n",
              "    }\n",
              "\n",
              "    [theme=dark] .colab-df-convert {\n",
              "      background-color: #3B4455;\n",
              "      fill: #D2E3FC;\n",
              "    }\n",
              "\n",
              "    [theme=dark] .colab-df-convert:hover {\n",
              "      background-color: #434B5C;\n",
              "      box-shadow: 0px 1px 3px 1px rgba(0, 0, 0, 0.15);\n",
              "      filter: drop-shadow(0px 1px 2px rgba(0, 0, 0, 0.3));\n",
              "      fill: #FFFFFF;\n",
              "    }\n",
              "  </style>\n",
              "\n",
              "      <script>\n",
              "        const buttonEl =\n",
              "          document.querySelector('#df-bbe5a131-f894-4cba-8b11-912b657385ee button.colab-df-convert');\n",
              "        buttonEl.style.display =\n",
              "          google.colab.kernel.accessAllowed ? 'block' : 'none';\n",
              "\n",
              "        async function convertToInteractive(key) {\n",
              "          const element = document.querySelector('#df-bbe5a131-f894-4cba-8b11-912b657385ee');\n",
              "          const dataTable =\n",
              "            await google.colab.kernel.invokeFunction('convertToInteractive',\n",
              "                                                     [key], {});\n",
              "          if (!dataTable) return;\n",
              "\n",
              "          const docLinkHtml = 'Like what you see? Visit the ' +\n",
              "            '<a target=\"_blank\" href=https://colab.research.google.com/notebooks/data_table.ipynb>data table notebook</a>'\n",
              "            + ' to learn more about interactive tables.';\n",
              "          element.innerHTML = '';\n",
              "          dataTable['output_type'] = 'display_data';\n",
              "          await google.colab.output.renderOutput(dataTable, element);\n",
              "          const docLink = document.createElement('div');\n",
              "          docLink.innerHTML = docLinkHtml;\n",
              "          element.appendChild(docLink);\n",
              "        }\n",
              "      </script>\n",
              "    </div>\n",
              "  </div>\n",
              "  "
            ],
            "text/plain": [
              "                    Features  Feature_importance\n",
              "0            passenger_count            0.002319\n",
              "1           pickup_longitude            0.018290\n",
              "2            pickup_latitude            0.017295\n",
              "3          dropoff_longitude            0.019185\n",
              "4           dropoff_latitude            0.034566\n",
              "5                pickup_hour            0.072013\n",
              "6                      month            0.011388\n",
              "7                   distance            0.559123\n",
              "8      pickup_weekday_Monday            0.047594\n",
              "9    pickup_weekday_Saturday            0.073129\n",
              "10     pickup_weekday_Sunday            0.105880\n",
              "11   pickup_weekday_Thursday            0.011579\n",
              "12    pickup_weekday_Tuesday            0.014999\n",
              "13  pickup_weekday_Wednesday            0.012640"
            ]
          },
          "execution_count": null,
          "metadata": {},
          "output_type": "execute_result"
        }
      ],
      "source": [
        "importance_df= pd.DataFrame({'Features': features, 'Feature_importance': list(xgb_grid.best_estimator_.feature_importances_)})\n",
        "importance_df"
      ]
    },
    {
      "cell_type": "code",
      "execution_count": null,
      "metadata": {
        "colab": {
          "background_save": true
        },
        "id": "6b80OcyJcCPU",
        "outputId": "86d031c4-7225-41e9-ecd7-4b86823ac90f"
      },
      "outputs": [
        {
          "data": {
            "image/png": "[encoded data removed]",
            "text/plain": [
              "<Figure size 1080x432 with 1 Axes>"
            ]
          },
          "metadata": {},
          "output_type": "display_data"
        }
      ],
      "source": [
        "# plotting feature importance\n",
        "\n",
        "plt.figure(figsize=(15,6))\n",
        "plt.title('Feature Importance', fontsize=20)\n",
        "sns.barplot(x='Features',y=\"Feature_importance\", data=importance_df[6:12])\n",
        "plt.show()"
      ]
    },
    {
      "cell_type": "markdown",
      "metadata": {
        "id": "eO0nkBGidofz"
      },
      "source": [
        "Clearly, we can see distance is the top contributor to trip duration followed by different days of the weeks.\n",
        "\n"
      ]
    },
    {
      "cell_type": "markdown",
      "metadata": {
        "id": "HMQCfq1jd2bZ"
      },
      "source": [
        "# **Evaluating the models:**"
      ]
    },
    {
      "cell_type": "markdown",
      "metadata": {
        "id": "Dn16MU-bf2ay"
      },
      "source": [
        "**Models Summary for the Train data:**"
      ]
    },
    {
      "cell_type": "code",
      "execution_count": null,
      "metadata": {
        "colab": {
          "background_save": true
        },
        "id": "sEDcg1-KiHCF"
      },
      "outputs": [],
      "source": [
        "models= ['Linear Regression', 'Lasso Regression', 'Ridge Regression','DecisionTree Regressor','XGBoost Regressor']\n",
        "train_mse= [lr_train_mse, lasso_train_mse, ridge_train_mse, dt_train_mse, xgb_train_mse]\n",
        "train_rmse= [lr_train_rmse, lasso_train_rmse, ridge_train_rmse, dt_train_rmse, xgb_train_rmse]\n",
        "train_r2= [lr_train_r2, lasso_train_r2, ridge_train_r2, dt_train_r2, xgb_train_r2]\n",
        "train_adjusted_r2= [lr_train_r2_, lasso_train_r2_, ridge_train_r2_, dt_train_r2_, xgb_train_r2_]"
      ]
    },
    {
      "cell_type": "markdown",
      "metadata": {
        "id": "vd5UAaFfiL_S"
      },
      "source": [
        "** Models Summary for the test data:**"
      ]
    },
    {
      "cell_type": "code",
      "execution_count": null,
      "metadata": {
        "colab": {
          "background_save": true
        },
        "id": "Y8sgRD-DiRCx"
      },
      "outputs": [],
      "source": [
        "models= ['Linear Regression', 'Lasso Regression', 'Ridge Regression','DecisionTree Regressor','XGBoost Regressor']\n",
        "test_mse= [lr_test_mse, lasso_test_mse, ridge_test_mse, dt_test_mse, xgb_test_mse]\n",
        "test_rmse= [lr_test_rmse, lasso_test_rmse, ridge_test_rmse, dt_test_rmse, xgb_test_rmse]\n",
        "test_r2= [lr_test_r2, lasso_test_r2, ridge_test_r2, dt_test_r2, xgb_test_r2]\n",
        "test_adjusted_r2= [lr_test_r2_, lasso_test_r2_, ridge_test_r2_, dt_test_r2_, xgb_test_r2_]"
      ]
    },
    {
      "cell_type": "code",
      "execution_count": null,
      "metadata": {
        "colab": {
          "background_save": true
        },
        "id": "s1tQJ43yiUlT",
        "outputId": "baa0e3f6-4658-4f74-877e-bcbeaeb50b77"
      },
      "outputs": [
        {
          "data": {
            "text/html": [
              "\n",
              "  <div id=\"df-56e270f3-06e2-4e0d-9a64-708344606f52\">\n",
              "    <div class=\"colab-df-container\">\n",
              "      <div>\n",
              "<style scoped>\n",
              "    .dataframe tbody tr th:only-of-type {\n",
              "        vertical-align: middle;\n",
              "    }\n",
              "\n",
              "    .dataframe tbody tr th {\n",
              "        vertical-align: top;\n",
              "    }\n",
              "\n",
              "    .dataframe thead th {\n",
              "        text-align: right;\n",
              "    }\n",
              "</style>\n",
              "<table border=\"1\" class=\"dataframe\">\n",
              "  <thead>\n",
              "    <tr style=\"text-align: right;\">\n",
              "      <th></th>\n",
              "      <th>Model Name</th>\n",
              "      <th>Train MSE</th>\n",
              "      <th>Train RMSE</th>\n",
              "      <th>Train R^2</th>\n",
              "      <th>Train Adjusted R^2</th>\n",
              "    </tr>\n",
              "  </thead>\n",
              "  <tbody>\n",
              "    <tr>\n",
              "      <th>0</th>\n",
              "      <td>Linear Regression</td>\n",
              "      <td>0.038937</td>\n",
              "      <td>0.197325</td>\n",
              "      <td>0.475483</td>\n",
              "      <td>0.475475</td>\n",
              "    </tr>\n",
              "    <tr>\n",
              "      <th>1</th>\n",
              "      <td>Lasso Regression</td>\n",
              "      <td>0.038931</td>\n",
              "      <td>0.197309</td>\n",
              "      <td>0.475564</td>\n",
              "      <td>0.475556</td>\n",
              "    </tr>\n",
              "    <tr>\n",
              "      <th>2</th>\n",
              "      <td>Ridge Regression</td>\n",
              "      <td>0.038931</td>\n",
              "      <td>0.197309</td>\n",
              "      <td>0.475564</td>\n",
              "      <td>0.475556</td>\n",
              "    </tr>\n",
              "    <tr>\n",
              "      <th>3</th>\n",
              "      <td>DecisionTree Regressor</td>\n",
              "      <td>0.022142</td>\n",
              "      <td>0.148802</td>\n",
              "      <td>0.701725</td>\n",
              "      <td>0.701721</td>\n",
              "    </tr>\n",
              "    <tr>\n",
              "      <th>4</th>\n",
              "      <td>XGBoost Regressor</td>\n",
              "      <td>0.012500</td>\n",
              "      <td>0.111801</td>\n",
              "      <td>0.831620</td>\n",
              "      <td>0.831617</td>\n",
              "    </tr>\n",
              "  </tbody>\n",
              "</table>\n",
              "</div>\n",
              "      <button class=\"colab-df-convert\" onclick=\"convertToInteractive('df-56e270f3-06e2-4e0d-9a64-708344606f52')\"\n",
              "              title=\"Convert this dataframe to an interactive table.\"\n",
              "              style=\"display:none;\">\n",
              "        \n",
              "  <svg xmlns=\"http://www.w3.org/2000/svg\" height=\"24px\"viewBox=\"0 0 24 24\"\n",
              "       width=\"24px\">\n",
              "    <path d=\"M0 0h24v24H0V0z\" fill=\"none\"/>\n",
              "    <path d=\"M18.56 5.44l.94 2.06.94-2.06 2.06-.94-2.06-.94-.94-2.06-.94 2.06-2.06.94zm-11 1L8.5 8.5l.94-2.06 2.06-.94-2.06-.94L8.5 2.5l-.94 2.06-2.06.94zm10 10l.94 2.06.94-2.06 2.06-.94-2.06-.94-.94-2.06-.94 2.06-2.06.94z\"/><path d=\"M17.41 7.96l-1.37-1.37c-.4-.4-.92-.59-1.43-.59-.52 0-1.04.2-1.43.59L10.3 9.45l-7.72 7.72c-.78.78-.78 2.05 0 2.83L4 21.41c.39.39.9.59 1.41.59.51 0 1.02-.2 1.41-.59l7.78-7.78 2.81-2.81c.8-.78.8-2.07 0-2.86zM5.41 20L4 18.59l7.72-7.72 1.47 1.35L5.41 20z\"/>\n",
              "  </svg>\n",
              "      </button>\n",
              "      \n",
              "  <style>\n",
              "    .colab-df-container {\n",
              "      display:flex;\n",
              "      flex-wrap:wrap;\n",
              "      gap: 12px;\n",
              "    }\n",
              "\n",
              "    .colab-df-convert {\n",
              "      background-color: #E8F0FE;\n",
              "      border: none;\n",
              "      border-radius: 50%;\n",
              "      cursor: pointer;\n",
              "      display: none;\n",
              "      fill: #1967D2;\n",
              "      height: 32px;\n",
              "      padding: 0 0 0 0;\n",
              "      width: 32px;\n",
              "    }\n",
              "\n",
              "    .colab-df-convert:hover {\n",
              "      background-color: #E2EBFA;\n",
              "      box-shadow: 0px 1px 2px rgba(60, 64, 67, 0.3), 0px 1px 3px 1px rgba(60, 64, 67, 0.15);\n",
              "      fill: #174EA6;\n",
              "    }\n",
              "\n",
              "    [theme=dark] .colab-df-convert {\n",
              "      background-color: #3B4455;\n",
              "      fill: #D2E3FC;\n",
              "    }\n",
              "\n",
              "    [theme=dark] .colab-df-convert:hover {\n",
              "      background-color: #434B5C;\n",
              "      box-shadow: 0px 1px 3px 1px rgba(0, 0, 0, 0.15);\n",
              "      filter: drop-shadow(0px 1px 2px rgba(0, 0, 0, 0.3));\n",
              "      fill: #FFFFFF;\n",
              "    }\n",
              "  </style>\n",
              "\n",
              "      <script>\n",
              "        const buttonEl =\n",
              "          document.querySelector('#df-56e270f3-06e2-4e0d-9a64-708344606f52 button.colab-df-convert');\n",
              "        buttonEl.style.display =\n",
              "          google.colab.kernel.accessAllowed ? 'block' : 'none';\n",
              "\n",
              "        async function convertToInteractive(key) {\n",
              "          const element = document.querySelector('#df-56e270f3-06e2-4e0d-9a64-708344606f52');\n",
              "          const dataTable =\n",
              "            await google.colab.kernel.invokeFunction('convertToInteractive',\n",
              "                                                     [key], {});\n",
              "          if (!dataTable) return;\n",
              "\n",
              "          const docLinkHtml = 'Like what you see? Visit the ' +\n",
              "            '<a target=\"_blank\" href=https://colab.research.google.com/notebooks/data_table.ipynb>data table notebook</a>'\n",
              "            + ' to learn more about interactive tables.';\n",
              "          element.innerHTML = '';\n",
              "          dataTable['output_type'] = 'display_data';\n",
              "          await google.colab.output.renderOutput(dataTable, element);\n",
              "          const docLink = document.createElement('div');\n",
              "          docLink.innerHTML = docLinkHtml;\n",
              "          element.appendChild(docLink);\n",
              "        }\n",
              "      </script>\n",
              "    </div>\n",
              "  </div>\n",
              "  "
            ],
            "text/plain": [
              "               Model Name  Train MSE  Train RMSE  Train R^2  \\\n",
              "0       Linear Regression   0.038937    0.197325   0.475483   \n",
              "1        Lasso Regression   0.038931    0.197309   0.475564   \n",
              "2        Ridge Regression   0.038931    0.197309   0.475564   \n",
              "3  DecisionTree Regressor   0.022142    0.148802   0.701725   \n",
              "4       XGBoost Regressor   0.012500    0.111801   0.831620   \n",
              "\n",
              "   Train Adjusted R^2  \n",
              "0            0.475475  \n",
              "1            0.475556  \n",
              "2            0.475556  \n",
              "3            0.701721  \n",
              "4            0.831617  "
            ]
          },
          "execution_count": null,
          "metadata": {},
          "output_type": "execute_result"
        }
      ],
      "source": [
        "Train_data_df=pd.DataFrame({'Model Name': models, 'Train MSE': train_mse, 'Train RMSE': train_rmse, 'Train R^2': train_r2, \n",
        "                            'Train Adjusted R^2': train_adjusted_r2})\n",
        "Train_data_df"
      ]
    },
    {
      "cell_type": "code",
      "execution_count": null,
      "metadata": {
        "colab": {
          "background_save": true
        },
        "id": "zqigPR2RiXIT",
        "outputId": "0ccc1467-1fbc-498d-8160-43ab6131fb5e"
      },
      "outputs": [
        {
          "data": {
            "text/html": [
              "\n",
              "  <div id=\"df-fc7dfb5b-0de9-4e75-9ec3-f27dabfa7b65\">\n",
              "    <div class=\"colab-df-container\">\n",
              "      <div>\n",
              "<style scoped>\n",
              "    .dataframe tbody tr th:only-of-type {\n",
              "        vertical-align: middle;\n",
              "    }\n",
              "\n",
              "    .dataframe tbody tr th {\n",
              "        vertical-align: top;\n",
              "    }\n",
              "\n",
              "    .dataframe thead th {\n",
              "        text-align: right;\n",
              "    }\n",
              "</style>\n",
              "<table border=\"1\" class=\"dataframe\">\n",
              "  <thead>\n",
              "    <tr style=\"text-align: right;\">\n",
              "      <th></th>\n",
              "      <th>Model Name</th>\n",
              "      <th>Test MSE</th>\n",
              "      <th>Test RMSE</th>\n",
              "      <th>Test R^2</th>\n",
              "      <th>Test Adjusted R^2</th>\n",
              "    </tr>\n",
              "  </thead>\n",
              "  <tbody>\n",
              "    <tr>\n",
              "      <th>0</th>\n",
              "      <td>Linear Regression</td>\n",
              "      <td>0.039010</td>\n",
              "      <td>0.197508</td>\n",
              "      <td>0.475002</td>\n",
              "      <td>0.474977</td>\n",
              "    </tr>\n",
              "    <tr>\n",
              "      <th>1</th>\n",
              "      <td>Lasso Regression</td>\n",
              "      <td>0.039005</td>\n",
              "      <td>0.197497</td>\n",
              "      <td>0.475060</td>\n",
              "      <td>0.475036</td>\n",
              "    </tr>\n",
              "    <tr>\n",
              "      <th>2</th>\n",
              "      <td>Ridge Regression</td>\n",
              "      <td>0.039005</td>\n",
              "      <td>0.197497</td>\n",
              "      <td>0.475060</td>\n",
              "      <td>0.475036</td>\n",
              "    </tr>\n",
              "    <tr>\n",
              "      <th>3</th>\n",
              "      <td>DecisionTree Regressor</td>\n",
              "      <td>0.022460</td>\n",
              "      <td>0.149866</td>\n",
              "      <td>0.697732</td>\n",
              "      <td>0.697718</td>\n",
              "    </tr>\n",
              "    <tr>\n",
              "      <th>4</th>\n",
              "      <td>XGBoost Regressor</td>\n",
              "      <td>0.013871</td>\n",
              "      <td>0.117775</td>\n",
              "      <td>0.813323</td>\n",
              "      <td>0.813315</td>\n",
              "    </tr>\n",
              "  </tbody>\n",
              "</table>\n",
              "</div>\n",
              "      <button class=\"colab-df-convert\" onclick=\"convertToInteractive('df-fc7dfb5b-0de9-4e75-9ec3-f27dabfa7b65')\"\n",
              "              title=\"Convert this dataframe to an interactive table.\"\n",
              "              style=\"display:none;\">\n",
              "        \n",
              "  <svg xmlns=\"http://www.w3.org/2000/svg\" height=\"24px\"viewBox=\"0 0 24 24\"\n",
              "       width=\"24px\">\n",
              "    <path d=\"M0 0h24v24H0V0z\" fill=\"none\"/>\n",
              "    <path d=\"M18.56 5.44l.94 2.06.94-2.06 2.06-.94-2.06-.94-.94-2.06-.94 2.06-2.06.94zm-11 1L8.5 8.5l.94-2.06 2.06-.94-2.06-.94L8.5 2.5l-.94 2.06-2.06.94zm10 10l.94 2.06.94-2.06 2.06-.94-2.06-.94-.94-2.06-.94 2.06-2.06.94z\"/><path d=\"M17.41 7.96l-1.37-1.37c-.4-.4-.92-.59-1.43-.59-.52 0-1.04.2-1.43.59L10.3 9.45l-7.72 7.72c-.78.78-.78 2.05 0 2.83L4 21.41c.39.39.9.59 1.41.59.51 0 1.02-.2 1.41-.59l7.78-7.78 2.81-2.81c.8-.78.8-2.07 0-2.86zM5.41 20L4 18.59l7.72-7.72 1.47 1.35L5.41 20z\"/>\n",
              "  </svg>\n",
              "      </button>\n",
              "      \n",
              "  <style>\n",
              "    .colab-df-container {\n",
              "      display:flex;\n",
              "      flex-wrap:wrap;\n",
              "      gap: 12px;\n",
              "    }\n",
              "\n",
              "    .colab-df-convert {\n",
              "      background-color: #E8F0FE;\n",
              "      border: none;\n",
              "      border-radius: 50%;\n",
              "      cursor: pointer;\n",
              "      display: none;\n",
              "      fill: #1967D2;\n",
              "      height: 32px;\n",
              "      padding: 0 0 0 0;\n",
              "      width: 32px;\n",
              "    }\n",
              "\n",
              "    .colab-df-convert:hover {\n",
              "      background-color: #E2EBFA;\n",
              "      box-shadow: 0px 1px 2px rgba(60, 64, 67, 0.3), 0px 1px 3px 1px rgba(60, 64, 67, 0.15);\n",
              "      fill: #174EA6;\n",
              "    }\n",
              "\n",
              "    [theme=dark] .colab-df-convert {\n",
              "      background-color: #3B4455;\n",
              "      fill: #D2E3FC;\n",
              "    }\n",
              "\n",
              "    [theme=dark] .colab-df-convert:hover {\n",
              "      background-color: #434B5C;\n",
              "      box-shadow: 0px 1px 3px 1px rgba(0, 0, 0, 0.15);\n",
              "      filter: drop-shadow(0px 1px 2px rgba(0, 0, 0, 0.3));\n",
              "      fill: #FFFFFF;\n",
              "    }\n",
              "  </style>\n",
              "\n",
              "      <script>\n",
              "        const buttonEl =\n",
              "          document.querySelector('#df-fc7dfb5b-0de9-4e75-9ec3-f27dabfa7b65 button.colab-df-convert');\n",
              "        buttonEl.style.display =\n",
              "          google.colab.kernel.accessAllowed ? 'block' : 'none';\n",
              "\n",
              "        async function convertToInteractive(key) {\n",
              "          const element = document.querySelector('#df-fc7dfb5b-0de9-4e75-9ec3-f27dabfa7b65');\n",
              "          const dataTable =\n",
              "            await google.colab.kernel.invokeFunction('convertToInteractive',\n",
              "                                                     [key], {});\n",
              "          if (!dataTable) return;\n",
              "\n",
              "          const docLinkHtml = 'Like what you see? Visit the ' +\n",
              "            '<a target=\"_blank\" href=https://colab.research.google.com/notebooks/data_table.ipynb>data table notebook</a>'\n",
              "            + ' to learn more about interactive tables.';\n",
              "          element.innerHTML = '';\n",
              "          dataTable['output_type'] = 'display_data';\n",
              "          await google.colab.output.renderOutput(dataTable, element);\n",
              "          const docLink = document.createElement('div');\n",
              "          docLink.innerHTML = docLinkHtml;\n",
              "          element.appendChild(docLink);\n",
              "        }\n",
              "      </script>\n",
              "    </div>\n",
              "  </div>\n",
              "  "
            ],
            "text/plain": [
              "               Model Name  Test MSE  Test RMSE  Test R^2  Test Adjusted R^2\n",
              "0       Linear Regression  0.039010   0.197508  0.475002           0.474977\n",
              "1        Lasso Regression  0.039005   0.197497  0.475060           0.475036\n",
              "2        Ridge Regression  0.039005   0.197497  0.475060           0.475036\n",
              "3  DecisionTree Regressor  0.022460   0.149866  0.697732           0.697718\n",
              "4       XGBoost Regressor  0.013871   0.117775  0.813323           0.813315"
            ]
          },
          "execution_count": null,
          "metadata": {},
          "output_type": "execute_result"
        }
      ],
      "source": [
        "Test_data_df= pd.DataFrame({'Model Name': models, 'Test MSE': test_mse, 'Test RMSE': test_rmse, 'Test R^2': test_r2, \n",
        "                            'Test Adjusted R^2': test_adjusted_r2})\n",
        "Test_data_df"
      ]
    },
    {
      "cell_type": "markdown",
      "metadata": {
        "id": "b3JtnaMSiaCV"
      },
      "source": [
        "# **Conclusion:**"
      ]
    },
    {
      "cell_type": "markdown",
      "metadata": {
        "id": "TS43wgbKidEW"
      },
      "source": [
        "\n",
        "\n",
        "- In our analisys we see that, solo travels are more prefered for busy people in NYC. As a result more taxis are involved,  traffic is really busy during the school and office times.\n",
        "\n",
        "- Traffic rules are really strict for the NYC people, thats why most rides are covered mentaing the speed limit between 10-20 km/h\n",
        "\n",
        "- We see the people use taxy service for most shot rides like shopping, for food, for work etc...\n",
        "\n",
        "\n",
        "- We can see that MSE and RMSE which are the metrics used to evaluate the performance of regression model of **Decision Tree** and **XGBoost Regressor** is not varying much during traing and testing time. Also the R^2 is about same during training and Testing time.\n",
        "\n",
        "- The Linear models don't show good performance on our training and testing environment.\n",
        "\n",
        "- From above table we can conclude that **XGBoost Regressor** is the best models as compare to the other models to predict the trip duration for a particular taxi."
      ]
    },
    {
      "cell_type": "code",
      "source": [
        ""
      ],
      "metadata": {
        "id": "EPBAcM5oFrgg"
      },
      "execution_count": null,
      "outputs": []
    }
  ],
  "metadata": {
    "colab": {
      "collapsed_sections": [],
      "name": "NYC Taxi Trip Time Prediction - Capstone Project.ipynb",
      "provenance": [],
      "authorship_tag": "ABX9TyMVIC8+iAmyT/ttPH5YFsVk",
      "include_colab_link": true
    },
    "kernelspec": {
      "display_name": "Python 3",
      "name": "python3"
    },
    "language_info": {
      "name": "python"
    }
  },
  "nbformat": 4,
  "nbformat_minor": 0
}